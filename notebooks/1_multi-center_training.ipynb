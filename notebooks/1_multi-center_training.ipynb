{
 "cells": [
  {
   "cell_type": "code",
   "execution_count": 1,
   "metadata": {
    "ExecuteTime": {
     "end_time": "2021-06-23T14:58:45.329037Z",
     "start_time": "2021-06-23T14:58:43.575001Z"
    }
   },
   "outputs": [],
   "source": [
    "import sys\n",
    "sys.path.append('../')\n",
    "from PAINTeR import connectivity # in-house lib used for the RPN-signature\n",
    "from PAINTeR import plot # in-house lib used for the RPN-signature\n",
    "from PAINTeR import model # in-house lib used for the RPN-signature\n",
    "import numpy as np # hi old friend\n",
    "import pandas as pd\n",
    "\n",
    "from sklearn.preprocessing import StandardScaler\n",
    "from nilearn.connectome import ConnectivityMeasure\n",
    "\n",
    "from matplotlib.colors import ListedColormap\n",
    "from matplotlib.colors import Normalize\n",
    "import matplotlib.pyplot as plt\n",
    "import seaborn as sns\n",
    "sns.set_style(\"white\")\n",
    "\n",
    "from sklearn.linear_model import ElasticNet, Ridge\n",
    "from sklearn.feature_selection import SelectKBest, f_regression\n",
    "from sklearn import preprocessing\n",
    "from sklearn.pipeline import Pipeline\n",
    "from sklearn.model_selection import LeaveOneOut, KFold, GroupKFold, LeavePGroupsOut\n",
    "from sklearn.metrics import mean_squared_error, mean_absolute_error, median_absolute_error, r2_score, explained_variance_score\n",
    "from sklearn.model_selection import GridSearchCV\n",
    "from sklearn.model_selection import cross_val_predict\n",
    "from sklearn.model_selection import cross_validate\n",
    "\n",
    "import joblib\n",
    "\n",
    "thres_mean_FD = 0.15 # mm\n",
    "scrub_threshold = 0.15 # mm\n",
    "thres_perc_scrub = 30 # % scubbed out\n",
    "\n",
    "# load bochum data\n",
    "df_bochum = pd.read_csv(\"../res/bochum_sample_excl.csv\")\n",
    "df_essen = pd.read_csv(\"../res/essen_sample_excl.csv\")\n",
    "df_szeged = pd.read_csv(\"../res/szeged_sample_excl.csv\")\n",
    "df_bochum['study']='bochum'\n",
    "df_essen['study']='essen'\n",
    "df_szeged['study']='szeged'\n",
    "df=pd.concat((df_bochum, df_essen, df_szeged), sort=False)\n",
    "df=df.reset_index()"
   ]
  },
  {
   "cell_type": "code",
   "execution_count": 2,
   "metadata": {
    "ExecuteTime": {
     "end_time": "2021-06-23T14:58:47.194917Z",
     "start_time": "2021-06-23T14:58:45.331247Z"
    }
   },
   "outputs": [],
   "source": [
    "timeseries = []\n",
    "perc_scrubbed = []\n",
    "for i, f in enumerate(df['ts_file']):\n",
    "    f = '..' + f.split('/..')[1]\n",
    "    f_scrub = f.split('.tsv')[0] + '-scrubbed.tsv'\n",
    "    \n",
    "    ts = pd.read_csv(f_scrub).iloc[:,1:] # here we can omit global signal...\n",
    "    \n",
    "    fd_file = df[\"fd_file\"].values[i]\n",
    "    fd_file = '..' + fd_file.split('/..')[1]\n",
    "    fd = pd.read_csv(fd_file).values.ravel().tolist()\n",
    "    fd = [0] + fd \n",
    "    \n",
    "    perc_scrubbed.append(100 - 100*len(ts.shape)/len(fd) )\n",
    "    timeseries.append(ts.values)\n",
    "    \n",
    "#region names\n",
    "labels=ts.columns.values\n",
    "l = pd.read_csv('../data/atlas_relabeled.tsv', sep=\"\\t\")\n",
    "modules=np.insert(l['modules'].values, 0, \"GlobSig\")"
   ]
  },
  {
   "cell_type": "code",
   "execution_count": 3,
   "metadata": {
    "ExecuteTime": {
     "end_time": "2021-06-23T14:58:47.429583Z",
     "start_time": "2021-06-23T14:58:47.197870Z"
    }
   },
   "outputs": [],
   "source": [
    "correlation_measure = ConnectivityMeasure(kind='partial correlation', vectorize=True, discard_diagonal=True)\n",
    "X = correlation_measure.fit_transform(timeseries) # these are the features\n",
    "mat=correlation_measure.mean_\n",
    "#mat=mat[1:, 1:] #fisrt row and column is global signal\n",
    "mat[range(mat.shape[0]), range(mat.shape[0])] = 0 # zero diag"
   ]
  },
  {
   "cell_type": "code",
   "execution_count": 4,
   "metadata": {
    "ExecuteTime": {
     "end_time": "2021-06-23T14:58:47.436557Z",
     "start_time": "2021-06-23T14:58:47.432644Z"
    }
   },
   "outputs": [],
   "source": [
    "y = df.mean_QST_pain_sensitivity"
   ]
  },
  {
   "cell_type": "code",
   "execution_count": 5,
   "metadata": {
    "ExecuteTime": {
     "end_time": "2021-06-23T14:58:48.623465Z",
     "start_time": "2021-06-23T14:58:47.439385Z"
    }
   },
   "outputs": [
    {
     "data": {
      "image/png": "[encoded data removed]",
      "text/plain": [
       "<Figure size 864x21.6 with 2 Axes>"
      ]
     },
     "metadata": {
      "needs_background": "light"
     },
     "output_type": "display_data"
    },
    {
     "name": "stdout",
     "output_type": "stream",
     "text": [
      "35 37 19\n"
     ]
    },
    {
     "data": {
      "image/png": "[encoded data removed]",
      "text/plain": [
       "<Figure size 864x21.6 with 2 Axes>"
      ]
     },
     "metadata": {
      "needs_background": "light"
     },
     "output_type": "display_data"
    },
    {
     "data": {
      "text/plain": [
       "array([ 0,  1,  2,  3,  4,  5,  6,  7,  8,  9, 10, 11, 12, 13, 14, 15, 16,\n",
       "       17, 18, 19, 20, 21, 22, 23, 24, 25, 26, 27, 28, 29, 30, 31, 32, 33,\n",
       "       34,  0,  1,  2,  3,  4,  5,  6,  7,  8,  9, 10, 11, 12, 13, 14, 15,\n",
       "       16, 17, 18, 19, 20, 21, 22, 23, 24, 25, 26, 27, 28, 29, 30, 31, 32,\n",
       "       33, 34, 35, 36,  0,  1,  2,  3,  4,  5,  6,  7,  8,  9, 10, 11, 12,\n",
       "       13, 14, 15, 16, 17, 18])"
      ]
     },
     "execution_count": 5,
     "metadata": {},
     "output_type": "execute_result"
    }
   ],
   "source": [
    "# create groups to balance-out cross-validations\n",
    "plt.figure(figsize=(12, 0.3))\n",
    "sns.heatmap([df.study.astype(\"category\").cat.codes.values]).set_title('study center')\n",
    "plt.show()\n",
    "n_szeged = np.sum(df.study == 'szeged') # size of the smallest study\n",
    "n_essen = np.sum(df.study == 'essen')\n",
    "n_bochum = np.sum(df.study == 'bochum')\n",
    "print(n_bochum, n_essen, n_szeged)\n",
    "\n",
    "groups=np.zeros(len(df), dtype=int)\n",
    "\n",
    "g=0\n",
    "i=0\n",
    "while i < n_bochum:\n",
    "    groups[i] = g\n",
    "    #groups[i+1] = g\n",
    "    i += 1\n",
    "    g += 1\n",
    "    \n",
    "g=0\n",
    "i=n_bochum\n",
    "while i < n_bochum+n_essen:\n",
    "    groups[i] = g\n",
    "    #groups[i+1] = g\n",
    "    i += 1\n",
    "    g += 1\n",
    "g=0\n",
    "i=n_bochum+n_essen\n",
    "while i < len(df):\n",
    "    groups[i] = g\n",
    "    i += 1\n",
    "    g += 1\n",
    "    \n",
    "plt.figure(figsize=(12, 0.3))\n",
    "sns.heatmap([groups]).set_title('groups')\n",
    "plt.show()\n",
    "\n",
    "groups"
   ]
  },
  {
   "cell_type": "code",
   "execution_count": 6,
   "metadata": {
    "ExecuteTime": {
     "end_time": "2021-06-23T15:09:16.814248Z",
     "start_time": "2021-06-23T14:58:48.626165Z"
    }
   },
   "outputs": [
    {
     "name": "stdout",
     "output_type": "stream",
     "text": [
      "Fitting 30 folds for each of 100 candidates, totalling 3000 fits\n"
     ]
    },
    {
     "name": "stderr",
     "output_type": "stream",
     "text": [
      "[Parallel(n_jobs=-1)]: Using backend LokyBackend with 8 concurrent workers.\n",
      "[Parallel(n_jobs=-1)]: Done  34 tasks      | elapsed:    2.9s\n",
      "[Parallel(n_jobs=-1)]: Done 810 tasks      | elapsed:    7.7s\n",
      "[Parallel(n_jobs=-1)]: Done 1992 tasks      | elapsed:  1.4min\n",
      "[Parallel(n_jobs=-1)]: Done 2342 tasks      | elapsed:  1.7min\n",
      "[Parallel(n_jobs=-1)]: Done 2792 tasks      | elapsed: 10.0min\n",
      "[Parallel(n_jobs=-1)]: Done 3000 out of 3000 | elapsed: 10.4min finished\n"
     ]
    },
    {
     "name": "stdout",
     "output_type": "stream",
     "text": [
      "**** Non-nested analysis ****\n",
      "** Best hyperparameters: {'fsel__k': 3000, 'model__alpha': 0.01, 'model__l1_ratio': 0.9999}\n",
      "** Score on full data as training set:\t-0.003398350521029031\n",
      "** Score on mean as model: -0.5655535039999882\n",
      "** Best Non-nested cross-validated score on test:\t-0.28246481163282383\n",
      "XXXXX Explained Variance: 0.5005515665007183\n"
     ]
    },
    {
     "data": {
      "image/png": "[encoded data removed]",
      "text/plain": [
       "<Figure size 432x432 with 3 Axes>"
      ]
     },
     "metadata": {
      "needs_background": "light"
     },
     "output_type": "display_data"
    }
   ],
   "source": [
    "# finalize and save model\n",
    "def pipe_scale_fsel_elnet(scaler=preprocessing.RobustScaler(),\n",
    "                          fsel=SelectKBest(f_regression),\n",
    "                          model=ElasticNet(max_iter=100000),\n",
    "                          p_grid={'fsel__k': [25, 50, 100, 1000, 3000],\n",
    "                              'model__alpha': [0.001, 0.01,  0.1, 1],\n",
    "                              'model__l1_ratio': [0.0001, .25, .5, .75, 0.9999]         \n",
    "                                   }):\n",
    "                 \n",
    "                        \n",
    "    mymodel = Pipeline(\n",
    "        [\n",
    "         ('fsel', fsel),\n",
    "         ('scaler', scaler),\n",
    "         ('model', model)])\n",
    "    return mymodel, p_grid\n",
    "\n",
    "model, p_grid = pipe_scale_fsel_elnet()\n",
    "\n",
    "cv = GroupKFold(30)\n",
    "clf = GridSearchCV(estimator=model, param_grid=p_grid, cv=cv,\n",
    "                   scoring=\"neg_mean_squared_error\", verbose=True, return_train_score=False,\n",
    "                   n_jobs=-1)\n",
    "clf.fit(X, y, groups=groups)\n",
    "print(\"**** Non-nested analysis ****\")\n",
    "print(\"** Best hyperparameters: \" + str(clf.best_params_))\n",
    "\n",
    "print(\"** Score on full data as training set:\\t\" + str(-mean_squared_error(y_pred=clf.best_estimator_.predict(X), y_true=y)))\n",
    "print(\"** Score on mean as model: \" + str(-mean_squared_error(np.repeat(y.mean(), len(y)), y)))\n",
    "print(\"** Best Non-nested cross-validated score on test:\\t\" + str(clf.best_score_))\n",
    "print(\"XXXXX Explained Variance: \" + str(\n",
    "        1 - clf.best_score_ / -mean_squared_error(np.repeat(y.mean(), len(y)), y)))\n",
    "\n",
    "joblib.dump(clf.best_estimator_, 'model_trained_on_all.joblib')\n",
    "\n",
    "cv_pred = cross_val_predict(clf.best_estimator_, X, y, cv=cv, groups=groups, n_jobs=-1)                                 \n",
    "plot.plot_prediction(y, cv_pred, sd=True, covar=[])\n",
    "\n",
    "#for train_index, test_index in group_kfold.split(X, y, groups):\n",
    "#    #print(\"TRAIN:\", train_index, \"TEST:\", test_index)\n",
    "#    #print(df.study[train_index].values)\n",
    "#    print('test:', df.study[test_index].values)\n",
    "\n"
   ]
  },
  {
   "cell_type": "code",
   "execution_count": 13,
   "metadata": {
    "ExecuteTime": {
     "end_time": "2021-06-24T15:14:40.886684Z",
     "start_time": "2021-06-24T15:14:40.726789Z"
    }
   },
   "outputs": [
    {
     "name": "stdout",
     "output_type": "stream",
     "text": [
      "** Score on mean as model: -0.6023185209428498\n"
     ]
    }
   ],
   "source": [
    "print(\"** MAE on mean as model: \" + str(-mean_absolute_error(np.repeat(y.mean(), len(y)), y)))"
   ]
  },
  {
   "cell_type": "code",
   "execution_count": 7,
   "metadata": {
    "ExecuteTime": {
     "end_time": "2021-06-23T15:09:16.819805Z",
     "start_time": "2021-06-23T15:09:16.816285Z"
    }
   },
   "outputs": [],
   "source": [
    "# save NON-nested cv-predictions\n",
    "np.savetxt(\"../res/multi-center/nonnested_cv_pred_full_GroupKFold30.csv\", cv_pred, delimiter=\",\")"
   ]
  },
  {
   "cell_type": "code",
   "execution_count": 8,
   "metadata": {
    "ExecuteTime": {
     "end_time": "2021-06-23T15:09:16.830533Z",
     "start_time": "2021-06-23T15:09:16.823615Z"
    }
   },
   "outputs": [
    {
     "data": {
      "text/plain": [
       "['../res/multi-center/finalized_model_multi-center.joblib']"
      ]
     },
     "execution_count": 8,
     "metadata": {},
     "output_type": "execute_result"
    }
   ],
   "source": [
    "joblib.dump(clf.best_estimator_, '../res/multi-center/finalized_model_multi-center.joblib')"
   ]
  },
  {
   "cell_type": "markdown",
   "metadata": {
    "ExecuteTime": {
     "end_time": "2021-06-22T17:56:08.835933Z",
     "start_time": "2021-06-22T17:56:08.833544Z"
    }
   },
   "source": [
    "# nested cross-validation"
   ]
  },
  {
   "cell_type": "code",
   "execution_count": 9,
   "metadata": {
    "ExecuteTime": {
     "end_time": "2021-06-23T19:51:36.261744Z",
     "start_time": "2021-06-23T15:09:16.832539Z"
    }
   },
   "outputs": [
    {
     "name": "stdout",
     "output_type": "stream",
     "text": [
      "model\tinner_cv mean score\touter vc score\n",
      "Fitting 30 folds for each of 100 candidates, totalling 3000 fits\n"
     ]
    },
    {
     "name": "stderr",
     "output_type": "stream",
     "text": [
      "[Parallel(n_jobs=-1)]: Using backend LokyBackend with 8 concurrent workers.\n",
      "[Parallel(n_jobs=-1)]: Done 160 tasks      | elapsed:    1.1s\n",
      "[Parallel(n_jobs=-1)]: Done 1360 tasks      | elapsed:    8.1s\n",
      "[Parallel(n_jobs=-1)]: Done 2148 tasks      | elapsed:  1.5min\n",
      "[Parallel(n_jobs=-1)]: Done 2507 tasks      | elapsed:  3.5min\n",
      "[Parallel(n_jobs=-1)]: Done 2957 tasks      | elapsed:  9.6min\n",
      "[Parallel(n_jobs=-1)]: Done 3000 out of 3000 | elapsed:  9.6min finished\n"
     ]
    },
    {
     "name": "stdout",
     "output_type": "stream",
     "text": [
      "cv: 0 {'fsel__k': 3000, 'model__alpha': 0.01, 'model__l1_ratio': 0.75} -0.3561685385466687 -0.18031180807008598\n",
      "Fitting 30 folds for each of 100 candidates, totalling 3000 fits\n"
     ]
    },
    {
     "name": "stderr",
     "output_type": "stream",
     "text": [
      "[Parallel(n_jobs=-1)]: Using backend LokyBackend with 8 concurrent workers.\n",
      "[Parallel(n_jobs=-1)]: Done 100 tasks      | elapsed:    0.7s\n",
      "[Parallel(n_jobs=-1)]: Done 1600 tasks      | elapsed:   10.5s\n",
      "[Parallel(n_jobs=-1)]: Done 2222 tasks      | elapsed:  1.5min\n",
      "[Parallel(n_jobs=-1)]: Done 2581 tasks      | elapsed:  7.8min\n",
      "[Parallel(n_jobs=-1)]: Done 3000 out of 3000 | elapsed:  9.8min finished\n"
     ]
    },
    {
     "name": "stdout",
     "output_type": "stream",
     "text": [
      "cv: 1 {'fsel__k': 1000, 'model__alpha': 0.001, 'model__l1_ratio': 0.9999} -0.3757462780234728 -0.0691621142933269\n",
      "Fitting 30 folds for each of 100 candidates, totalling 3000 fits\n"
     ]
    },
    {
     "name": "stderr",
     "output_type": "stream",
     "text": [
      "[Parallel(n_jobs=-1)]: Using backend LokyBackend with 8 concurrent workers.\n",
      "[Parallel(n_jobs=-1)]: Done 124 tasks      | elapsed:    0.7s\n",
      "[Parallel(n_jobs=-1)]: Done 1024 tasks      | elapsed:    4.3s\n",
      "[Parallel(n_jobs=-1)]: Done 2027 tasks      | elapsed:  1.3min\n",
      "[Parallel(n_jobs=-1)]: Done 2377 tasks      | elapsed:  1.6min\n",
      "[Parallel(n_jobs=-1)]: Done 2827 tasks      | elapsed:  9.9min\n",
      "[Parallel(n_jobs=-1)]: Done 3000 out of 3000 | elapsed: 10.2min finished\n"
     ]
    },
    {
     "name": "stdout",
     "output_type": "stream",
     "text": [
      "cv: 2 {'fsel__k': 3000, 'model__alpha': 0.01, 'model__l1_ratio': 0.75} -0.3910878701822796 -0.10071895684776173\n",
      "Fitting 30 folds for each of 100 candidates, totalling 3000 fits\n"
     ]
    },
    {
     "name": "stderr",
     "output_type": "stream",
     "text": [
      "[Parallel(n_jobs=-1)]: Using backend LokyBackend with 8 concurrent workers.\n",
      "[Parallel(n_jobs=-1)]: Done 124 tasks      | elapsed:    0.7s\n",
      "[Parallel(n_jobs=-1)]: Done 1024 tasks      | elapsed:    5.0s\n",
      "[Parallel(n_jobs=-1)]: Done 2027 tasks      | elapsed:  1.3min\n",
      "[Parallel(n_jobs=-1)]: Done 2377 tasks      | elapsed:  1.6min\n",
      "[Parallel(n_jobs=-1)]: Done 2827 tasks      | elapsed:  9.8min\n",
      "[Parallel(n_jobs=-1)]: Done 3000 out of 3000 | elapsed: 10.1min finished\n"
     ]
    },
    {
     "name": "stdout",
     "output_type": "stream",
     "text": [
      "cv: 3 {'fsel__k': 3000, 'model__alpha': 0.01, 'model__l1_ratio': 0.75} -0.27843070234082157 -0.2352956807691747\n",
      "Fitting 30 folds for each of 100 candidates, totalling 3000 fits\n"
     ]
    },
    {
     "name": "stderr",
     "output_type": "stream",
     "text": [
      "[Parallel(n_jobs=-1)]: Using backend LokyBackend with 8 concurrent workers.\n",
      "[Parallel(n_jobs=-1)]: Done 124 tasks      | elapsed:    0.7s\n",
      "[Parallel(n_jobs=-1)]: Done 1024 tasks      | elapsed:    4.4s\n",
      "[Parallel(n_jobs=-1)]: Done 2027 tasks      | elapsed:  1.3min\n",
      "[Parallel(n_jobs=-1)]: Done 2377 tasks      | elapsed:  1.6min\n",
      "[Parallel(n_jobs=-1)]: Done 2827 tasks      | elapsed: 10.4min\n",
      "[Parallel(n_jobs=-1)]: Done 3000 out of 3000 | elapsed: 10.8min finished\n"
     ]
    },
    {
     "name": "stdout",
     "output_type": "stream",
     "text": [
      "cv: 4 {'fsel__k': 3000, 'model__alpha': 0.001, 'model__l1_ratio': 0.9999} -0.33516839820229044 -0.10189186402930066\n",
      "Fitting 30 folds for each of 100 candidates, totalling 3000 fits\n"
     ]
    },
    {
     "name": "stderr",
     "output_type": "stream",
     "text": [
      "[Parallel(n_jobs=-1)]: Using backend LokyBackend with 8 concurrent workers.\n",
      "[Parallel(n_jobs=-1)]: Done  96 tasks      | elapsed:    0.7s\n",
      "[Parallel(n_jobs=-1)]: Done 1296 tasks      | elapsed:    6.8s\n",
      "[Parallel(n_jobs=-1)]: Done 2141 tasks      | elapsed:  1.4min\n",
      "[Parallel(n_jobs=-1)]: Done 2500 tasks      | elapsed:  3.7min\n",
      "[Parallel(n_jobs=-1)]: Done 2950 tasks      | elapsed: 10.3min\n",
      "[Parallel(n_jobs=-1)]: Done 3000 out of 3000 | elapsed: 10.3min finished\n",
      "[Parallel(n_jobs=-1)]: Using backend LokyBackend with 8 concurrent workers.\n"
     ]
    },
    {
     "name": "stdout",
     "output_type": "stream",
     "text": [
      "cv: 5 {'fsel__k': 1000, 'model__alpha': 0.01, 'model__l1_ratio': 0.75} -0.314070279845082 -0.3952378673295834\n",
      "Fitting 30 folds for each of 100 candidates, totalling 3000 fits\n"
     ]
    },
    {
     "name": "stderr",
     "output_type": "stream",
     "text": [
      "[Parallel(n_jobs=-1)]: Done 124 tasks      | elapsed:    0.7s\n",
      "[Parallel(n_jobs=-1)]: Done 1024 tasks      | elapsed:    4.3s\n",
      "[Parallel(n_jobs=-1)]: Done 2027 tasks      | elapsed:  1.4min\n",
      "[Parallel(n_jobs=-1)]: Done 2377 tasks      | elapsed:  1.6min\n",
      "[Parallel(n_jobs=-1)]: Done 2827 tasks      | elapsed: 10.8min\n",
      "[Parallel(n_jobs=-1)]: Done 3000 out of 3000 | elapsed: 11.1min finished\n"
     ]
    },
    {
     "name": "stdout",
     "output_type": "stream",
     "text": [
      "cv: 6 {'fsel__k': 3000, 'model__alpha': 0.01, 'model__l1_ratio': 0.5} -0.3137721347685468 -0.12473569352687203\n",
      "Fitting 30 folds for each of 100 candidates, totalling 3000 fits\n"
     ]
    },
    {
     "name": "stderr",
     "output_type": "stream",
     "text": [
      "[Parallel(n_jobs=-1)]: Using backend LokyBackend with 8 concurrent workers.\n",
      "[Parallel(n_jobs=-1)]: Done 124 tasks      | elapsed:    0.7s\n",
      "[Parallel(n_jobs=-1)]: Done 1024 tasks      | elapsed:    5.0s\n",
      "[Parallel(n_jobs=-1)]: Done 2027 tasks      | elapsed:  1.4min\n",
      "[Parallel(n_jobs=-1)]: Done 2377 tasks      | elapsed:  1.7min\n",
      "[Parallel(n_jobs=-1)]: Done 2827 tasks      | elapsed:  9.2min\n",
      "[Parallel(n_jobs=-1)]: Done 3000 out of 3000 | elapsed:  9.5min finished\n"
     ]
    },
    {
     "name": "stdout",
     "output_type": "stream",
     "text": [
      "cv: 7 {'fsel__k': 3000, 'model__alpha': 0.01, 'model__l1_ratio': 0.9999} -0.35165214793928506 -0.12838291877990013\n",
      "Fitting 30 folds for each of 100 candidates, totalling 3000 fits\n"
     ]
    },
    {
     "name": "stderr",
     "output_type": "stream",
     "text": [
      "[Parallel(n_jobs=-1)]: Using backend LokyBackend with 8 concurrent workers.\n",
      "[Parallel(n_jobs=-1)]: Done 136 tasks      | elapsed:    0.8s\n",
      "[Parallel(n_jobs=-1)]: Done 1924 tasks      | elapsed:   27.3s\n",
      "[Parallel(n_jobs=-1)]: Done 2238 tasks      | elapsed:  1.1min\n",
      "[Parallel(n_jobs=-1)]: Done 2643 tasks      | elapsed:  7.3min\n",
      "[Parallel(n_jobs=-1)]: Done 3000 out of 3000 | elapsed:  8.8min finished\n",
      "[Parallel(n_jobs=-1)]: Using backend LokyBackend with 8 concurrent workers.\n"
     ]
    },
    {
     "name": "stdout",
     "output_type": "stream",
     "text": [
      "cv: 8 {'fsel__k': 1000, 'model__alpha': 0.01, 'model__l1_ratio': 0.5} -0.38671595696914646 -0.05270121853004112\n",
      "Fitting 30 folds for each of 100 candidates, totalling 3000 fits\n"
     ]
    },
    {
     "name": "stderr",
     "output_type": "stream",
     "text": [
      "[Parallel(n_jobs=-1)]: Done 124 tasks      | elapsed:    0.7s\n",
      "[Parallel(n_jobs=-1)]: Done 1024 tasks      | elapsed:    4.2s\n",
      "[Parallel(n_jobs=-1)]: Done 2027 tasks      | elapsed:  1.2min\n",
      "[Parallel(n_jobs=-1)]: Done 2377 tasks      | elapsed:  1.4min\n",
      "[Parallel(n_jobs=-1)]: Done 2827 tasks      | elapsed:  9.2min\n",
      "[Parallel(n_jobs=-1)]: Done 3000 out of 3000 | elapsed:  9.5min finished\n"
     ]
    },
    {
     "name": "stdout",
     "output_type": "stream",
     "text": [
      "cv: 9 {'fsel__k': 3000, 'model__alpha': 0.001, 'model__l1_ratio': 0.9999} -0.3228851042281764 -0.23854873905342247\n",
      "Fitting 30 folds for each of 100 candidates, totalling 3000 fits\n"
     ]
    },
    {
     "name": "stderr",
     "output_type": "stream",
     "text": [
      "[Parallel(n_jobs=-1)]: Using backend LokyBackend with 8 concurrent workers.\n",
      "[Parallel(n_jobs=-1)]: Done 124 tasks      | elapsed:    0.7s\n",
      "[Parallel(n_jobs=-1)]: Done 1024 tasks      | elapsed:    4.6s\n",
      "[Parallel(n_jobs=-1)]: Done 2026 tasks      | elapsed:  1.3min\n",
      "[Parallel(n_jobs=-1)]: Done 2376 tasks      | elapsed:  1.6min\n",
      "[Parallel(n_jobs=-1)]: Done 2826 tasks      | elapsed:  9.2min\n",
      "[Parallel(n_jobs=-1)]: Done 3000 out of 3000 | elapsed:  9.5min finished\n"
     ]
    },
    {
     "name": "stdout",
     "output_type": "stream",
     "text": [
      "cv: 10 {'fsel__k': 3000, 'model__alpha': 0.001, 'model__l1_ratio': 0.9999} -0.36992782086091053 -0.6129884160808666\n",
      "Fitting 30 folds for each of 100 candidates, totalling 3000 fits\n"
     ]
    },
    {
     "name": "stderr",
     "output_type": "stream",
     "text": [
      "[Parallel(n_jobs=-1)]: Using backend LokyBackend with 8 concurrent workers.\n",
      "[Parallel(n_jobs=-1)]: Done 124 tasks      | elapsed:    0.7s\n",
      "[Parallel(n_jobs=-1)]: Done 1024 tasks      | elapsed:    4.7s\n",
      "[Parallel(n_jobs=-1)]: Done 2027 tasks      | elapsed:  1.3min\n",
      "[Parallel(n_jobs=-1)]: Done 2377 tasks      | elapsed:  1.5min\n",
      "[Parallel(n_jobs=-1)]: Done 2827 tasks      | elapsed: 10.5min\n",
      "[Parallel(n_jobs=-1)]: Done 3000 out of 3000 | elapsed: 10.9min finished\n"
     ]
    },
    {
     "name": "stdout",
     "output_type": "stream",
     "text": [
      "cv: 11 {'fsel__k': 1000, 'model__alpha': 0.001, 'model__l1_ratio': 0.5} -0.3495402691287302 -0.8530515664414103\n",
      "Fitting 30 folds for each of 100 candidates, totalling 3000 fits\n"
     ]
    },
    {
     "name": "stderr",
     "output_type": "stream",
     "text": [
      "[Parallel(n_jobs=-1)]: Using backend LokyBackend with 8 concurrent workers.\n",
      "[Parallel(n_jobs=-1)]: Done 160 tasks      | elapsed:    0.9s\n",
      "[Parallel(n_jobs=-1)]: Done 1360 tasks      | elapsed:    7.1s\n",
      "[Parallel(n_jobs=-1)]: Done 2148 tasks      | elapsed:  1.4min\n",
      "[Parallel(n_jobs=-1)]: Done 2507 tasks      | elapsed:  3.6min\n",
      "[Parallel(n_jobs=-1)]: Done 2957 tasks      | elapsed: 10.0min\n",
      "[Parallel(n_jobs=-1)]: Done 3000 out of 3000 | elapsed: 10.1min finished\n"
     ]
    },
    {
     "name": "stdout",
     "output_type": "stream",
     "text": [
      "cv: 12 {'fsel__k': 1000, 'model__alpha': 0.001, 'model__l1_ratio': 0.25} -0.3193088040449919 -1.0588121466789895\n",
      "Fitting 30 folds for each of 100 candidates, totalling 3000 fits\n"
     ]
    },
    {
     "name": "stderr",
     "output_type": "stream",
     "text": [
      "[Parallel(n_jobs=-1)]: Using backend LokyBackend with 8 concurrent workers.\n",
      "[Parallel(n_jobs=-1)]: Done 124 tasks      | elapsed:    0.9s\n",
      "[Parallel(n_jobs=-1)]: Done 1024 tasks      | elapsed:    5.0s\n",
      "[Parallel(n_jobs=-1)]: Done 2027 tasks      | elapsed:  1.3min\n",
      "[Parallel(n_jobs=-1)]: Done 2377 tasks      | elapsed:  1.6min\n",
      "[Parallel(n_jobs=-1)]: Done 2827 tasks      | elapsed:  9.6min\n",
      "[Parallel(n_jobs=-1)]: Done 3000 out of 3000 | elapsed:  9.9min finished\n"
     ]
    },
    {
     "name": "stdout",
     "output_type": "stream",
     "text": [
      "cv: 13 {'fsel__k': 3000, 'model__alpha': 0.01, 'model__l1_ratio': 0.9999} -0.3142622759792399 -0.5405542456369447\n",
      "Fitting 30 folds for each of 100 candidates, totalling 3000 fits\n"
     ]
    },
    {
     "name": "stderr",
     "output_type": "stream",
     "text": [
      "[Parallel(n_jobs=-1)]: Using backend LokyBackend with 8 concurrent workers.\n",
      "[Parallel(n_jobs=-1)]: Done 124 tasks      | elapsed:    0.7s\n",
      "[Parallel(n_jobs=-1)]: Done 1024 tasks      | elapsed:    5.0s\n",
      "[Parallel(n_jobs=-1)]: Done 2027 tasks      | elapsed:  1.3min\n",
      "[Parallel(n_jobs=-1)]: Done 2377 tasks      | elapsed:  1.6min\n",
      "[Parallel(n_jobs=-1)]: Done 2827 tasks      | elapsed:  9.7min\n",
      "[Parallel(n_jobs=-1)]: Done 3000 out of 3000 | elapsed: 10.0min finished\n"
     ]
    },
    {
     "name": "stdout",
     "output_type": "stream",
     "text": [
      "cv: 14 {'fsel__k': 3000, 'model__alpha': 0.01, 'model__l1_ratio': 0.9999} -0.28094426455166666 -0.05471096356794799\n",
      "Fitting 30 folds for each of 100 candidates, totalling 3000 fits\n"
     ]
    },
    {
     "name": "stderr",
     "output_type": "stream",
     "text": [
      "[Parallel(n_jobs=-1)]: Using backend LokyBackend with 8 concurrent workers.\n",
      "[Parallel(n_jobs=-1)]: Done 124 tasks      | elapsed:    0.7s\n",
      "[Parallel(n_jobs=-1)]: Done 1024 tasks      | elapsed:    4.6s\n",
      "[Parallel(n_jobs=-1)]: Done 2022 tasks      | elapsed:  1.5min\n",
      "[Parallel(n_jobs=-1)]: Done 2372 tasks      | elapsed:  1.8min\n",
      "[Parallel(n_jobs=-1)]: Done 2822 tasks      | elapsed:  8.4min\n",
      "[Parallel(n_jobs=-1)]: Done 3000 out of 3000 | elapsed:  8.7min finished\n"
     ]
    },
    {
     "name": "stdout",
     "output_type": "stream",
     "text": [
      "cv: 15 {'fsel__k': 3000, 'model__alpha': 0.01, 'model__l1_ratio': 0.9999} -0.3830239002534183 -0.14583027269355067\n",
      "Fitting 30 folds for each of 100 candidates, totalling 3000 fits\n"
     ]
    },
    {
     "name": "stderr",
     "output_type": "stream",
     "text": [
      "[Parallel(n_jobs=-1)]: Using backend LokyBackend with 8 concurrent workers.\n",
      "[Parallel(n_jobs=-1)]: Done 136 tasks      | elapsed:    0.9s\n",
      "[Parallel(n_jobs=-1)]: Done 1918 tasks      | elapsed:   31.3s\n",
      "[Parallel(n_jobs=-1)]: Done 2238 tasks      | elapsed:  1.2min\n",
      "[Parallel(n_jobs=-1)]: Done 2643 tasks      | elapsed:  7.4min\n",
      "[Parallel(n_jobs=-1)]: Done 3000 out of 3000 | elapsed:  8.7min finished\n"
     ]
    },
    {
     "name": "stdout",
     "output_type": "stream",
     "text": [
      "cv: 16 {'fsel__k': 3000, 'model__alpha': 0.001, 'model__l1_ratio': 0.75} -0.31663200655318985 -0.39972606525581317\n",
      "Fitting 30 folds for each of 100 candidates, totalling 3000 fits\n"
     ]
    },
    {
     "name": "stderr",
     "output_type": "stream",
     "text": [
      "[Parallel(n_jobs=-1)]: Using backend LokyBackend with 8 concurrent workers.\n",
      "[Parallel(n_jobs=-1)]: Done 124 tasks      | elapsed:    0.7s\n",
      "[Parallel(n_jobs=-1)]: Done 1024 tasks      | elapsed:    4.9s\n",
      "[Parallel(n_jobs=-1)]: Done 2027 tasks      | elapsed:  1.4min\n",
      "[Parallel(n_jobs=-1)]: Done 2377 tasks      | elapsed:  1.6min\n",
      "[Parallel(n_jobs=-1)]: Done 2827 tasks      | elapsed: 10.1min\n",
      "[Parallel(n_jobs=-1)]: Done 3000 out of 3000 | elapsed: 10.4min finished\n"
     ]
    },
    {
     "name": "stdout",
     "output_type": "stream",
     "text": [
      "cv: 17 {'fsel__k': 3000, 'model__alpha': 0.01, 'model__l1_ratio': 0.5} -0.3886687965204453 -0.32722597780262846\n",
      "Fitting 30 folds for each of 100 candidates, totalling 3000 fits\n"
     ]
    },
    {
     "name": "stderr",
     "output_type": "stream",
     "text": [
      "[Parallel(n_jobs=-1)]: Using backend LokyBackend with 8 concurrent workers.\n",
      "[Parallel(n_jobs=-1)]: Done 124 tasks      | elapsed:    0.7s\n",
      "[Parallel(n_jobs=-1)]: Done 1024 tasks      | elapsed:    4.6s\n",
      "[Parallel(n_jobs=-1)]: Done 2027 tasks      | elapsed:  1.3min\n",
      "[Parallel(n_jobs=-1)]: Done 2377 tasks      | elapsed:  1.6min\n",
      "[Parallel(n_jobs=-1)]: Done 2827 tasks      | elapsed:  8.7min\n",
      "[Parallel(n_jobs=-1)]: Done 3000 out of 3000 | elapsed:  9.0min finished\n"
     ]
    },
    {
     "name": "stdout",
     "output_type": "stream",
     "text": [
      "cv: 18 {'fsel__k': 3000, 'model__alpha': 0.001, 'model__l1_ratio': 0.25} -0.3642349258918397 -0.5190256506111455\n",
      "Fitting 30 folds for each of 100 candidates, totalling 3000 fits\n"
     ]
    },
    {
     "name": "stderr",
     "output_type": "stream",
     "text": [
      "[Parallel(n_jobs=-1)]: Using backend LokyBackend with 8 concurrent workers.\n",
      "[Parallel(n_jobs=-1)]: Done 124 tasks      | elapsed:    0.7s\n",
      "[Parallel(n_jobs=-1)]: Done 1024 tasks      | elapsed:    4.2s\n",
      "[Parallel(n_jobs=-1)]: Done 2027 tasks      | elapsed:  1.2min\n",
      "[Parallel(n_jobs=-1)]: Done 2377 tasks      | elapsed:  1.4min\n",
      "[Parallel(n_jobs=-1)]: Done 2827 tasks      | elapsed:  8.8min\n",
      "[Parallel(n_jobs=-1)]: Done 3000 out of 3000 | elapsed:  9.1min finished\n"
     ]
    },
    {
     "name": "stdout",
     "output_type": "stream",
     "text": [
      "cv: 19 {'fsel__k': 3000, 'model__alpha': 0.01, 'model__l1_ratio': 0.75} -0.2887377276010121 -0.4823961045945482\n",
      "Fitting 30 folds for each of 100 candidates, totalling 3000 fits\n"
     ]
    },
    {
     "name": "stderr",
     "output_type": "stream",
     "text": [
      "[Parallel(n_jobs=-1)]: Using backend LokyBackend with 8 concurrent workers.\n",
      "[Parallel(n_jobs=-1)]: Done  88 tasks      | elapsed:    0.8s\n",
      "[Parallel(n_jobs=-1)]: Done 688 tasks      | elapsed:    3.4s\n",
      "[Parallel(n_jobs=-1)]: Done 1688 tasks      | elapsed:   13.5s\n",
      "[Parallel(n_jobs=-1)]: Done 2181 tasks      | elapsed:  1.4min\n",
      "[Parallel(n_jobs=-1)]: Done 2631 tasks      | elapsed:  7.1min\n",
      "[Parallel(n_jobs=-1)]: Done 3000 out of 3000 | elapsed:  8.5min finished\n"
     ]
    },
    {
     "name": "stdout",
     "output_type": "stream",
     "text": [
      "cv: 20 {'fsel__k': 3000, 'model__alpha': 0.01, 'model__l1_ratio': 0.75} -0.32804961956884454 -0.12532041267254385\n",
      "Fitting 30 folds for each of 100 candidates, totalling 3000 fits\n"
     ]
    },
    {
     "name": "stderr",
     "output_type": "stream",
     "text": [
      "[Parallel(n_jobs=-1)]: Using backend LokyBackend with 8 concurrent workers.\n",
      "[Parallel(n_jobs=-1)]: Done 124 tasks      | elapsed:    0.7s\n",
      "[Parallel(n_jobs=-1)]: Done 1024 tasks      | elapsed:    4.2s\n",
      "[Parallel(n_jobs=-1)]: Done 2027 tasks      | elapsed:  1.2min\n",
      "[Parallel(n_jobs=-1)]: Done 2377 tasks      | elapsed:  1.4min\n",
      "[Parallel(n_jobs=-1)]: Done 2827 tasks      | elapsed:  8.3min\n",
      "[Parallel(n_jobs=-1)]: Done 3000 out of 3000 | elapsed:  8.6min finished\n"
     ]
    },
    {
     "name": "stdout",
     "output_type": "stream",
     "text": [
      "cv: 21 {'fsel__k': 3000, 'model__alpha': 0.01, 'model__l1_ratio': 0.9999} -0.35276578213292537 -0.42008656818280143\n",
      "Fitting 30 folds for each of 100 candidates, totalling 3000 fits\n"
     ]
    },
    {
     "name": "stderr",
     "output_type": "stream",
     "text": [
      "[Parallel(n_jobs=-1)]: Using backend LokyBackend with 8 concurrent workers.\n",
      "[Parallel(n_jobs=-1)]: Done 140 tasks      | elapsed:    0.9s\n",
      "[Parallel(n_jobs=-1)]: Done 2047 tasks      | elapsed:   44.0s\n",
      "[Parallel(n_jobs=-1)]: Done 2310 tasks      | elapsed:  1.1min\n",
      "[Parallel(n_jobs=-1)]: Done 2712 tasks      | elapsed:  8.0min\n",
      "[Parallel(n_jobs=-1)]: Done 3000 out of 3000 | elapsed:  8.7min finished\n"
     ]
    },
    {
     "name": "stdout",
     "output_type": "stream",
     "text": [
      "cv: 22 {'fsel__k': 3000, 'model__alpha': 0.001, 'model__l1_ratio': 0.25} -0.38548008140605566 -1.0959503786538203\n",
      "Fitting 30 folds for each of 100 candidates, totalling 3000 fits\n"
     ]
    },
    {
     "name": "stderr",
     "output_type": "stream",
     "text": [
      "[Parallel(n_jobs=-1)]: Using backend LokyBackend with 8 concurrent workers.\n",
      "[Parallel(n_jobs=-1)]: Done 136 tasks      | elapsed:    0.8s\n",
      "[Parallel(n_jobs=-1)]: Done 1930 tasks      | elapsed:   26.8s\n",
      "[Parallel(n_jobs=-1)]: Done 2256 tasks      | elapsed:  1.1min\n",
      "[Parallel(n_jobs=-1)]: Done 2661 tasks      | elapsed:  7.4min\n",
      "[Parallel(n_jobs=-1)]: Done 3000 out of 3000 | elapsed:  8.7min finished\n"
     ]
    },
    {
     "name": "stdout",
     "output_type": "stream",
     "text": [
      "cv: 23 {'fsel__k': 3000, 'model__alpha': 0.001, 'model__l1_ratio': 0.25} -0.40217097910650224 -0.48511033325623576\n",
      "Fitting 30 folds for each of 100 candidates, totalling 3000 fits\n"
     ]
    },
    {
     "name": "stderr",
     "output_type": "stream",
     "text": [
      "[Parallel(n_jobs=-1)]: Using backend LokyBackend with 8 concurrent workers.\n",
      "[Parallel(n_jobs=-1)]: Done 160 tasks      | elapsed:    0.8s\n",
      "[Parallel(n_jobs=-1)]: Done 1360 tasks      | elapsed:    5.9s\n",
      "[Parallel(n_jobs=-1)]: Done 2152 tasks      | elapsed:  1.2min\n",
      "[Parallel(n_jobs=-1)]: Done 2511 tasks      | elapsed:  3.3min\n",
      "[Parallel(n_jobs=-1)]: Done 2961 tasks      | elapsed:  8.3min\n",
      "[Parallel(n_jobs=-1)]: Done 3000 out of 3000 | elapsed:  8.4min finished\n"
     ]
    },
    {
     "name": "stdout",
     "output_type": "stream",
     "text": [
      "cv: 24 {'fsel__k': 3000, 'model__alpha': 0.001, 'model__l1_ratio': 0.75} -0.37877349163508395 -0.044919464341421876\n",
      "Fitting 30 folds for each of 100 candidates, totalling 3000 fits\n"
     ]
    },
    {
     "name": "stderr",
     "output_type": "stream",
     "text": [
      "[Parallel(n_jobs=-1)]: Using backend LokyBackend with 8 concurrent workers.\n",
      "[Parallel(n_jobs=-1)]: Done 160 tasks      | elapsed:    0.8s\n",
      "[Parallel(n_jobs=-1)]: Done 1360 tasks      | elapsed:    6.0s\n",
      "[Parallel(n_jobs=-1)]: Done 2153 tasks      | elapsed:  1.3min\n",
      "[Parallel(n_jobs=-1)]: Done 2512 tasks      | elapsed:  3.1min\n",
      "[Parallel(n_jobs=-1)]: Done 2962 tasks      | elapsed:  8.5min\n",
      "[Parallel(n_jobs=-1)]: Done 3000 out of 3000 | elapsed:  8.6min finished\n",
      "[Parallel(n_jobs=-1)]: Using backend LokyBackend with 8 concurrent workers.\n"
     ]
    },
    {
     "name": "stdout",
     "output_type": "stream",
     "text": [
      "cv: 25 {'fsel__k': 1000, 'model__alpha': 0.01, 'model__l1_ratio': 0.75} -0.2965428939829529 -0.6698389176664135\n",
      "Fitting 30 folds for each of 100 candidates, totalling 3000 fits\n"
     ]
    },
    {
     "name": "stderr",
     "output_type": "stream",
     "text": [
      "[Parallel(n_jobs=-1)]: Done 136 tasks      | elapsed:    0.9s\n",
      "[Parallel(n_jobs=-1)]: Done 1930 tasks      | elapsed:   26.7s\n",
      "[Parallel(n_jobs=-1)]: Done 2249 tasks      | elapsed:  1.1min\n",
      "[Parallel(n_jobs=-1)]: Done 2654 tasks      | elapsed:  7.3min\n",
      "[Parallel(n_jobs=-1)]: Done 3000 out of 3000 | elapsed:  8.6min finished\n",
      "[Parallel(n_jobs=-1)]: Using backend LokyBackend with 8 concurrent workers.\n"
     ]
    },
    {
     "name": "stdout",
     "output_type": "stream",
     "text": [
      "cv: 26 {'fsel__k': 1000, 'model__alpha': 0.01, 'model__l1_ratio': 0.75} -0.31109277248833705 -0.21389094599233088\n",
      "Fitting 30 folds for each of 100 candidates, totalling 3000 fits\n"
     ]
    },
    {
     "name": "stderr",
     "output_type": "stream",
     "text": [
      "[Parallel(n_jobs=-1)]: Done 124 tasks      | elapsed:    1.2s\n",
      "[Parallel(n_jobs=-1)]: Done 1024 tasks      | elapsed:    5.0s\n",
      "[Parallel(n_jobs=-1)]: Done 2027 tasks      | elapsed:  1.2min\n",
      "[Parallel(n_jobs=-1)]: Done 2377 tasks      | elapsed:  1.4min\n",
      "[Parallel(n_jobs=-1)]: Done 2827 tasks      | elapsed:  8.5min\n",
      "[Parallel(n_jobs=-1)]: Done 3000 out of 3000 | elapsed:  8.7min finished\n"
     ]
    },
    {
     "name": "stdout",
     "output_type": "stream",
     "text": [
      "cv: 27 {'fsel__k': 1000, 'model__alpha': 0.01, 'model__l1_ratio': 0.9999} -0.37895014541936 -0.23995560511824982\n",
      "Fitting 30 folds for each of 100 candidates, totalling 3000 fits\n"
     ]
    },
    {
     "name": "stderr",
     "output_type": "stream",
     "text": [
      "[Parallel(n_jobs=-1)]: Using backend LokyBackend with 8 concurrent workers.\n",
      "[Parallel(n_jobs=-1)]: Done 100 tasks      | elapsed:    0.7s\n",
      "[Parallel(n_jobs=-1)]: Done 1600 tasks      | elapsed:    7.7s\n",
      "[Parallel(n_jobs=-1)]: Done 2218 tasks      | elapsed:  1.2min\n",
      "[Parallel(n_jobs=-1)]: Done 2586 tasks      | elapsed:  7.0min\n",
      "[Parallel(n_jobs=-1)]: Done 3000 out of 3000 | elapsed:  8.8min finished\n"
     ]
    },
    {
     "name": "stdout",
     "output_type": "stream",
     "text": [
      "cv: 28 {'fsel__k': 3000, 'model__alpha': 0.01, 'model__l1_ratio': 0.25} -0.362455222549256 -0.4550653273012356\n",
      "Fitting 30 folds for each of 100 candidates, totalling 3000 fits\n"
     ]
    },
    {
     "name": "stderr",
     "output_type": "stream",
     "text": [
      "[Parallel(n_jobs=-1)]: Using backend LokyBackend with 8 concurrent workers.\n",
      "[Parallel(n_jobs=-1)]: Done 136 tasks      | elapsed:    0.8s\n",
      "[Parallel(n_jobs=-1)]: Done 1930 tasks      | elapsed:   26.9s\n",
      "[Parallel(n_jobs=-1)]: Done 2249 tasks      | elapsed:  1.1min\n",
      "[Parallel(n_jobs=-1)]: Done 2654 tasks      | elapsed:  7.3min\n",
      "[Parallel(n_jobs=-1)]: Done 3000 out of 3000 | elapsed:  8.6min finished\n"
     ]
    },
    {
     "name": "stdout",
     "output_type": "stream",
     "text": [
      "cv: 29 {'fsel__k': 1000, 'model__alpha': 0.01, 'model__l1_ratio': 0.9999} -0.31939203055616183 -0.09781906059627446\n",
      "*** Score on mean as model:\t-0.5655535039999882\n",
      "** Mean score in the inner crossvaludation (inner_cv):\t-0.34388837404255646\n",
      "** Mean Nested Crossvalidation Score (outer_cv):\t-0.3489755094791548\n",
      "Explained Variance: 0.38294872720095097\n",
      "Correlation: 0.6094836778212411\n"
     ]
    },
    {
     "data": {
      "image/png": "[encoded data removed]",
      "text/plain": [
       "<Figure size 432x432 with 3 Axes>"
      ]
     },
     "metadata": {
      "needs_background": "light"
     },
     "output_type": "display_data"
    }
   ],
   "source": [
    "def pipe_scale_fsel_elnet(scaler=preprocessing.RobustScaler(),\n",
    "                          fsel=SelectKBest(f_regression),\n",
    "                          model=ElasticNet(max_iter=100000),\n",
    "                          p_grid={'fsel__k': [25, 50, 100, 1000, 3000],\n",
    "                              'model__alpha': [0.001, 0.01,  0.1, 1],\n",
    "                              'model__l1_ratio': [0.0001, .25, .5, .75, 0.9999]\n",
    "                                 }):\n",
    "    mymodel = Pipeline(\n",
    "        [\n",
    "         ('fsel', fsel),\n",
    "         ('scaler', scaler),\n",
    "         ('model', model)])\n",
    "    return mymodel, p_grid\n",
    "\n",
    "model, p_grid = pipe_scale_fsel_elnet()\n",
    "\n",
    "outer_cv = GroupKFold(30)\n",
    "inner_cv = GroupKFold(30)                                    \n",
    "clf = GridSearchCV(estimator=model, param_grid=p_grid, cv=inner_cv,\n",
    "                   scoring=\"neg_mean_squared_error\", verbose=True, return_train_score=False,\n",
    "                   n_jobs=-1)\n",
    "\n",
    "all_models = []\n",
    "best_params = []\n",
    "predicted = np.zeros(len(y))\n",
    "nested_scores_train = np.zeros(outer_cv.get_n_splits(X))\n",
    "nested_scores_test = np.zeros(outer_cv.get_n_splits(X))   \n",
    "                                    \n",
    "print(\"model\\tinner_cv mean score\\touter vc score\")\n",
    "i=0\n",
    "for train, test in outer_cv.split(X, y, groups=groups):\n",
    "    group_train = groups[train]                                \n",
    "    clf.fit(X[train], y[train], groups=group_train)\n",
    "                                    \n",
    "    print('cv:', i, str(clf.best_params_) + \" \" + str(clf.best_score_) + \" \" + str(clf.score(X[test], y[test])))\n",
    "                                    \n",
    "    all_models.append(clf.best_estimator_)\n",
    "    best_params.append(clf.best_params_)\n",
    "    \n",
    "    predicted[test] = clf.predict(X[test])\n",
    "                                    \n",
    "    nested_scores_train[i] = clf.best_score_\n",
    "    nested_scores_test[i] = clf.score(X[test], y[test])\n",
    "    i = i+1\n",
    "                                    \n",
    "print(\"*** Score on mean as model:\\t\" + str(-mean_squared_error(np.repeat(y.mean(), len(y)), y)))\n",
    "print(\"** Mean score in the inner crossvaludation (inner_cv):\\t\" + str(nested_scores_train.mean()))\n",
    "print(\"** Mean Nested Crossvalidation Score (outer_cv):\\t\" + str(nested_scores_test.mean()))\n",
    "print(\"Explained Variance: \" +  str( 1- nested_scores_test.mean()/-mean_squared_error(np.repeat(y.mean(), len(y)), y) ))\n",
    "print(\"Correlation: \" + str(np.corrcoef(y, predicted)[0,1]))\n",
    "                                    \n",
    "plot.plot_prediction(y, predicted, sd=True, covar=[])"
   ]
  },
  {
   "cell_type": "code",
   "execution_count": 12,
   "metadata": {
    "ExecuteTime": {
     "end_time": "2021-06-24T08:23:14.712447Z",
     "start_time": "2021-06-24T08:23:14.703747Z"
    }
   },
   "outputs": [],
   "source": [
    "# save nested predictions\n",
    "np.savetxt(\"../res/multi-center/nested_cv_pred_full_GroupKFold30.csv\", predicted, delimiter=\",\")"
   ]
  },
  {
   "cell_type": "code",
   "execution_count": null,
   "metadata": {},
   "outputs": [],
   "source": []
  }
 ],
 "metadata": {
  "hide_input": false,
  "kernelspec": {
   "display_name": "Python 3",
   "language": "python",
   "name": "python3"
  },
  "language_info": {
   "codemirror_mode": {
    "name": "ipython",
    "version": 3
   },
   "file_extension": ".py",
   "mimetype": "text/x-python",
   "name": "python",
   "nbconvert_exporter": "python",
   "pygments_lexer": "ipython3",
   "version": "3.7.4"
  }
 },
 "nbformat": 4,
 "nbformat_minor": 2
}
