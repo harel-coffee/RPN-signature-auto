{
 "cells": [
  {
   "cell_type": "markdown",
   "metadata": {
    "pycharm": {
     "name": "#%% md\n"
    }
   },
   "source": [
    "# Plotting the predictions of the single- and multi-center RPN signatures\n",
    "- This jupyter notebook is available on-line at:\n",
    "  - https://github.com/spisakt/RPN-signature/blob/master/notebooks/3_compare_predictions.ipynb\n",
    "- Input data for the notebook and non-standard code (PAINTeR library) is available in the repo:\n",
    "  - https://github.com/spisakt/RPN-signature\n",
    "- Raw MRI-data from study-centers 1 and 2 are available on OpenNeuro:\n",
    "  - https://openneuro.org/datasets/ds002608/versions/1.0.1\n",
    "  - https://openneuro.org/datasets/ds002609/versions/1.0.3\n",
    "- Raw data from center 3 is available upon reasonable request."
   ]
  },
  {
   "cell_type": "markdown",
   "metadata": {
    "ExecuteTime": {
     "end_time": "2021-07-01T15:05:59.605064Z",
     "start_time": "2021-07-01T15:05:59.187036Z"
    },
    "pycharm": {
     "name": "#%% md\n"
    }
   },
   "source": [
    "## Imports"
   ]
  },
  {
   "cell_type": "code",
   "execution_count": 1,
   "metadata": {
    "ExecuteTime": {
     "end_time": "2021-11-02T09:21:35.155776Z",
     "start_time": "2021-11-02T09:21:35.150446Z"
    },
    "pycharm": {
     "name": "#%%\n"
    }
   },
   "outputs": [
    {
     "name": "stderr",
     "output_type": "stream",
     "text": [
      "/home/tspisak/src/RPN-signature/venv/lib/python3.8/site-packages/nilearn/datasets/__init__.py:86: FutureWarning: Fetchers from the nilearn.datasets module will be updated in version 0.9 to return python strings instead of bytes and Pandas dataframes instead of Numpy arrays.\n",
      "  warn(\"Fetchers from the nilearn.datasets module will be \"\n"
     ]
    }
   ],
   "source": [
    "import joblib\n",
    "import numpy as np\n",
    "import pandas as pd\n",
    "import seaborn as sns\n",
    "import matplotlib.pyplot as plt\n",
    "from nilearn.connectome import vec_to_sym_matrix, sym_matrix_to_vec\n",
    "from sklearn.metrics import mean_squared_error, mean_absolute_error, explained_variance_score\n",
    "from mlxtend.evaluate import permutation_test\n",
    "from mlconfound.stats import partial_confound_test\n",
    "from mlconfound.plot import plot_null_dist, plot_graph\n",
    "from scipy.stats import f_oneway\n",
    "from scipy import stats\n",
    "\n",
    "import sys\n",
    "sys.path.append('../')\n",
    "from PAINTeR import plot # in-house lib used for the RPN-signature\n",
    "\n",
    "from tqdm import tqdm"
   ]
  },
  {
   "cell_type": "markdown",
   "metadata": {
    "pycharm": {
     "name": "#%% md\n"
    }
   },
   "source": [
    "## Load and merge behavioral data for all three centers (after exclusions)"
   ]
  },
  {
   "cell_type": "code",
   "execution_count": 2,
   "metadata": {
    "ExecuteTime": {
     "end_time": "2021-11-02T09:21:48.657441Z",
     "start_time": "2021-11-02T09:21:48.611463Z"
    },
    "pycharm": {
     "name": "#%%\n"
    }
   },
   "outputs": [],
   "source": [
    "df_bochum = pd.read_csv(\"../res/bochum_sample_excl.csv\")\n",
    "df_essen = pd.read_csv(\"../res/essen_sample_excl.csv\")\n",
    "df_szeged = pd.read_csv(\"../res/szeged_sample_excl.csv\")\n",
    "df_bochum['study']='bochum'\n",
    "df_essen['study']='essen'\n",
    "df_szeged['study']='szeged'\n",
    "df=pd.concat((df_bochum, df_essen, df_szeged), sort=False)\n",
    "df=df.reset_index()\n",
    "y = df.mean_QST_pain_sensitivity"
   ]
  },
  {
   "cell_type": "markdown",
   "metadata": {
    "pycharm": {
     "name": "#%% md\n"
    }
   },
   "source": [
    "## Load predictions for the original single-center and the newly proposed multi-center model"
   ]
  },
  {
   "cell_type": "code",
   "execution_count": 3,
   "metadata": {
    "ExecuteTime": {
     "end_time": "2021-11-02T09:21:51.109289Z",
     "start_time": "2021-11-02T09:21:51.103458Z"
    },
    "pycharm": {
     "name": "#%%\n"
    }
   },
   "outputs": [],
   "source": [
    "# predictions\n",
    "multicener_predictions = np.genfromtxt('../res/multi-center/nested_cv_pred_full_GroupKFold30.csv', delimiter=',')\n",
    "rpn_predictions = np.hstack((df_bochum.nested_prediction,\n",
    "                            df_essen.prediction,\n",
    "                            df_szeged.prediction))\n",
    "\n",
    "predictions = {\n",
    "    'single-center' : rpn_predictions,\n",
    "    'multi-center' : multicener_predictions\n",
    "}"
   ]
  },
  {
   "cell_type": "markdown",
   "metadata": {
    "pycharm": {
     "name": "#%% md\n"
    }
   },
   "source": [
    "### create study masks"
   ]
  },
  {
   "cell_type": "code",
   "execution_count": 4,
   "metadata": {
    "ExecuteTime": {
     "end_time": "2021-11-02T09:21:52.647912Z",
     "start_time": "2021-11-02T09:21:52.642574Z"
    },
    "pycharm": {
     "name": "#%%\n"
    }
   },
   "outputs": [],
   "source": [
    "study_masks = {\n",
    "    \"study 1\" : (df.study == 'bochum').values,\n",
    "    \"study 2\" : (df.study == 'essen').values,\n",
    "    \"study 3\" : (df.study == 'szeged').values,\n",
    "    \"study 1+2+3\" : np.array([True] * len(y))\n",
    "}"
   ]
  },
  {
   "cell_type": "markdown",
   "metadata": {
    "pycharm": {
     "name": "#%% md\n"
    }
   },
   "source": [
    "## Observed vs. Predicted plots"
   ]
  },
  {
   "cell_type": "code",
   "execution_count": 5,
   "metadata": {
    "ExecuteTime": {
     "end_time": "2021-11-02T09:22:02.384102Z",
     "start_time": "2021-11-02T09:21:53.841810Z"
    },
    "pycharm": {
     "name": "#%%\n"
    }
   },
   "outputs": [
    {
     "name": "stderr",
     "output_type": "stream",
     "text": [
      "/home/tspisak/src/RPN-signature/venv/lib/python3.8/site-packages/seaborn/_decorators.py:36: FutureWarning: Pass the following variables as keyword args: x, y. From version 0.12, the only valid positional argument will be `data`, and passing other arguments without an explicit keyword will result in an error or misinterpretation.\n",
      "  warnings.warn(\n"
     ]
    },
    {
     "name": "stdout",
     "output_type": "stream",
     "text": [
      "*** single-center study 1 ****************************************************\n",
      "R=0.45\n",
      "p_corr=0.00375\n",
      "MSE=0.43\n",
      "MSE=0.46\n",
      "Expl. Var. =0.185\n",
      "*** single-center study 2 ****************************************************\n",
      "R=0.43\n"
     ]
    },
    {
     "name": "stderr",
     "output_type": "stream",
     "text": [
      "/home/tspisak/src/RPN-signature/venv/lib/python3.8/site-packages/seaborn/_decorators.py:36: FutureWarning: Pass the following variables as keyword args: x, y. From version 0.12, the only valid positional argument will be `data`, and passing other arguments without an explicit keyword will result in an error or misinterpretation.\n",
      "  warnings.warn(\n"
     ]
    },
    {
     "name": "stdout",
     "output_type": "stream",
     "text": [
      "p_corr=0.00337\n",
      "MSE=0.54\n",
      "MSE=0.59\n",
      "Expl. Var. =0.181\n",
      "*** single-center study 3 ****************************************************\n",
      "R=0.47\n"
     ]
    },
    {
     "name": "stderr",
     "output_type": "stream",
     "text": [
      "/home/tspisak/src/RPN-signature/venv/lib/python3.8/site-packages/seaborn/_decorators.py:36: FutureWarning: Pass the following variables as keyword args: x, y. From version 0.12, the only valid positional argument will be `data`, and passing other arguments without an explicit keyword will result in an error or misinterpretation.\n",
      "  warnings.warn(\n"
     ]
    },
    {
     "name": "stdout",
     "output_type": "stream",
     "text": [
      "p_corr=0.02312\n",
      "MSE=0.44\n",
      "MSE=0.57\n",
      "Expl. Var. =0.170\n",
      "*** single-center study 1+2+3 ****************************************************\n",
      "R=0.42\n"
     ]
    },
    {
     "name": "stderr",
     "output_type": "stream",
     "text": [
      "/home/tspisak/src/RPN-signature/venv/lib/python3.8/site-packages/seaborn/_decorators.py:36: FutureWarning: Pass the following variables as keyword args: x, y. From version 0.12, the only valid positional argument will be `data`, and passing other arguments without an explicit keyword will result in an error or misinterpretation.\n",
      "  warnings.warn(\n"
     ]
    },
    {
     "name": "stdout",
     "output_type": "stream",
     "text": [
      "p_corr=0.00025\n",
      "MSE=0.47\n",
      "MSE=0.54\n",
      "Expl. Var. =0.164\n",
      "*** multi-center study 1 ****************************************************\n",
      "R=0.61\n"
     ]
    },
    {
     "name": "stderr",
     "output_type": "stream",
     "text": [
      "/home/tspisak/src/RPN-signature/venv/lib/python3.8/site-packages/seaborn/_decorators.py:36: FutureWarning: Pass the following variables as keyword args: x, y. From version 0.12, the only valid positional argument will be `data`, and passing other arguments without an explicit keyword will result in an error or misinterpretation.\n",
      "  warnings.warn(\n"
     ]
    },
    {
     "name": "stdout",
     "output_type": "stream",
     "text": [
      "p_corr=0.00037\n",
      "MSE=0.35\n",
      "MSE=0.45\n",
      "Expl. Var. =0.343\n",
      "*** multi-center study 2 ****************************************************\n",
      "R=0.59\n"
     ]
    },
    {
     "name": "stderr",
     "output_type": "stream",
     "text": [
      "/home/tspisak/src/RPN-signature/venv/lib/python3.8/site-packages/seaborn/_decorators.py:36: FutureWarning: Pass the following variables as keyword args: x, y. From version 0.12, the only valid positional argument will be `data`, and passing other arguments without an explicit keyword will result in an error or misinterpretation.\n",
      "  warnings.warn(\n"
     ]
    },
    {
     "name": "stdout",
     "output_type": "stream",
     "text": [
      "p_corr=0.00012\n",
      "MSE=0.42\n",
      "MSE=0.54\n",
      "Expl. Var. =0.340\n",
      "*** multi-center study 3 ****************************************************\n",
      "R=0.51\n"
     ]
    },
    {
     "name": "stderr",
     "output_type": "stream",
     "text": [
      "/home/tspisak/src/RPN-signature/venv/lib/python3.8/site-packages/seaborn/_decorators.py:36: FutureWarning: Pass the following variables as keyword args: x, y. From version 0.12, the only valid positional argument will be `data`, and passing other arguments without an explicit keyword will result in an error or misinterpretation.\n",
      "  warnings.warn(\n"
     ]
    },
    {
     "name": "stdout",
     "output_type": "stream",
     "text": [
      "p_corr=0.01262\n",
      "MSE=0.22\n",
      "MSE=0.37\n",
      "Expl. Var. =0.262\n",
      "*** multi-center study 1+2+3 ****************************************************\n",
      "R=0.63\n"
     ]
    },
    {
     "name": "stderr",
     "output_type": "stream",
     "text": [
      "/home/tspisak/src/RPN-signature/venv/lib/python3.8/site-packages/seaborn/_decorators.py:36: FutureWarning: Pass the following variables as keyword args: x, y. From version 0.12, the only valid positional argument will be `data`, and passing other arguments without an explicit keyword will result in an error or misinterpretation.\n",
      "  warnings.warn(\n"
     ]
    },
    {
     "name": "stdout",
     "output_type": "stream",
     "text": [
      "p_corr=0.00012\n",
      "MSE=0.35\n",
      "MSE=0.47\n",
      "Expl. Var. =0.382\n"
     ]
    },
    {
     "data": {
      "text/plain": "<Figure size 720x432 with 8 Axes>",
      "image/png": "[encoded data removed]"
     },
     "metadata": {},
     "output_type": "display_data"
    }
   ],
   "source": [
    "sns.set_style('ticks')\n",
    "fig, axs = plt.subplots(ncols=4, nrows=2, figsize=(10,6), sharex=True, sharey=True)\n",
    "\n",
    "cols = ['tab:blue', 'tab:orange']\n",
    "\n",
    "for row, cv in enumerate(predictions.keys()):\n",
    "    for col, study in enumerate(study_masks.keys()):\n",
    "        g=sns.regplot(y[study_masks[study]], predictions[cv][study_masks[study]], ax=axs[row, col],\n",
    "                    scatter=True, scatter_kws={'alpha':0.3}, color=cols[row])\n",
    "        g.set(xlabel=None) \n",
    "        axs[row, col].set_xlim([-2, 2])\n",
    "        axs[row, col].set_ylim([-1.2, 1.2])\n",
    "        axs[row, col].spines['top'].set_visible(False)\n",
    "        axs[row, col].spines['bottom'].set_visible(False)\n",
    "        axs[row, col].spines['right'].set_visible(False)\n",
    "        axs[row, col].spines['left'].set_visible(False)\n",
    "        axs[row, col].grid(True)\n",
    "        \n",
    "        print('***', cv, study, '****************************************************')\n",
    "                   \n",
    "        corr = np.corrcoef(y[study_masks[study]], predictions[cv][study_masks[study]])[0,1]\n",
    "        axs[row, col].title.set_text(\"R={:.2f}\".format(corr))\n",
    "        print(\"R={:.2f}\".format(corr))\n",
    "        \n",
    "        # takes some seconds\n",
    "        p_corr = permutation_test(y[study_masks[study]], predictions[cv][study_masks[study]],\n",
    "                           func=lambda x, y: np.corrcoef(x, y)[0,1],\n",
    "                           method='approximate',\n",
    "                           num_rounds=8000,\n",
    "                           seed=42)\n",
    "        print(\"p_corr={:.5f}\".format(p_corr))\n",
    "        \n",
    "        mse = mean_squared_error(y[study_masks[study]], predictions[cv][study_masks[study]])\n",
    "        print(\"MSE={:.2f}\".format(mse))\n",
    "        \n",
    "        mae = mean_absolute_error(y[study_masks[study]], predictions[cv][study_masks[study]])\n",
    "        print(\"MSE={:.2f}\".format(mae))\n",
    "        \n",
    "        expvar = explained_variance_score(y[study_masks[study]], predictions[cv][study_masks[study]])\n",
    "        print(\"Expl. Var. ={:.3f}\".format(expvar))\n",
    "   \n",
    "   \n",
    "        \n",
    "plt.savefig('../res/multi-center/regplots_obs-pred.pdf')"
   ]
  },
  {
   "cell_type": "markdown",
   "source": [
    "# \"Classification\" performance\n"
   ],
   "metadata": {
    "collapsed": false,
    "pycharm": {
     "name": "#%% md\n"
    }
   }
  },
  {
   "cell_type": "markdown",
   "metadata": {
    "ExecuteTime": {
     "end_time": "2021-07-04T12:15:17.151316Z",
     "start_time": "2021-07-04T12:15:17.148638Z"
    },
    "pycharm": {
     "name": "#%% md\n"
    }
   },
   "source": [
    "## Violoin plots per center for the observed and predicted values"
   ]
  },
  {
   "cell_type": "code",
   "execution_count": 14,
   "outputs": [],
   "source": [
    "from sklearn.metrics import roc_curve, auc"
   ],
   "metadata": {
    "collapsed": false,
    "pycharm": {
     "name": "#%%\n"
    }
   }
  },
  {
   "cell_type": "code",
   "execution_count": 56,
   "outputs": [
    {
     "data": {
      "text/plain": "<Figure size 216x216 with 1 Axes>",
      "image/png": "[encoded data removed]"
     },
     "metadata": {},
     "output_type": "display_data"
    },
    {
     "name": "stderr",
     "output_type": "stream",
     "text": [
      "/home/tspisak/src/RPN-signature/venv/lib/python3.8/site-packages/seaborn/distributions.py:2619: FutureWarning: `distplot` is a deprecated function and will be removed in a future version. Please adapt your code to use either `displot` (a figure-level function with similar flexibility) or `histplot` (an axes-level function for histograms).\n",
      "  warnings.warn(msg, FutureWarning)\n"
     ]
    },
    {
     "data": {
      "text/plain": "<AxesSubplot:xlabel='mean_QST_pain_sensitivity', ylabel='Density'>"
     },
     "execution_count": 56,
     "metadata": {},
     "output_type": "execute_result"
    },
    {
     "data": {
      "text/plain": "<Figure size 432x288 with 1 Axes>",
      "image/png": "[encoded data removed]"
     },
     "metadata": {},
     "output_type": "display_data"
    }
   ],
   "source": [
    "# Compute ROC curve and ROC area for each class\n",
    "fpr = dict()\n",
    "tpr = dict()\n",
    "roc_auc = dict()\n",
    "\n",
    "fpr, tpr, _ = roc_curve(y>np.quantile(y,0.8), predictions['multi-center'])\n",
    "roc_auc = auc(fpr, tpr)\n",
    "\n",
    "plt.figure(figsize=(3,3))\n",
    "lw = 2\n",
    "plt.plot(\n",
    "    fpr,\n",
    "    tpr,\n",
    "    color=\"darkorange\",\n",
    "    lw=lw,\n",
    "    label=\"ROC curve (area = %0.2f)\" % roc_auc,\n",
    ")\n",
    "plt.plot([0, 1], [0, 1], color=\"navy\", lw=lw, linestyle=\"--\")\n",
    "plt.xlim([0.0, 1.0])\n",
    "plt.ylim([0.0, 1.05])\n",
    "plt.xlabel(\"False Positive Rate\")\n",
    "plt.ylabel(\"True Positive Rate\")\n",
    "plt.title(\"Receiver operating characteristic example\")\n",
    "plt.legend(loc=\"lower right\")\n",
    "plt.savefig('../res/multi-center/roc_80.pdf')\n",
    "plt.show()\n",
    "\n",
    "sns.distplot(y)\n"
   ],
   "metadata": {
    "collapsed": false,
    "pycharm": {
     "name": "#%%\n"
    }
   }
  },
  {
   "cell_type": "code",
   "execution_count": 57,
   "outputs": [
    {
     "data": {
      "text/plain": "<Figure size 216x216 with 1 Axes>",
      "image/png": "[encoded data removed]"
     },
     "metadata": {},
     "output_type": "display_data"
    },
    {
     "name": "stderr",
     "output_type": "stream",
     "text": [
      "/home/tspisak/src/RPN-signature/venv/lib/python3.8/site-packages/seaborn/distributions.py:2619: FutureWarning: `distplot` is a deprecated function and will be removed in a future version. Please adapt your code to use either `displot` (a figure-level function with similar flexibility) or `histplot` (an axes-level function for histograms).\n",
      "  warnings.warn(msg, FutureWarning)\n"
     ]
    },
    {
     "data": {
      "text/plain": "array([-0.47485478,  0.62944628])"
     },
     "execution_count": 57,
     "metadata": {},
     "output_type": "execute_result"
    },
    {
     "data": {
      "text/plain": "<Figure size 432x288 with 1 Axes>",
      "image/png": "[encoded data removed]"
     },
     "metadata": {},
     "output_type": "display_data"
    }
   ],
   "source": [
    "# Compute ROC curve and ROC area for each class\n",
    "fpr = dict()\n",
    "tpr = dict()\n",
    "roc_auc = dict()\n",
    "\n",
    "quants = np.quantile(y, (0.20, 0.80))\n",
    "\n",
    "y_lohi = y[np.logical_or(y<quants[0],  y>quants[1])]\n",
    "pred_lohi = predictions['multi-center'][np.logical_or(y<quants[0],  y>quants[1])]\n",
    "\n",
    "fpr, tpr, _ = roc_curve(y_lohi>np.median(y), pred_lohi)\n",
    "roc_auc = auc(fpr, tpr)\n",
    "\n",
    "plt.figure(figsize=(3,3))\n",
    "lw = 2\n",
    "plt.plot(\n",
    "    fpr,\n",
    "    tpr,\n",
    "    color=\"darkorange\",\n",
    "    lw=lw,\n",
    "    label=\"ROC curve (area = %0.2f)\" % roc_auc,\n",
    ")\n",
    "plt.plot([0, 1], [0, 1], color=\"navy\", lw=lw, linestyle=\"--\")\n",
    "plt.xlim([0.0, 1.0])\n",
    "plt.ylim([0.0, 1.05])\n",
    "plt.xlabel(\"False Positive Rate\")\n",
    "plt.ylabel(\"True Positive Rate\")\n",
    "plt.title(\"Receiver operating characteristic example\")\n",
    "plt.legend(loc=\"lower right\")\n",
    "plt.savefig('../res/multi-center/roc_20-80.pdf')\n",
    "plt.show()\n",
    "\n",
    "sns.distplot(y_lohi, bins=10)\n",
    "quants"
   ],
   "metadata": {
    "collapsed": false,
    "pycharm": {
     "name": "#%%\n"
    }
   }
  },
  {
   "cell_type": "code",
   "execution_count": 59,
   "outputs": [
    {
     "data": {
      "text/plain": "array([[1.        , 0.82101999],\n       [0.82101999, 1.        ]])"
     },
     "execution_count": 59,
     "metadata": {},
     "output_type": "execute_result"
    }
   ],
   "source": [
    "np.corrcoef(df.mean_QST_pain_sensitivity[~np.isnan(df.mean_QST_pain_sensitivityd2)], df.mean_QST_pain_sensitivityd2[~np.isnan(df.mean_QST_pain_sensitivityd2)])"
   ],
   "metadata": {
    "collapsed": false,
    "pycharm": {
     "name": "#%%\n"
    }
   }
  },
  {
   "cell_type": "code",
   "execution_count": 9,
   "metadata": {
    "ExecuteTime": {
     "end_time": "2021-11-02T09:22:10.162488Z",
     "start_time": "2021-11-02T09:22:09.941207Z"
    },
    "pycharm": {
     "name": "#%%\n"
    }
   },
   "outputs": [
    {
     "data": {
      "text/plain": [
       "<AxesSubplot:xlabel='study'>"
      ]
     },
     "execution_count": 9,
     "metadata": {},
     "output_type": "execute_result"
    },
    {
     "data": {
      "image/png": "[encoded data removed]",
      "text/plain": [
       "<Figure size 432x288 with 1 Axes>"
      ]
     },
     "metadata": {},
     "output_type": "display_data"
    }
   ],
   "source": [
    "sns.violinplot(data=df, x='study', y=predictions['single-center'])"
   ]
  },
  {
   "cell_type": "code",
   "execution_count": 10,
   "metadata": {
    "ExecuteTime": {
     "end_time": "2021-11-02T09:22:11.305191Z",
     "start_time": "2021-11-02T09:22:11.105361Z"
    },
    "pycharm": {
     "name": "#%%\n"
    }
   },
   "outputs": [
    {
     "data": {
      "text/plain": [
       "<AxesSubplot:xlabel='study'>"
      ]
     },
     "execution_count": 10,
     "metadata": {},
     "output_type": "execute_result"
    },
    {
     "data": {
      "image/png": "[encoded data removed]",
      "text/plain": [
       "<Figure size 432x288 with 1 Axes>"
      ]
     },
     "metadata": {},
     "output_type": "display_data"
    }
   ],
   "source": [
    "sns.violinplot(data=df, x='study', y=predictions['multi-center'])"
   ]
  },
  {
   "cell_type": "code",
   "execution_count": 11,
   "metadata": {
    "ExecuteTime": {
     "end_time": "2021-11-02T09:22:12.723082Z",
     "start_time": "2021-11-02T09:22:12.525567Z"
    },
    "pycharm": {
     "name": "#%%\n"
    }
   },
   "outputs": [
    {
     "data": {
      "text/plain": [
       "<AxesSubplot:xlabel='study', ylabel='mean_QST_pain_sensitivity'>"
      ]
     },
     "execution_count": 11,
     "metadata": {},
     "output_type": "execute_result"
    },
    {
     "data": {
      "image/png": "[encoded data removed]",
      "text/plain": [
       "<Figure size 432x288 with 1 Axes>"
      ]
     },
     "metadata": {},
     "output_type": "display_data"
    }
   ],
   "source": [
    "sns.violinplot(data=df, x='study', y='mean_QST_pain_sensitivity')"
   ]
  },
  {
   "cell_type": "code",
   "execution_count": 12,
   "metadata": {
    "ExecuteTime": {
     "end_time": "2021-11-02T09:22:13.827450Z",
     "start_time": "2021-11-02T09:22:13.814492Z"
    },
    "pycharm": {
     "name": "#%%\n"
    }
   },
   "outputs": [
    {
     "name": "stdout",
     "output_type": "stream",
     "text": [
      "0.008551403888578259\n",
      "0.289473414953464\n",
      "-0.435775823593041\n"
     ]
    },
    {
     "data": {
      "text/plain": [
       "F_onewayResult(statistic=6.5055415995744355, pvalue=0.00231739640326624)"
      ]
     },
     "execution_count": 12,
     "metadata": {},
     "output_type": "execute_result"
    }
   ],
   "source": [
    "print(df.mean_QST_pain_sensitivity[df.study=='bochum'].mean())\n",
    "print(df.mean_QST_pain_sensitivity[df.study=='essen'].mean())\n",
    "print(df.mean_QST_pain_sensitivity[df.study=='szeged'].mean())\n",
    "\n",
    "f_oneway(df.mean_QST_pain_sensitivity[df.study=='bochum'],\n",
    "        df.mean_QST_pain_sensitivity[df.study=='essen'],\n",
    "        df.mean_QST_pain_sensitivity[df.study=='szeged'])"
   ]
  },
  {
   "cell_type": "markdown",
   "metadata": {
    "pycharm": {
     "name": "#%% md\n"
    }
   },
   "source": [
    "## Partial confounder test for site effect:"
   ]
  },
  {
   "cell_type": "code",
   "execution_count": 22,
   "metadata": {
    "ExecuteTime": {
     "end_time": "2021-11-02T09:41:39.252639Z",
     "start_time": "2021-11-02T09:41:35.205180Z"
    },
    "pycharm": {
     "name": "#%%\n"
    }
   },
   "outputs": [
    {
     "name": "stderr",
     "output_type": "stream",
     "text": [
      "Permuting: 100%|██████████| 1000/1000 [00:02<00:00, 398.24it/s]\n"
     ]
    },
    {
     "data": {
      "image/svg+xml": [
       "<?xml version=\"1.0\" encoding=\"UTF-8\" standalone=\"no\"?>\n",
       "<!DOCTYPE svg PUBLIC \"-//W3C//DTD SVG 1.1//EN\"\n",
       " \"http://www.w3.org/Graphics/SVG/1.1/DTD/svg11.dtd\">\n",
       "<!-- Generated by graphviz version 2.44.1 (20200629.0846)\n",
       " -->\n",
       "<!-- Pages: 1 -->\n",
       "<svg width=\"333pt\" height=\"79pt\"\n",
       " viewBox=\"0.00 0.00 333.00 79.00\" xmlns=\"http://www.w3.org/2000/svg\" xmlns:xlink=\"http://www.w3.org/1999/xlink\">\n",
       "<g id=\"graph0\" class=\"graph\" transform=\"scale(1 1) rotate(0) translate(4 75)\">\n",
       "<polygon fill=\"white\" stroke=\"transparent\" points=\"-4,4 -4,-75 329,-75 329,4 -4,4\"/>\n",
       "<!-- c -->\n",
       "<g id=\"node1\" class=\"node\">\n",
       "<title>c</title>\n",
       "<ellipse fill=\"none\" stroke=\"black\" cx=\"27\" cy=\"-18\" rx=\"27\" ry=\"18\"/>\n",
       "<text text-anchor=\"middle\" x=\"27\" y=\"-14.3\" font-family=\"Times,serif\" font-size=\"14.00\">c</text>\n",
       "</g>\n",
       "<!-- y -->\n",
       "<g id=\"node2\" class=\"node\">\n",
       "<title>y</title>\n",
       "<ellipse fill=\"none\" stroke=\"black\" cx=\"162.5\" cy=\"-53\" rx=\"27\" ry=\"18\"/>\n",
       "<text text-anchor=\"middle\" x=\"162.5\" y=\"-49.3\" font-family=\"Times,serif\" font-size=\"14.00\">y</text>\n",
       "</g>\n",
       "<!-- c&#45;&#45;y -->\n",
       "<g id=\"edge2\" class=\"edge\">\n",
       "<title>c&#45;&#45;y</title>\n",
       "<path fill=\"none\" stroke=\"black\" d=\"M52.49,-24.42C76.57,-30.73 113.14,-40.32 137.17,-46.62\"/>\n",
       "<text text-anchor=\"middle\" x=\"87.5\" y=\"-40.8\" font-family=\"Times,serif\" font-size=\"14.00\">0.129</text>\n",
       "</g>\n",
       "<!-- yhat -->\n",
       "<g id=\"node3\" class=\"node\">\n",
       "<title>yhat</title>\n",
       "<ellipse fill=\"none\" stroke=\"black\" cx=\"298\" cy=\"-18\" rx=\"27\" ry=\"18\"/>\n",
       "<text text-anchor=\"start\" x=\"294.5\" y=\"-14.3\" font-family=\"Times,serif\" font-size=\"14.00\">ŷ</text>\n",
       "</g>\n",
       "<!-- c&#45;&#45;yhat -->\n",
       "<g id=\"edge1\" class=\"edge\">\n",
       "<title>c&#45;&#45;yhat</title>\n",
       "<path fill=\"none\" stroke=\"black\" stroke-dasharray=\"5,2\" d=\"M54.03,-15.52C72.66,-13.86 98.35,-11.85 121,-11 157.86,-9.61 167.14,-9.61 204,-11 226.65,-11.85 252.34,-13.86 270.97,-15.52\"/>\n",
       "<text text-anchor=\"middle\" x=\"162.5\" y=\"-14.8\" font-family=\"Times,serif\" font-size=\"14.00\">0.136 (p=0.09)</text>\n",
       "</g>\n",
       "<!-- y&#45;&#45;yhat -->\n",
       "<g id=\"edge3\" class=\"edge\">\n",
       "<title>y&#45;&#45;yhat</title>\n",
       "<path fill=\"none\" stroke=\"black\" d=\"M187.99,-46.58C212.07,-40.27 248.64,-30.68 272.67,-24.38\"/>\n",
       "<text text-anchor=\"middle\" x=\"237.5\" y=\"-40.8\" font-family=\"Times,serif\" font-size=\"14.00\">0.401</text>\n",
       "</g>\n",
       "</g>\n",
       "</svg>\n"
      ],
      "text/plain": [
       "<graphviz.dot.Graph at 0x7fe743c65bd0>"
      ]
     },
     "execution_count": 22,
     "metadata": {},
     "output_type": "execute_result"
    },
    {
     "data": {
      "image/png": "[encoded data removed]",
      "text/plain": [
       "<Figure size 504x144 with 1 Axes>"
      ]
     },
     "metadata": {},
     "output_type": "display_data"
    }
   ],
   "source": [
    "ret = partial_confound_test(y=df.mean_QST_pain_sensitivity,\n",
    "                            yhat=predictions['multi-center'],\n",
    "                            c=df.study.astype(\"category\").cat.codes.values,\n",
    "                            return_null_dist=True,\n",
    "                            cat_c=True,\n",
    "                            random_state=42)\n",
    "\n",
    "sns.set(rc={'figure.figsize':(7,2)})\n",
    "sns.set_style('whitegrid')\n",
    "plot_null_dist(ret)\n",
    "plt.savefig('../res/multi-center/center-bias-nulldist.pdf')\n",
    "plot_graph(ret, outfile_base='../res/multi-center/center-bias')"
   ]
  },
  {
   "cell_type": "code",
   "execution_count": 47,
   "metadata": {
    "ExecuteTime": {
     "end_time": "2021-07-08T15:37:39.503000Z",
     "start_time": "2021-07-08T15:37:39.459007Z"
    },
    "pycharm": {
     "name": "#%%\n"
    }
   },
   "outputs": [
    {
     "data": {
      "text/plain": [
       "0.34641016151377546"
      ]
     },
     "execution_count": 47,
     "metadata": {},
     "output_type": "execute_result"
    }
   ],
   "source": [
    "np.sqrt(0.12)"
   ]
  },
  {
   "cell_type": "code",
   "execution_count": 96,
   "metadata": {
    "ExecuteTime": {
     "end_time": "2021-07-09T08:40:25.806131Z",
     "start_time": "2021-07-09T08:39:18.561377Z"
    },
    "pycharm": {
     "name": "#%%\n"
    }
   },
   "outputs": [
    {
     "name": "stderr",
     "output_type": "stream",
     "text": [
      "\n",
      "  0%|          | 0/500000 [00:00<?, ?it/s]\u001B[A\n",
      "  0%|          | 6/500000 [00:00<2:33:13, 54.38it/s]\u001B[A"
     ]
    },
    {
     "name": "stdout",
     "output_type": "stream",
     "text": [
      "R^2_(observed ~ predicted) = 0.40124317724014147\n",
      "R^2_(observed ~ C(confounder)) = 0.12880847118030403\n",
      "R^2_(predicted ~ C(confounder) = 0.13557816071589912\n"
     ]
    },
    {
     "name": "stderr",
     "output_type": "stream",
     "text": [
      "\n",
      "  0%|          | 10/500000 [00:00<3:04:34, 45.15it/s]\u001B[A\n",
      "  0%|          | 14/500000 [00:00<3:19:27, 41.78it/s]\u001B[A\n",
      "  0%|          | 19/500000 [00:00<3:22:41, 41.11it/s]\u001B[A\n",
      "  0%|          | 22/500000 [00:00<4:41:58, 29.55it/s]\u001B[A\n",
      "  0%|          | 26/500000 [00:00<4:21:53, 31.82it/s]\u001B[A\n",
      "  0%|          | 29/500000 [00:00<4:44:28, 29.29it/s]\u001B[A\n",
      "  0%|          | 32/500000 [00:00<5:05:26, 27.28it/s]\u001B[A\n",
      "  0%|          | 35/500000 [00:01<4:58:03, 27.96it/s]\u001B[A\n",
      "  0%|          | 38/500000 [00:01<4:55:49, 28.17it/s]\u001B[A\n",
      "  0%|          | 41/500000 [00:01<5:23:50, 25.73it/s]\u001B[A\n",
      "  0%|          | 44/500000 [00:01<5:19:55, 26.05it/s]\u001B[A\n",
      "  0%|          | 47/500000 [00:01<5:36:49, 24.74it/s]\u001B[A\n",
      "  0%|          | 51/500000 [00:01<5:18:28, 26.16it/s]\u001B[A\n",
      "  0%|          | 54/500000 [00:01<5:34:02, 24.94it/s]\u001B[A\n",
      "  0%|          | 57/500000 [00:02<5:56:36, 23.37it/s]\u001B[A\n",
      "  0%|          | 60/500000 [00:02<5:40:58, 24.44it/s]\u001B[A\n",
      "  0%|          | 63/500000 [00:02<5:23:31, 25.76it/s]\u001B[A\n",
      "  0%|          | 66/500000 [00:02<5:23:44, 25.74it/s]\u001B[A\n",
      "  0%|          | 69/500000 [00:02<5:13:55, 26.54it/s]\u001B[A\n",
      "  0%|          | 72/500000 [00:02<5:18:45, 26.14it/s]\u001B[A\n",
      "  0%|          | 76/500000 [00:02<5:11:27, 26.75it/s]\u001B[A\n",
      "  0%|          | 80/500000 [00:02<4:59:47, 27.79it/s]\u001B[A\n",
      "  0%|          | 84/500000 [00:02<4:42:34, 29.49it/s]\u001B[A\n",
      "  0%|          | 87/500000 [00:03<4:48:12, 28.91it/s]\u001B[A\n",
      "  0%|          | 90/500000 [00:03<4:54:33, 28.29it/s]\u001B[A\n",
      "  0%|          | 94/500000 [00:03<4:40:22, 29.72it/s]\u001B[A\n",
      "  0%|          | 98/500000 [00:03<4:40:00, 29.76it/s]\u001B[A\n",
      "  0%|          | 102/500000 [00:03<4:45:41, 29.16it/s]\u001B[A\n",
      "  0%|          | 106/500000 [00:03<4:25:08, 31.42it/s]\u001B[A\n",
      "  0%|          | 110/500000 [00:03<4:50:56, 28.64it/s]\u001B[A\n",
      "  0%|          | 113/500000 [00:03<4:59:28, 27.82it/s]\u001B[A\n",
      "  0%|          | 117/500000 [00:04<4:45:36, 29.17it/s]\u001B[A\n",
      "  0%|          | 121/500000 [00:04<4:34:13, 30.38it/s]\u001B[A\n",
      "  0%|          | 125/500000 [00:04<4:30:05, 30.85it/s]\u001B[A\n",
      "  0%|          | 129/500000 [00:04<4:34:10, 30.39it/s]\u001B[A\n",
      "  0%|          | 133/500000 [00:04<4:28:37, 31.01it/s]\u001B[A\n",
      "  0%|          | 137/500000 [00:04<4:21:08, 31.90it/s]\u001B[A\n",
      "  0%|          | 141/500000 [00:04<4:10:04, 33.31it/s]\u001B[A\n",
      "  0%|          | 145/500000 [00:04<4:27:12, 31.18it/s]\u001B[A\n",
      "  0%|          | 149/500000 [00:05<4:28:22, 31.04it/s]\u001B[A\n",
      "  0%|          | 153/500000 [00:05<4:36:13, 30.16it/s]\u001B[A\n",
      "  0%|          | 157/500000 [00:05<4:32:42, 30.55it/s]\u001B[A\n",
      "  0%|          | 161/500000 [00:05<4:24:38, 31.48it/s]\u001B[A\n",
      "  0%|          | 165/500000 [00:05<4:31:33, 30.68it/s]\u001B[A\n",
      "  0%|          | 170/500000 [00:05<4:17:13, 32.39it/s]\u001B[A\n",
      "  0%|          | 174/500000 [00:05<4:18:36, 32.21it/s]\u001B[A\n",
      "  0%|          | 178/500000 [00:05<4:16:34, 32.47it/s]\u001B[A\n",
      "  0%|          | 182/500000 [00:06<4:16:05, 32.53it/s]\u001B[A\n",
      "  0%|          | 186/500000 [00:06<4:03:33, 34.20it/s]\u001B[A\n",
      "  0%|          | 190/500000 [00:06<3:58:18, 34.96it/s]\u001B[A\n",
      "  0%|          | 194/500000 [00:06<4:14:52, 32.68it/s]\u001B[A\n",
      "  0%|          | 198/500000 [00:06<4:12:19, 33.01it/s]\u001B[A\n",
      "  0%|          | 202/500000 [00:06<4:10:31, 33.25it/s]\u001B[A\n",
      "  0%|          | 206/500000 [00:06<4:25:09, 31.41it/s]\u001B[A\n",
      "  0%|          | 210/500000 [00:06<4:32:48, 30.53it/s]\u001B[A\n",
      "  0%|          | 214/500000 [00:07<4:30:48, 30.76it/s]\u001B[A\n",
      "  0%|          | 218/500000 [00:07<4:41:47, 29.56it/s]\u001B[A\n",
      "  0%|          | 222/500000 [00:07<4:27:01, 31.19it/s]\u001B[A\n",
      "  0%|          | 226/500000 [00:07<4:16:29, 32.48it/s]\u001B[A\n",
      "  0%|          | 230/500000 [00:07<4:30:38, 30.78it/s]\u001B[A\n",
      "  0%|          | 234/500000 [00:07<5:07:25, 27.09it/s]\u001B[A\n",
      "  0%|          | 237/500000 [00:07<5:06:11, 27.20it/s]\u001B[A\n",
      "  0%|          | 240/500000 [00:08<5:06:32, 27.17it/s]\u001B[A\n",
      "  0%|          | 243/500000 [00:08<5:29:12, 25.30it/s]\u001B[A\n",
      "  0%|          | 247/500000 [00:08<5:13:04, 26.60it/s]\u001B[A\n",
      "  0%|          | 251/500000 [00:08<5:02:23, 27.54it/s]\u001B[A\n",
      "  0%|          | 255/500000 [00:08<4:50:53, 28.63it/s]\u001B[A\n",
      "  0%|          | 258/500000 [00:08<5:02:25, 27.54it/s]\u001B[A\n",
      "  0%|          | 261/500000 [00:08<5:28:29, 25.35it/s]\u001B[A\n",
      "  0%|          | 265/500000 [00:08<5:15:24, 26.41it/s]\u001B[A\n",
      "  0%|          | 269/500000 [00:09<4:55:36, 28.18it/s]\u001B[A\n",
      "  0%|          | 272/500000 [00:09<4:50:52, 28.63it/s]\u001B[A\n",
      "  0%|          | 275/500000 [00:09<4:55:09, 28.22it/s]\u001B[A\n",
      "  0%|          | 278/500000 [00:09<4:58:44, 27.88it/s]\u001B[A\n",
      "  0%|          | 281/500000 [00:09<5:03:54, 27.41it/s]\u001B[A\n",
      "  0%|          | 285/500000 [00:09<4:57:31, 27.99it/s]\u001B[A\n",
      "  0%|          | 288/500000 [00:09<5:37:14, 24.70it/s]\u001B[A\n",
      "  0%|          | 457/500000 [00:30<4:33:11, 30.48it/s]\u001B[A\n",
      "  0%|          | 294/500000 [00:10<5:27:46, 25.41it/s]\u001B[A\n",
      "  0%|          | 298/500000 [00:10<5:03:54, 27.40it/s]\u001B[A\n",
      "  0%|          | 301/500000 [00:10<5:04:00, 27.40it/s]\u001B[A\n",
      "  0%|          | 305/500000 [00:10<4:56:03, 28.13it/s]\u001B[A\n",
      "  0%|          | 309/500000 [00:10<4:40:01, 29.74it/s]\u001B[A\n",
      "  0%|          | 313/500000 [00:10<4:45:14, 29.20it/s]\u001B[A\n",
      "  0%|          | 317/500000 [00:10<4:35:56, 30.18it/s]\u001B[A\n",
      "  0%|          | 321/500000 [00:10<4:30:24, 30.80it/s]\u001B[A\n",
      "  0%|          | 325/500000 [00:11<4:37:59, 29.96it/s]\u001B[A\n",
      "  0%|          | 329/500000 [00:11<4:38:01, 29.95it/s]\u001B[A\n",
      "  0%|          | 333/500000 [00:11<5:33:44, 24.95it/s]\u001B[A\n",
      "  0%|          | 337/500000 [00:11<5:30:11, 25.22it/s]\u001B[A\n",
      "  0%|          | 341/500000 [00:11<5:15:32, 26.39it/s]\u001B[A\n",
      "  0%|          | 345/500000 [00:11<4:49:26, 28.77it/s]\u001B[A\n",
      "  0%|          | 349/500000 [00:11<4:58:41, 27.88it/s]\u001B[A\n",
      "  0%|          | 352/500000 [00:12<5:04:53, 27.31it/s]\u001B[A\n",
      "  0%|          | 356/500000 [00:12<4:55:01, 28.23it/s]\u001B[A\n",
      "  0%|          | 359/500000 [00:12<5:28:05, 25.38it/s]\u001B[A\n",
      "  0%|          | 363/500000 [00:12<5:11:30, 26.73it/s]\u001B[A"
     ]
    },
    {
     "name": "stdout",
     "output_type": "stream",
     "text": [
      "[2 1 2 1 1 0 1 1 1 0 2 1 1 1 1 0 0 1 0 2 0 0 0 1 2 1 0 0 1 2 0 1 2 1 1 1 2\n",
      " 2 0 0 2 1 1 1 2 2 1 2 1 1 0 0 0 2 2 0 0 2 0 0 1 0 0 0 1 1 0 1 0 0 0 2 1 0\n",
      " 2 0 1 1 1 0 0 0 0 1 1 2 0 1 0 1 1]\n"
     ]
    },
    {
     "name": "stderr",
     "output_type": "stream",
     "text": [
      "\n",
      "  0%|          | 367/500000 [00:12<4:55:49, 28.15it/s]\u001B[A\n",
      "  0%|          | 371/500000 [00:12<4:31:49, 30.63it/s]\u001B[A\n",
      "  0%|          | 375/500000 [00:12<4:33:03, 30.50it/s]\u001B[A\n",
      "  0%|          | 379/500000 [00:12<4:33:09, 30.48it/s]\u001B[A\n",
      "  0%|          | 383/500000 [00:13<4:29:28, 30.90it/s]\u001B[A\n",
      "  0%|          | 387/500000 [00:13<4:16:04, 32.52it/s]\u001B[A\n",
      "  0%|          | 391/500000 [00:13<4:16:04, 32.52it/s]\u001B[A\n",
      "  0%|          | 395/500000 [00:13<4:01:44, 34.45it/s]\u001B[A\n",
      "  0%|          | 399/500000 [00:13<4:08:49, 33.46it/s]\u001B[A\n",
      "  0%|          | 403/500000 [00:13<4:03:54, 34.14it/s]\u001B[A\n",
      "  0%|          | 407/500000 [00:13<4:08:11, 33.55it/s]\u001B[A\n",
      "  0%|          | 411/500000 [00:13<4:17:43, 32.31it/s]\u001B[A\n",
      "  0%|          | 415/500000 [00:14<4:15:29, 32.59it/s]\u001B[A\n",
      "  0%|          | 419/500000 [00:14<4:15:05, 32.64it/s]\u001B[A\n",
      "  0%|          | 423/500000 [00:14<4:06:22, 33.79it/s]\u001B[A\n",
      "  0%|          | 428/500000 [00:14<4:07:06, 33.69it/s]\u001B[A\n",
      "  0%|          | 433/500000 [00:14<3:47:39, 36.57it/s]\u001B[A\n",
      "  0%|          | 437/500000 [00:14<3:49:14, 36.32it/s]\u001B[A\n",
      "  0%|          | 441/500000 [00:14<3:44:15, 37.13it/s]\u001B[A\n",
      "  0%|          | 445/500000 [00:14<3:42:49, 37.36it/s]\u001B[A\n",
      "  0%|          | 449/500000 [00:14<3:45:56, 36.85it/s]\u001B[A\n",
      "  0%|          | 453/500000 [00:15<3:52:58, 35.74it/s]\u001B[A\n",
      "  0%|          | 458/500000 [00:15<3:37:24, 38.30it/s]\u001B[A\n",
      "  0%|          | 462/500000 [00:15<3:47:47, 36.55it/s]\u001B[A\n",
      "  0%|          | 466/500000 [00:15<3:58:17, 34.94it/s]\u001B[A\n",
      "  0%|          | 470/500000 [00:15<4:26:53, 31.19it/s]\u001B[A\n",
      "  0%|          | 474/500000 [00:15<4:33:06, 30.48it/s]\u001B[A\n",
      "  0%|          | 478/500000 [00:15<4:22:38, 31.70it/s]\u001B[A\n",
      "  0%|          | 482/500000 [00:15<4:35:14, 30.25it/s]\u001B[A\n",
      "  0%|          | 486/500000 [00:16<4:25:02, 31.41it/s]\u001B[A\n",
      "  0%|          | 490/500000 [00:16<4:15:01, 32.64it/s]\u001B[A\n",
      "  0%|          | 494/500000 [00:16<4:16:14, 32.49it/s]\u001B[A\n",
      "  0%|          | 498/500000 [00:16<4:16:08, 32.50it/s]\u001B[A\n",
      "  0%|          | 502/500000 [00:16<4:20:36, 31.94it/s]\u001B[A\n",
      "  0%|          | 506/500000 [00:16<4:18:56, 32.15it/s]\u001B[A\n",
      "  0%|          | 510/500000 [00:16<4:07:17, 33.66it/s]\u001B[A\n",
      "  0%|          | 514/500000 [00:16<4:11:52, 33.05it/s]\u001B[A\n",
      "  0%|          | 518/500000 [00:17<4:03:16, 34.22it/s]\u001B[A\n",
      "  0%|          | 522/500000 [00:17<3:57:55, 34.99it/s]\u001B[A\n",
      "  0%|          | 526/500000 [00:17<4:01:13, 34.51it/s]\u001B[A\n",
      "  0%|          | 530/500000 [00:17<4:02:52, 34.28it/s]\u001B[A\n",
      "  0%|          | 534/500000 [00:17<4:07:37, 33.62it/s]\u001B[A\n",
      "  0%|          | 538/500000 [00:17<4:11:39, 33.08it/s]\u001B[A\n",
      "  0%|          | 542/500000 [00:17<4:29:04, 30.94it/s]\u001B[A\n",
      "  0%|          | 546/500000 [00:17<4:23:29, 31.59it/s]\u001B[A\n",
      "  0%|          | 550/500000 [00:18<4:29:47, 30.85it/s]\u001B[A\n",
      "  0%|          | 554/500000 [00:18<4:22:25, 31.72it/s]\u001B[A\n",
      "  0%|          | 558/500000 [00:18<4:17:58, 32.27it/s]\u001B[A\n",
      "  0%|          | 562/500000 [00:18<4:24:37, 31.46it/s]\u001B[A\n",
      "  0%|          | 566/500000 [00:18<4:35:14, 30.24it/s]\u001B[A\n",
      "  0%|          | 570/500000 [00:18<4:26:39, 31.22it/s]\u001B[A\n",
      "  0%|          | 574/500000 [00:18<4:25:51, 31.31it/s]\u001B[A\n",
      "  0%|          | 578/500000 [00:18<4:38:42, 29.87it/s]\u001B[A\n",
      "  0%|          | 582/500000 [00:19<4:21:10, 31.87it/s]\u001B[A\n",
      "  0%|          | 586/500000 [00:19<4:24:43, 31.44it/s]\u001B[A\n",
      "  0%|          | 590/500000 [00:19<4:21:46, 31.80it/s]\u001B[A\n",
      "  0%|          | 594/500000 [00:19<4:19:51, 32.03it/s]\u001B[A\n",
      "  0%|          | 598/500000 [00:19<4:14:20, 32.73it/s]\u001B[A\n",
      "  0%|          | 602/500000 [00:19<4:10:56, 33.17it/s]\u001B[A\n",
      "  0%|          | 606/500000 [00:19<4:13:37, 32.82it/s]\u001B[A\n",
      "  0%|          | 610/500000 [00:19<4:15:14, 32.61it/s]\u001B[A\n",
      "  0%|          | 614/500000 [00:20<4:08:03, 33.55it/s]\u001B[A\n",
      "  0%|          | 618/500000 [00:20<4:16:41, 32.42it/s]\u001B[A\n",
      "  0%|          | 623/500000 [00:20<4:01:52, 34.41it/s]\u001B[A\n",
      "  0%|          | 627/500000 [00:20<4:06:49, 33.72it/s]\u001B[A\n",
      "  0%|          | 631/500000 [00:20<4:01:40, 34.44it/s]\u001B[A\n",
      "  0%|          | 635/500000 [00:20<4:05:54, 33.84it/s]\u001B[A\n",
      "  0%|          | 639/500000 [00:20<4:09:09, 33.40it/s]\u001B[A\n",
      "  0%|          | 643/500000 [00:20<4:06:16, 33.79it/s]\u001B[A\n",
      "  0%|          | 647/500000 [00:21<4:15:49, 32.53it/s]\u001B[A\n",
      "  0%|          | 651/500000 [00:21<4:10:34, 33.21it/s]\u001B[A\n",
      "  0%|          | 655/500000 [00:21<4:00:01, 34.67it/s]\u001B[A\n",
      "  0%|          | 659/500000 [00:21<3:59:35, 34.73it/s]\u001B[A\n",
      "  0%|          | 664/500000 [00:21<3:45:57, 36.83it/s]\u001B[A\n",
      "  0%|          | 668/500000 [00:21<3:52:19, 35.82it/s]\u001B[A\n",
      "  0%|          | 673/500000 [00:21<3:43:52, 37.17it/s]\u001B[A\n",
      "  0%|          | 677/500000 [00:21<3:50:23, 36.12it/s]\u001B[A\n",
      "  0%|          | 681/500000 [00:21<3:58:09, 34.94it/s]\u001B[A\n",
      "  0%|          | 685/500000 [00:22<4:23:51, 31.54it/s]\u001B[A\n",
      "  0%|          | 689/500000 [00:22<4:26:30, 31.23it/s]\u001B[A\n",
      "  0%|          | 693/500000 [00:22<4:23:02, 31.64it/s]\u001B[A\n",
      "  0%|          | 697/500000 [00:22<4:16:11, 32.48it/s]\u001B[A\n",
      "  0%|          | 701/500000 [00:22<4:14:03, 32.76it/s]\u001B[A\n",
      "  0%|          | 705/500000 [00:22<4:03:13, 34.21it/s]\u001B[A\n",
      "  0%|          | 709/500000 [00:22<4:21:15, 31.85it/s]\u001B[A\n",
      "  0%|          | 713/500000 [00:23<4:36:06, 30.14it/s]\u001B[A\n",
      "  0%|          | 717/500000 [00:23<4:45:41, 29.13it/s]\u001B[A\n",
      "  0%|          | 720/500000 [00:23<5:07:42, 27.04it/s]\u001B[A\n",
      "  0%|          | 723/500000 [00:23<5:12:18, 26.64it/s]\u001B[A\n",
      "  0%|          | 727/500000 [00:23<4:48:10, 28.88it/s]\u001B[A\n",
      "  0%|          | 731/500000 [00:23<4:35:12, 30.24it/s]\u001B[A\n",
      "  0%|          | 735/500000 [00:23<4:29:00, 30.93it/s]\u001B[A\n",
      "  0%|          | 739/500000 [00:23<4:24:31, 31.46it/s]\u001B[A\n",
      "  0%|          | 743/500000 [00:23<4:11:09, 33.13it/s]\u001B[A\n",
      "  0%|          | 747/500000 [00:24<4:04:47, 33.99it/s]\u001B[A\n",
      "  0%|          | 751/500000 [00:24<3:57:34, 35.02it/s]\u001B[A\n",
      "  0%|          | 756/500000 [00:24<3:54:06, 35.54it/s]\u001B[A\n",
      "  0%|          | 760/500000 [00:24<3:59:31, 34.74it/s]\u001B[A\n",
      "  0%|          | 764/500000 [00:24<3:53:06, 35.70it/s]\u001B[A\n",
      "  0%|          | 768/500000 [00:24<4:22:08, 31.74it/s]\u001B[A\n",
      "  0%|          | 773/500000 [00:24<4:19:17, 32.09it/s]\u001B[A\n",
      "  0%|          | 777/500000 [00:25<4:33:14, 30.45it/s]\u001B[A\n",
      "  0%|          | 781/500000 [00:25<4:47:26, 28.95it/s]\u001B[A\n",
      "  0%|          | 784/500000 [00:25<4:47:54, 28.90it/s]\u001B[A\n",
      "  0%|          | 788/500000 [00:25<4:47:41, 28.92it/s]\u001B[A\n",
      "  0%|          | 791/500000 [00:25<4:47:39, 28.92it/s]\u001B[A\n",
      "  0%|          | 795/500000 [00:25<4:46:05, 29.08it/s]\u001B[A\n",
      "  0%|          | 799/500000 [00:25<4:56:38, 28.05it/s]\u001B[A\n",
      "  0%|          | 802/500000 [00:25<5:39:28, 24.51it/s]\u001B[A\n",
      "  0%|          | 805/500000 [00:26<5:45:28, 24.08it/s]\u001B[A\n",
      "  0%|          | 809/500000 [00:26<5:17:39, 26.19it/s]\u001B[A\n",
      "  0%|          | 813/500000 [00:26<4:59:44, 27.76it/s]\u001B[A\n",
      "  0%|          | 817/500000 [00:26<4:54:33, 28.25it/s]\u001B[A\n",
      "  0%|          | 820/500000 [00:26<4:59:08, 27.81it/s]\u001B[A\n",
      "  0%|          | 823/500000 [00:26<5:26:32, 25.48it/s]\u001B[A\n",
      "  0%|          | 826/500000 [00:26<5:41:05, 24.39it/s]\u001B[A\n",
      "  0%|          | 830/500000 [00:27<5:23:36, 25.71it/s]\u001B[A\n",
      "  0%|          | 834/500000 [00:27<5:12:19, 26.64it/s]\u001B[A\n",
      "  0%|          | 839/500000 [00:27<4:42:06, 29.49it/s]\u001B[A\n",
      "  0%|          | 843/500000 [00:27<4:37:09, 30.02it/s]\u001B[A\n",
      "  0%|          | 847/500000 [00:27<4:31:13, 30.67it/s]\u001B[A\n",
      "  0%|          | 851/500000 [00:27<4:23:10, 31.61it/s]\u001B[A\n",
      "  0%|          | 855/500000 [00:27<4:14:55, 32.63it/s]\u001B[A\n",
      "  0%|          | 859/500000 [00:27<4:14:55, 32.63it/s]\u001B[A\n",
      "  0%|          | 863/500000 [00:27<4:11:37, 33.06it/s]\u001B[A\n",
      "  0%|          | 868/500000 [00:28<3:57:23, 35.04it/s]\u001B[A\n",
      "  0%|          | 872/500000 [00:28<4:00:26, 34.60it/s]\u001B[A\n",
      "  0%|          | 876/500000 [00:28<4:07:55, 33.55it/s]\u001B[A\n",
      "  0%|          | 880/500000 [00:28<4:39:04, 29.81it/s]\u001B[A\n",
      "  0%|          | 884/500000 [00:28<4:27:16, 31.12it/s]\u001B[A\n",
      "  0%|          | 888/500000 [00:28<4:37:46, 29.95it/s]\u001B[A\n",
      "  0%|          | 892/500000 [00:28<4:52:18, 28.46it/s]\u001B[A\n",
      "  0%|          | 895/500000 [00:29<5:26:12, 25.50it/s]\u001B[A\n",
      "  0%|          | 898/500000 [00:29<5:24:09, 25.66it/s]\u001B[A\n",
      "  0%|          | 902/500000 [00:29<5:23:23, 25.72it/s]\u001B[A\n",
      "  0%|          | 905/500000 [00:29<5:12:40, 26.60it/s]\u001B[A\n",
      "  0%|          | 909/500000 [00:29<5:00:12, 27.71it/s]\u001B[A\n",
      "  0%|          | 912/500000 [00:29<5:02:09, 27.53it/s]\u001B[A\n",
      "  0%|          | 915/500000 [00:29<4:55:29, 28.15it/s]\u001B[A\n",
      "  0%|          | 918/500000 [00:29<5:10:17, 26.81it/s]\u001B[A\n",
      "  0%|          | 921/500000 [00:30<5:18:34, 26.11it/s]\u001B[A\n",
      "  0%|          | 925/500000 [00:30<5:12:10, 26.65it/s]\u001B[A\n",
      "  0%|          | 928/500000 [00:30<5:18:03, 26.15it/s]\u001B[A\n",
      "  0%|          | 931/500000 [00:30<5:59:04, 23.16it/s]\u001B[A\n",
      "  0%|          | 935/500000 [00:30<5:25:11, 25.58it/s]\u001B[A\n",
      "  0%|          | 938/500000 [00:30<5:45:15, 24.09it/s]\u001B[A\n",
      "  0%|          | 941/500000 [00:30<5:54:03, 23.49it/s]\u001B[A\n",
      "  0%|          | 944/500000 [00:30<5:47:32, 23.93it/s]\u001B[A\n",
      "  0%|          | 948/500000 [00:31<5:06:31, 27.13it/s]\u001B[A\n",
      "  0%|          | 952/500000 [00:31<4:51:30, 28.53it/s]\u001B[A\n",
      "  0%|          | 956/500000 [00:31<4:52:07, 28.47it/s]\u001B[A\n",
      "  0%|          | 959/500000 [00:31<5:19:47, 26.01it/s]\u001B[A\n",
      "  0%|          | 962/500000 [00:31<5:44:20, 24.15it/s]\u001B[A\n",
      "  0%|          | 966/500000 [00:31<5:11:33, 26.70it/s]\u001B[A\n",
      "  0%|          | 971/500000 [00:31<4:39:01, 29.81it/s]\u001B[A\n",
      "  0%|          | 975/500000 [00:31<4:22:13, 31.72it/s]\u001B[A\n",
      "  0%|          | 980/500000 [00:32<4:06:44, 33.71it/s]\u001B[A\n",
      "  0%|          | 984/500000 [00:32<3:59:09, 34.78it/s]\u001B[A\n",
      "  0%|          | 988/500000 [00:32<4:02:07, 34.35it/s]\u001B[A\n",
      "  0%|          | 992/500000 [00:32<4:40:27, 29.65it/s]\u001B[A\n",
      "  0%|          | 996/500000 [00:32<4:29:27, 30.86it/s]\u001B[A\n",
      "  0%|          | 1000/500000 [00:32<4:18:32, 32.17it/s]\u001B[A\n",
      "  0%|          | 1004/500000 [00:32<4:35:55, 30.14it/s]\u001B[A\n",
      "  0%|          | 1008/500000 [00:33<4:56:01, 28.09it/s]\u001B[A\n",
      "  0%|          | 1011/500000 [00:33<5:09:50, 26.84it/s]\u001B[A\n",
      "  0%|          | 1014/500000 [00:33<5:17:41, 26.18it/s]\u001B[A\n",
      "  0%|          | 1017/500000 [00:33<6:10:13, 22.46it/s]\u001B[A\n",
      "  0%|          | 1020/500000 [00:33<5:53:08, 23.55it/s]\u001B[A\n",
      "  0%|          | 1023/500000 [00:33<6:25:52, 21.55it/s]\u001B[A\n",
      "  0%|          | 1027/500000 [00:33<6:15:46, 22.13it/s]\u001B[A\n",
      "  0%|          | 1030/500000 [00:34<6:41:38, 20.71it/s]\u001B[A\n",
      "  0%|          | 1033/500000 [00:34<6:21:08, 21.82it/s]\u001B[A\n",
      "  0%|          | 1036/500000 [00:34<6:01:47, 22.99it/s]\u001B[A\n",
      "  0%|          | 1039/500000 [00:34<5:48:49, 23.84it/s]\u001B[A\n",
      "  0%|          | 1042/500000 [00:34<6:08:17, 22.58it/s]\u001B[A\n",
      "  0%|          | 1045/500000 [00:34<5:54:59, 23.43it/s]\u001B[A\n",
      "  0%|          | 1048/500000 [00:34<5:38:23, 24.57it/s]\u001B[A\n",
      "  0%|          | 1052/500000 [00:34<5:14:28, 26.44it/s]\u001B[A\n",
      "  0%|          | 1055/500000 [00:35<5:12:04, 26.65it/s]\u001B[A\n",
      "  0%|          | 1058/500000 [00:35<6:07:22, 22.64it/s]\u001B[A\n",
      "  0%|          | 1061/500000 [00:35<6:11:31, 22.38it/s]\u001B[A\n",
      "  0%|          | 1064/500000 [00:35<6:28:32, 21.40it/s]\u001B[A\n",
      "  0%|          | 1067/500000 [00:35<7:11:47, 19.26it/s]\u001B[A\n",
      "  0%|          | 1071/500000 [00:35<6:42:07, 20.68it/s]\u001B[A\n",
      "  0%|          | 1075/500000 [00:36<5:59:41, 23.12it/s]\u001B[A\n",
      "  0%|          | 1079/500000 [00:36<5:30:44, 25.14it/s]\u001B[A\n",
      "  0%|          | 1082/500000 [00:36<5:28:07, 25.34it/s]\u001B[A\n",
      "  0%|          | 1086/500000 [00:36<5:08:50, 26.92it/s]\u001B[A\n",
      "  0%|          | 1089/500000 [00:36<5:06:08, 27.16it/s]\u001B[A\n",
      "  0%|          | 1092/500000 [00:36<5:09:27, 26.87it/s]\u001B[A\n",
      "  0%|          | 1095/500000 [00:36<5:02:43, 27.47it/s]\u001B[A\n",
      "  0%|          | 1098/500000 [00:36<5:40:23, 24.43it/s]\u001B[A\n",
      "  0%|          | 1101/500000 [00:36<5:24:34, 25.62it/s]\u001B[A\n",
      "  0%|          | 1105/500000 [00:37<5:04:42, 27.29it/s]\u001B[A\n",
      "  0%|          | 1108/500000 [00:37<5:14:28, 26.44it/s]\u001B[A\n",
      "  0%|          | 1112/500000 [00:37<4:55:53, 28.10it/s]\u001B[A\n",
      "  0%|          | 1115/500000 [00:37<4:58:53, 27.82it/s]\u001B[A\n",
      "  0%|          | 1119/500000 [00:37<4:36:05, 30.12it/s]\u001B[A\n",
      "  0%|          | 1123/500000 [00:37<4:40:14, 29.67it/s]\u001B[A\n",
      "  0%|          | 1127/500000 [00:37<4:45:00, 29.17it/s]\u001B[A\n",
      "  0%|          | 1131/500000 [00:37<4:27:33, 31.07it/s]\u001B[A\n",
      "  0%|          | 1135/500000 [00:38<4:26:46, 31.17it/s]\u001B[A\n",
      "  0%|          | 1139/500000 [00:38<4:46:47, 28.99it/s]\u001B[A\n",
      "  0%|          | 1143/500000 [00:38<4:38:51, 29.82it/s]\u001B[A\n",
      "  0%|          | 1147/500000 [00:38<4:44:25, 29.23it/s]\u001B[A\n",
      "  0%|          | 1150/500000 [00:38<4:47:15, 28.94it/s]\u001B[A\n",
      "  0%|          | 1153/500000 [00:38<5:15:22, 26.36it/s]\u001B[A\n",
      "  0%|          | 1156/500000 [00:38<5:20:00, 25.98it/s]\u001B[A\n",
      "  0%|          | 1159/500000 [00:38<5:22:02, 25.82it/s]\u001B[A\n",
      "  0%|          | 1162/500000 [00:39<5:14:32, 26.43it/s]\u001B[A\n",
      "  0%|          | 1166/500000 [00:39<5:05:52, 27.18it/s]\u001B[A\n",
      "  0%|          | 1170/500000 [00:39<4:46:52, 28.98it/s]\u001B[A\n",
      "  0%|          | 1173/500000 [00:39<5:08:22, 26.96it/s]\u001B[A\n",
      "  0%|          | 1176/500000 [00:39<5:42:27, 24.28it/s]\u001B[A\n",
      "  0%|          | 1179/500000 [00:39<5:41:13, 24.36it/s]\u001B[A\n",
      "  0%|          | 1182/500000 [00:39<5:55:28, 23.39it/s]\u001B[A\n",
      "  0%|          | 1185/500000 [00:40<5:44:23, 24.14it/s]\u001B[A\n",
      "  0%|          | 1188/500000 [00:40<5:40:39, 24.40it/s]\u001B[A\n",
      "  0%|          | 1191/500000 [00:40<5:46:07, 24.02it/s]\u001B[A\n",
      "  0%|          | 1194/500000 [00:40<5:39:10, 24.51it/s]\u001B[A\n",
      "  0%|          | 1198/500000 [00:40<5:29:26, 25.23it/s]\u001B[A\n",
      "  0%|          | 1202/500000 [00:40<5:14:23, 26.44it/s]\u001B[A\n",
      "  0%|          | 1206/500000 [00:40<4:51:09, 28.55it/s]\u001B[A\n",
      "  0%|          | 1210/500000 [00:40<4:31:28, 30.62it/s]\u001B[A\n",
      "  0%|          | 1214/500000 [00:41<4:44:36, 29.21it/s]\u001B[A\n",
      "  0%|          | 1218/500000 [00:41<4:34:09, 30.32it/s]\u001B[A\n",
      "  0%|          | 1222/500000 [00:41<4:43:33, 29.32it/s]\u001B[A\n",
      "  0%|          | 1226/500000 [00:41<4:33:21, 30.41it/s]\u001B[A\n",
      "  0%|          | 1230/500000 [00:41<4:36:05, 30.11it/s]\u001B[A\n",
      "  0%|          | 1234/500000 [00:41<4:21:15, 31.82it/s]\u001B[A\n",
      "  0%|          | 1238/500000 [00:41<4:11:38, 33.03it/s]\u001B[A\n",
      "  0%|          | 1242/500000 [00:41<4:02:25, 34.29it/s]\u001B[A\n",
      "  0%|          | 1246/500000 [00:41<4:04:00, 34.07it/s]\u001B[A\n",
      "  0%|          | 1250/500000 [00:42<4:10:50, 33.14it/s]\u001B[A\n",
      "  0%|          | 1255/500000 [00:42<3:53:43, 35.57it/s]\u001B[A\n",
      "  0%|          | 1259/500000 [00:42<4:13:24, 32.80it/s]\u001B[A\n",
      "  0%|          | 1263/500000 [00:42<4:01:48, 34.38it/s]\u001B[A\n",
      "  0%|          | 1267/500000 [00:42<4:02:13, 34.32it/s]\u001B[A\n",
      "  0%|          | 1271/500000 [00:42<4:22:32, 31.66it/s]\u001B[A\n",
      "  0%|          | 1275/500000 [00:42<4:28:31, 30.95it/s]\u001B[A\n",
      "  0%|          | 1279/500000 [00:43<4:24:24, 31.44it/s]\u001B[A\n",
      "  0%|          | 1283/500000 [00:43<4:09:55, 33.26it/s]\u001B[A\n",
      "  0%|          | 1287/500000 [00:43<4:04:31, 33.99it/s]\u001B[A\n",
      "  0%|          | 1291/500000 [00:43<4:24:49, 31.39it/s]\u001B[A"
     ]
    },
    {
     "name": "stdout",
     "output_type": "stream",
     "text": [
      "[1 1 2 2 2 0 0 1 1 0 1 1 1 0 0 0 2 0 0 2 1 0 0 2 1 1 0 0 1 2 1 1 0 2 2 0 1\n",
      " 0 0 0 1 2 1 1 0 1 0 1 1 0 1 2 1 0 1 1 1 1 0 0 1 2 1 0 0 1 0 2 1 1 0 1 2 0\n",
      " 1 2 0 2 0 1 2 2 0 0 1 1 0 1 0 0 2]\n"
     ]
    },
    {
     "name": "stderr",
     "output_type": "stream",
     "text": [
      "\n",
      "  0%|          | 1295/500000 [00:43<4:18:24, 32.16it/s]\u001B[A\n",
      "  0%|          | 1300/500000 [00:43<3:55:00, 35.37it/s]\u001B[A\n",
      "  0%|          | 1304/500000 [00:43<4:05:24, 33.87it/s]\u001B[A\n",
      "  0%|          | 1308/500000 [00:43<4:19:57, 31.97it/s]\u001B[A\n",
      "  0%|          | 1313/500000 [00:44<4:12:05, 32.97it/s]\u001B[A\n",
      "  0%|          | 1317/500000 [00:44<4:01:53, 34.36it/s]\u001B[A\n",
      "  0%|          | 1321/500000 [00:44<3:56:22, 35.16it/s]\u001B[A\n",
      "  0%|          | 1326/500000 [00:44<3:41:36, 37.50it/s]\u001B[A\n",
      "  0%|          | 1331/500000 [00:44<3:36:22, 38.41it/s]\u001B[A\n",
      "  0%|          | 1335/500000 [00:44<3:46:36, 36.68it/s]\u001B[A\n",
      "  0%|          | 1340/500000 [00:44<3:39:46, 37.81it/s]\u001B[A\n",
      "  0%|          | 1344/500000 [00:44<3:43:18, 37.22it/s]\u001B[A\n",
      "  0%|          | 1348/500000 [00:44<4:04:50, 33.94it/s]\u001B[A\n",
      "  0%|          | 1352/500000 [00:45<4:06:27, 33.72it/s]\u001B[A\n",
      "  0%|          | 1356/500000 [00:45<4:01:58, 34.35it/s]\u001B[A\n",
      "  0%|          | 1360/500000 [00:45<4:02:38, 34.25it/s]\u001B[A\n",
      "  0%|          | 1364/500000 [00:45<4:00:40, 34.53it/s]\u001B[A\n",
      "  0%|          | 1368/500000 [00:45<4:08:12, 33.48it/s]\u001B[A\n",
      "  0%|          | 1372/500000 [00:45<4:06:30, 33.71it/s]\u001B[A\n",
      "  0%|          | 1376/500000 [00:45<4:01:17, 34.44it/s]\u001B[A\n",
      "  0%|          | 1380/500000 [00:45<4:39:30, 29.73it/s]\u001B[A\n",
      "  0%|          | 1384/500000 [00:46<4:29:22, 30.85it/s]\u001B[A\n",
      "  0%|          | 1388/500000 [00:46<4:18:07, 32.19it/s]\u001B[A\n",
      "  0%|          | 1392/500000 [00:46<4:13:14, 32.82it/s]\u001B[A\n",
      "  0%|          | 1396/500000 [00:46<4:04:41, 33.96it/s]\u001B[A\n",
      "  0%|          | 1400/500000 [00:46<4:02:42, 34.24it/s]\u001B[A\n",
      "  0%|          | 1404/500000 [00:46<4:03:32, 34.12it/s]\u001B[A\n",
      "  0%|          | 1408/500000 [00:46<3:57:13, 35.03it/s]\u001B[A\n",
      "  0%|          | 1412/500000 [00:46<4:04:13, 34.03it/s]\u001B[A\n",
      "  0%|          | 1416/500000 [00:46<3:58:55, 34.78it/s]\u001B[A\n",
      "  0%|          | 1420/500000 [00:47<3:51:23, 35.91it/s]\u001B[A\n",
      "  0%|          | 1424/500000 [00:47<4:04:14, 34.02it/s]\u001B[A\n",
      "  0%|          | 1428/500000 [00:47<4:08:19, 33.46it/s]\u001B[A\n",
      "  0%|          | 1433/500000 [00:47<3:49:50, 36.15it/s]\u001B[A\n",
      "  0%|          | 1437/500000 [00:47<4:06:22, 33.73it/s]\u001B[A\n",
      "  0%|          | 1443/500000 [00:47<3:43:46, 37.13it/s]\u001B[A\n",
      "  0%|          | 1449/500000 [00:47<3:30:00, 39.57it/s]\u001B[A\n",
      "  0%|          | 1454/500000 [00:47<3:19:42, 41.60it/s]\u001B[A\n",
      "  0%|          | 1459/500000 [00:48<3:33:09, 38.98it/s]\u001B[A\n",
      "  0%|          | 1464/500000 [00:48<3:25:46, 40.38it/s]\u001B[A\n",
      "  0%|          | 1469/500000 [00:48<3:21:48, 41.17it/s]\u001B[A\n",
      "  0%|          | 1474/500000 [00:48<3:15:41, 42.46it/s]\u001B[A\n",
      "  0%|          | 1479/500000 [00:48<3:18:02, 41.95it/s]\u001B[A\n",
      "  0%|          | 1484/500000 [00:48<3:44:22, 37.03it/s]\u001B[A\n",
      "  0%|          | 1488/500000 [00:48<3:55:33, 35.27it/s]\u001B[A\n",
      "  0%|          | 1492/500000 [00:48<4:04:26, 33.99it/s]\u001B[A\n",
      "  0%|          | 1496/500000 [00:49<3:57:22, 35.00it/s]\u001B[A\n",
      "  0%|          | 1500/500000 [00:49<4:01:35, 34.39it/s]\u001B[A\n",
      "  0%|          | 1504/500000 [00:49<3:58:39, 34.81it/s]\u001B[A\n",
      "  0%|          | 1508/500000 [00:49<4:08:25, 33.44it/s]\u001B[A\n",
      "  0%|          | 1513/500000 [00:49<3:54:59, 35.36it/s]\u001B[A\n",
      "  0%|          | 1518/500000 [00:49<3:49:15, 36.24it/s]\u001B[A\n",
      "  0%|          | 1522/500000 [00:49<3:48:13, 36.40it/s]\u001B[A\n",
      "  0%|          | 1526/500000 [00:49<3:51:48, 35.84it/s]\u001B[A\n",
      "  0%|          | 1530/500000 [00:50<3:46:12, 36.73it/s]\u001B[A\n",
      "  0%|          | 1535/500000 [00:50<3:43:16, 37.21it/s]\u001B[A\n",
      "  0%|          | 1539/500000 [00:50<3:48:12, 36.40it/s]\u001B[A\n",
      "  0%|          | 1543/500000 [00:50<3:50:46, 36.00it/s]\u001B[A\n",
      "  0%|          | 1547/500000 [00:50<3:55:28, 35.28it/s]\u001B[A\n",
      "  0%|          | 1551/500000 [00:50<3:57:48, 34.93it/s]\u001B[A\n",
      "  0%|          | 1555/500000 [00:50<4:05:37, 33.82it/s]\u001B[A\n",
      "  0%|          | 1559/500000 [00:50<4:20:57, 31.83it/s]\u001B[A\n",
      "  0%|          | 1564/500000 [00:51<4:00:32, 34.54it/s]\u001B[A\n",
      "  0%|          | 1568/500000 [00:51<3:57:34, 34.97it/s]\u001B[A\n",
      "  0%|          | 1572/500000 [00:51<3:51:44, 35.85it/s]\u001B[A\n",
      "  0%|          | 1576/500000 [00:51<3:50:14, 36.08it/s]\u001B[A\n",
      "  0%|          | 1581/500000 [00:51<3:44:36, 36.98it/s]\u001B[A\n",
      "  0%|          | 1586/500000 [00:51<3:33:58, 38.82it/s]\u001B[A\n",
      "  0%|          | 1590/500000 [00:51<3:38:12, 38.07it/s]\u001B[A\n",
      "  0%|          | 1595/500000 [00:51<3:25:41, 40.38it/s]\u001B[A\n",
      "  0%|          | 1600/500000 [00:51<3:33:41, 38.87it/s]\u001B[A\n",
      "  0%|          | 1604/500000 [00:52<3:35:59, 38.46it/s]\u001B[A\n",
      "  0%|          | 1608/500000 [00:52<3:33:42, 38.87it/s]\u001B[A\n",
      "  0%|          | 1612/500000 [00:52<3:35:56, 38.47it/s]\u001B[A\n",
      "  0%|          | 1616/500000 [00:52<3:34:58, 38.64it/s]\u001B[A\n",
      "  0%|          | 1621/500000 [00:52<3:29:07, 39.72it/s]\u001B[A\n",
      "  0%|          | 1626/500000 [00:52<3:25:32, 40.41it/s]\u001B[A\n",
      "  0%|          | 1631/500000 [00:52<3:17:15, 42.11it/s]\u001B[A\n",
      "  0%|          | 1636/500000 [00:52<3:36:40, 38.33it/s]\u001B[A\n",
      "  0%|          | 1640/500000 [00:53<4:32:56, 30.43it/s]\u001B[A\n",
      "  0%|          | 1644/500000 [00:53<4:13:38, 32.75it/s]\u001B[A"
     ]
    },
    {
     "name": "stdout",
     "output_type": "stream",
     "text": [
      "[1 0 1 1 0 0 1 1 1 1 1 0 0 1 1 2 0 1 0 1 1 2 1 1 2 1 1 2 2 2 1 1 2 2 1 2 0\n",
      " 1 0 0 2 0 2 1 0 2 1 0 1 0 0 0 0 0 0 0 1 2 2 1 1 0 1 0 0 1 1 1 0 1 0 2 1 2\n",
      " 1 0 0 2 1 0 0 0 0 0 1 2 0 0 0 2 1]\n"
     ]
    },
    {
     "name": "stderr",
     "output_type": "stream",
     "text": [
      "\n",
      "  0%|          | 1649/500000 [00:53<4:04:05, 34.03it/s]\u001B[A\n",
      "  0%|          | 1653/500000 [00:53<4:07:17, 33.59it/s]\u001B[A\n",
      "  0%|          | 1657/500000 [00:53<4:11:56, 32.97it/s]\u001B[A\n",
      "  0%|          | 1662/500000 [00:53<4:03:56, 34.05it/s]\u001B[A\n",
      "  0%|          | 1666/500000 [00:53<4:14:20, 32.65it/s]\u001B[A\n",
      "  0%|          | 1670/500000 [00:53<4:09:47, 33.25it/s]\u001B[A\n",
      "  0%|          | 1674/500000 [00:54<4:03:13, 34.15it/s]\u001B[A\n",
      "  0%|          | 1678/500000 [00:54<4:15:05, 32.56it/s]\u001B[A\n",
      "  0%|          | 1682/500000 [00:54<4:08:10, 33.47it/s]\u001B[A\n",
      "  0%|          | 1686/500000 [00:54<4:11:48, 32.98it/s]\u001B[A\n",
      "  0%|          | 1690/500000 [00:54<4:03:55, 34.05it/s]\u001B[A\n",
      "  0%|          | 1694/500000 [00:54<4:10:42, 33.13it/s]\u001B[A\n",
      "  0%|          | 1698/500000 [00:54<4:14:41, 32.61it/s]\u001B[A\n",
      "  0%|          | 1702/500000 [00:54<4:04:54, 33.91it/s]\u001B[A\n",
      "  0%|          | 1706/500000 [00:54<3:54:57, 35.35it/s]\u001B[A\n",
      "  0%|          | 1710/500000 [00:55<4:01:23, 34.40it/s]\u001B[A\n",
      "  0%|          | 1714/500000 [00:55<4:26:45, 31.13it/s]\u001B[A\n",
      "  0%|          | 1718/500000 [00:55<4:33:51, 30.32it/s]\u001B[A\n",
      "  0%|          | 1722/500000 [00:55<4:31:22, 30.60it/s]\u001B[A\n",
      "  0%|          | 1726/500000 [00:55<4:18:53, 32.08it/s]\u001B[A\n",
      "  0%|          | 1730/500000 [00:55<4:17:47, 32.21it/s]\u001B[A\n",
      "  0%|          | 1734/500000 [00:55<4:18:19, 32.15it/s]\u001B[A\n",
      "  0%|          | 1738/500000 [00:56<4:32:46, 30.44it/s]\u001B[A\n",
      "  0%|          | 1742/500000 [00:56<4:36:26, 30.04it/s]\u001B[A\n",
      "  0%|          | 1746/500000 [00:56<4:47:02, 28.93it/s]\u001B[A\n",
      "  0%|          | 1749/500000 [00:56<4:48:48, 28.75it/s]\u001B[A\n",
      "  0%|          | 1753/500000 [00:56<4:32:58, 30.42it/s]\u001B[A\n",
      "  0%|          | 1757/500000 [00:56<4:18:28, 32.13it/s]\u001B[A\n",
      "  0%|          | 1761/500000 [00:56<4:31:00, 30.64it/s]\u001B[A\n",
      "  0%|          | 1765/500000 [00:56<4:16:31, 32.37it/s]\u001B[A\n",
      "  0%|          | 1769/500000 [00:56<4:09:13, 33.32it/s]\u001B[A\n",
      "  0%|          | 1773/500000 [00:57<4:10:50, 33.10it/s]\u001B[A\n",
      "  0%|          | 1777/500000 [00:57<4:26:59, 31.10it/s]\u001B[A\n",
      "  0%|          | 1781/500000 [00:57<4:24:55, 31.34it/s]\u001B[A\n",
      "  0%|          | 1785/500000 [00:57<4:11:52, 32.97it/s]\u001B[A\n",
      "  0%|          | 1790/500000 [00:57<3:48:43, 36.30it/s]\u001B[A\n",
      "  0%|          | 1795/500000 [00:57<3:55:06, 35.32it/s]\u001B[A\n",
      "  0%|          | 1799/500000 [00:57<4:32:15, 30.50it/s]\u001B[A\n",
      "  0%|          | 1803/500000 [00:58<4:23:02, 31.57it/s]\u001B[A\n",
      "  0%|          | 1808/500000 [00:58<3:57:49, 34.91it/s]\u001B[A\n",
      "  0%|          | 1812/500000 [00:58<3:48:55, 36.27it/s]\u001B[A\n",
      "  0%|          | 1817/500000 [00:58<3:35:49, 38.47it/s]\u001B[A\n",
      "  0%|          | 1821/500000 [00:58<3:37:17, 38.21it/s]\u001B[A\n",
      "  0%|          | 1826/500000 [00:58<3:25:42, 40.36it/s]\u001B[A\n",
      "  0%|          | 1831/500000 [00:58<3:27:28, 40.02it/s]\u001B[A\n",
      "  0%|          | 1836/500000 [00:58<3:32:44, 39.03it/s]\u001B[A\n",
      "  0%|          | 1840/500000 [00:58<3:33:59, 38.80it/s]\u001B[A\n",
      "  0%|          | 1844/500000 [00:59<3:42:49, 37.26it/s]\u001B[A\n",
      "  0%|          | 1848/500000 [00:59<3:38:54, 37.93it/s]\u001B[A"
     ]
    },
    {
     "name": "stdout",
     "output_type": "stream",
     "text": [
      "[0 0 0 0 1 1 1 2 0 2 0 0 0 2 1 1 0 1 1 1 0 0 2 2 1 2 1 0 1 1 0 1 1 1 0 1 0\n",
      " 0 2 1 1 1 0 1 2 0 2 0 0 0 1 0 0 2 0 1 2 1 1 2 0 2 1 0 1 1 1 2 0 1 1 1 1 0\n",
      " 0 1 0 2 2 2 0 1 1 0 2 0 2 0 0 1 1]\n"
     ]
    },
    {
     "name": "stderr",
     "output_type": "stream",
     "text": [
      "\n",
      "  0%|          | 1852/500000 [00:59<3:39:05, 37.89it/s]\u001B[A\n",
      "  0%|          | 1856/500000 [00:59<4:13:03, 32.81it/s]\u001B[A\n",
      "  0%|          | 1860/500000 [00:59<4:00:19, 34.55it/s]\u001B[A\n",
      "  0%|          | 1864/500000 [00:59<4:03:40, 34.07it/s]\u001B[A\n",
      "  0%|          | 1868/500000 [00:59<4:06:24, 33.69it/s]\u001B[A\n",
      "  0%|          | 1872/500000 [00:59<4:08:53, 33.36it/s]\u001B[A\n",
      "  0%|          | 1876/500000 [01:00<4:08:25, 33.42it/s]\u001B[A\n",
      "  0%|          | 1880/500000 [01:00<4:04:26, 33.96it/s]\u001B[A\n",
      "  0%|          | 1884/500000 [01:00<4:38:27, 29.81it/s]\u001B[A\n",
      "  0%|          | 1888/500000 [01:00<4:22:55, 31.58it/s]\u001B[A\n",
      "  0%|          | 1892/500000 [01:00<4:27:54, 30.99it/s]\u001B[A\n",
      "  0%|          | 1896/500000 [01:00<4:32:34, 30.46it/s]\u001B[A\n",
      "  0%|          | 1900/500000 [01:00<4:27:12, 31.07it/s]\u001B[A\n",
      "  0%|          | 1904/500000 [01:00<4:25:15, 31.30it/s]\u001B[A\n",
      "  0%|          | 1908/500000 [01:01<4:10:44, 33.11it/s]\u001B[A\n",
      "  0%|          | 1912/500000 [01:01<4:40:10, 29.63it/s]\u001B[A\n",
      "  0%|          | 1916/500000 [01:01<4:36:03, 30.07it/s]\u001B[A\n",
      "  0%|          | 1920/500000 [01:01<4:55:35, 28.08it/s]\u001B[A\n",
      "  0%|          | 1923/500000 [01:01<5:17:10, 26.17it/s]\u001B[A\n",
      "  0%|          | 1926/500000 [01:01<5:21:44, 25.80it/s]\u001B[A\n",
      "  0%|          | 1929/500000 [01:01<5:18:10, 26.09it/s]\u001B[A\n",
      "  0%|          | 1933/500000 [01:01<4:54:12, 28.21it/s]\u001B[A\n",
      "  0%|          | 1937/500000 [01:02<4:35:37, 30.12it/s]\u001B[A\n",
      "  0%|          | 1941/500000 [01:02<4:17:05, 32.29it/s]\u001B[A\n",
      "  0%|          | 1946/500000 [01:02<3:59:53, 34.60it/s]\u001B[A\n",
      "  0%|          | 1950/500000 [01:02<4:08:09, 33.45it/s]\u001B[A\n",
      "  0%|          | 1954/500000 [01:02<4:05:45, 33.78it/s]\u001B[A\n",
      "  0%|          | 1959/500000 [01:02<3:51:59, 35.78it/s]\u001B[A\n",
      "  0%|          | 1963/500000 [01:02<4:07:24, 33.55it/s]\u001B[A\n",
      "  0%|          | 1967/500000 [01:02<3:55:29, 35.25it/s]\u001B[A\n",
      "  0%|          | 1971/500000 [01:03<4:14:06, 32.67it/s]\u001B[A\n",
      "  0%|          | 1976/500000 [01:03<3:48:30, 36.33it/s]\u001B[A\n",
      "  0%|          | 1981/500000 [01:03<3:38:43, 37.95it/s]\u001B[A\n",
      "  0%|          | 1986/500000 [01:03<3:32:24, 39.08it/s]\u001B[A\n",
      "  0%|          | 1991/500000 [01:03<3:22:47, 40.93it/s]\u001B[A\n",
      "  0%|          | 1996/500000 [01:03<3:22:23, 41.01it/s]\u001B[A\n",
      "  0%|          | 2001/500000 [01:03<3:22:42, 40.94it/s]\u001B[A\n",
      "  0%|          | 2006/500000 [01:03<3:28:20, 39.84it/s]\u001B[A\n",
      "  0%|          | 2011/500000 [01:04<3:31:38, 39.22it/s]\u001B[A\n",
      "  0%|          | 2015/500000 [01:04<3:37:30, 38.16it/s]\u001B[A\n",
      "  0%|          | 2020/500000 [01:04<3:26:18, 40.23it/s]\u001B[A\n",
      "  0%|          | 2025/500000 [01:04<3:45:55, 36.74it/s]\u001B[A\n",
      "  0%|          | 2029/500000 [01:04<3:53:31, 35.54it/s]\u001B[A\n",
      "  0%|          | 2034/500000 [01:04<3:38:43, 37.94it/s]\u001B[A\n",
      "  0%|          | 2038/500000 [01:04<3:43:46, 37.09it/s]\u001B[A\n",
      "  0%|          | 2042/500000 [01:04<4:03:59, 34.01it/s]\u001B[A\n",
      "  0%|          | 2046/500000 [01:04<4:02:37, 34.21it/s]\u001B[A\n",
      "  0%|          | 2050/500000 [01:05<3:56:47, 35.05it/s]\u001B[A\n",
      "  0%|          | 2054/500000 [01:05<3:53:20, 35.57it/s]\u001B[A\n",
      "  0%|          | 2058/500000 [01:05<3:50:50, 35.95it/s]\u001B[A\n",
      "  0%|          | 2062/500000 [01:05<4:14:29, 32.61it/s]\u001B[A\n",
      "  0%|          | 2066/500000 [01:05<4:14:21, 32.63it/s]\u001B[A\n",
      "  0%|          | 2071/500000 [01:05<3:57:37, 34.92it/s]\u001B[A\n",
      "  0%|          | 2076/500000 [01:05<3:48:06, 36.38it/s]\u001B[A\n",
      "  0%|          | 2080/500000 [01:05<3:55:33, 35.23it/s]\u001B[A\n",
      "  0%|          | 2084/500000 [01:06<3:53:46, 35.50it/s]\u001B[A\n",
      "  0%|          | 2088/500000 [01:06<3:49:13, 36.20it/s]\u001B[A\n",
      "  0%|          | 2092/500000 [01:06<3:56:04, 35.15it/s]\u001B[A\n",
      "  0%|          | 2096/500000 [01:06<4:35:32, 30.12it/s]\u001B[A\n",
      "  0%|          | 2100/500000 [01:06<4:35:51, 30.08it/s]\u001B[A\n",
      "  0%|          | 2104/500000 [01:06<4:43:24, 29.28it/s]\u001B[A\n",
      "  0%|          | 2108/500000 [01:06<4:39:51, 29.65it/s]\u001B[A\n",
      "  0%|          | 2112/500000 [01:07<4:53:57, 28.23it/s]\u001B[A"
     ]
    },
    {
     "ename": "KeyboardInterrupt",
     "evalue": "",
     "output_type": "error",
     "traceback": [
      "\u001B[0;31m---------------------------------------------------------------------------\u001B[0m",
      "\u001B[0;31mKeyboardInterrupt\u001B[0m                         Traceback (most recent call last)",
      "\u001B[0;32m<ipython-input-96-22ebd575d5b5>\u001B[0m in \u001B[0;36m<module>\u001B[0;34m\u001B[0m\n\u001B[1;32m     36\u001B[0m         \u001B[0;34m'confounder'\u001B[0m\u001B[0;34m:\u001B[0m \u001B[0mrng\u001B[0m\u001B[0;34m.\u001B[0m\u001B[0mpermutation\u001B[0m\u001B[0;34m(\u001B[0m\u001B[0mdf\u001B[0m\u001B[0;34m.\u001B[0m\u001B[0mstudy\u001B[0m\u001B[0;34m.\u001B[0m\u001B[0mastype\u001B[0m\u001B[0;34m(\u001B[0m\u001B[0;34m\"category\"\u001B[0m\u001B[0;34m)\u001B[0m\u001B[0;34m.\u001B[0m\u001B[0mcat\u001B[0m\u001B[0;34m.\u001B[0m\u001B[0mcodes\u001B[0m\u001B[0;34m.\u001B[0m\u001B[0mvalues\u001B[0m\u001B[0;34m)\u001B[0m\u001B[0;34m\u001B[0m\u001B[0;34m\u001B[0m\u001B[0m\n\u001B[1;32m     37\u001B[0m     })\n\u001B[0;32m---> 38\u001B[0;31m     \u001B[0mr2_obs_conf_rs\u001B[0m \u001B[0;34m=\u001B[0m \u001B[0mols\u001B[0m\u001B[0;34m(\u001B[0m\u001B[0;34m\"observed ~ C(confounder)\"\u001B[0m\u001B[0;34m,\u001B[0m \u001B[0mdata\u001B[0m\u001B[0;34m=\u001B[0m\u001B[0mdata_rs\u001B[0m\u001B[0;34m)\u001B[0m\u001B[0;34m.\u001B[0m\u001B[0mfit\u001B[0m\u001B[0;34m(\u001B[0m\u001B[0;34m)\u001B[0m\u001B[0;34m.\u001B[0m\u001B[0mrsquared\u001B[0m\u001B[0;34m\u001B[0m\u001B[0;34m\u001B[0m\u001B[0m\n\u001B[0m\u001B[1;32m     39\u001B[0m \u001B[0;34m\u001B[0m\u001B[0m\n\u001B[1;32m     40\u001B[0m     \u001B[0;32mif\u001B[0m \u001B[0;34m(\u001B[0m\u001B[0mnp\u001B[0m\u001B[0;34m.\u001B[0m\u001B[0mabs\u001B[0m\u001B[0;34m(\u001B[0m\u001B[0mr2_obs_conf_rs\u001B[0m \u001B[0;34m-\u001B[0m \u001B[0mr2_obs_conf_true\u001B[0m\u001B[0;34m)\u001B[0m \u001B[0;34m<\u001B[0m \u001B[0mtolerance\u001B[0m\u001B[0;34m)\u001B[0m\u001B[0;34m:\u001B[0m\u001B[0;34m\u001B[0m\u001B[0;34m\u001B[0m\u001B[0m\n",
      "\u001B[0;32m/opt/anaconda3/lib/python3.7/site-packages/statsmodels/base/model.py\u001B[0m in \u001B[0;36mfrom_formula\u001B[0;34m(cls, formula, data, subset, drop_cols, *args, **kwargs)\u001B[0m\n\u001B[1;32m    157\u001B[0m \u001B[0;34m\u001B[0m\u001B[0m\n\u001B[1;32m    158\u001B[0m         tmp = handle_formula_data(data, None, formula, depth=eval_env,\n\u001B[0;32m--> 159\u001B[0;31m                                   missing=missing)\n\u001B[0m\u001B[1;32m    160\u001B[0m         \u001B[0;34m(\u001B[0m\u001B[0;34m(\u001B[0m\u001B[0mendog\u001B[0m\u001B[0;34m,\u001B[0m \u001B[0mexog\u001B[0m\u001B[0;34m)\u001B[0m\u001B[0;34m,\u001B[0m \u001B[0mmissing_idx\u001B[0m\u001B[0;34m,\u001B[0m \u001B[0mdesign_info\u001B[0m\u001B[0;34m)\u001B[0m \u001B[0;34m=\u001B[0m \u001B[0mtmp\u001B[0m\u001B[0;34m\u001B[0m\u001B[0;34m\u001B[0m\u001B[0m\n\u001B[1;32m    161\u001B[0m \u001B[0;34m\u001B[0m\u001B[0m\n",
      "\u001B[0;32m/opt/anaconda3/lib/python3.7/site-packages/statsmodels/formula/formulatools.py\u001B[0m in \u001B[0;36mhandle_formula_data\u001B[0;34m(Y, X, formula, depth, missing)\u001B[0m\n\u001B[1;32m     63\u001B[0m         \u001B[0;32mif\u001B[0m \u001B[0mdata_util\u001B[0m\u001B[0;34m.\u001B[0m\u001B[0m_is_using_pandas\u001B[0m\u001B[0;34m(\u001B[0m\u001B[0mY\u001B[0m\u001B[0;34m,\u001B[0m \u001B[0;32mNone\u001B[0m\u001B[0;34m)\u001B[0m\u001B[0;34m:\u001B[0m\u001B[0;34m\u001B[0m\u001B[0;34m\u001B[0m\u001B[0m\n\u001B[1;32m     64\u001B[0m             result = dmatrices(formula, Y, depth, return_type='dataframe',\n\u001B[0;32m---> 65\u001B[0;31m                                NA_action=na_action)\n\u001B[0m\u001B[1;32m     66\u001B[0m         \u001B[0;32melse\u001B[0m\u001B[0;34m:\u001B[0m\u001B[0;34m\u001B[0m\u001B[0;34m\u001B[0m\u001B[0m\n\u001B[1;32m     67\u001B[0m             result = dmatrices(formula, Y, depth, return_type='dataframe',\n",
      "\u001B[0;32m/opt/anaconda3/lib/python3.7/site-packages/patsy/highlevel.py\u001B[0m in \u001B[0;36mdmatrices\u001B[0;34m(formula_like, data, eval_env, NA_action, return_type)\u001B[0m\n\u001B[1;32m    308\u001B[0m     \u001B[0meval_env\u001B[0m \u001B[0;34m=\u001B[0m \u001B[0mEvalEnvironment\u001B[0m\u001B[0;34m.\u001B[0m\u001B[0mcapture\u001B[0m\u001B[0;34m(\u001B[0m\u001B[0meval_env\u001B[0m\u001B[0;34m,\u001B[0m \u001B[0mreference\u001B[0m\u001B[0;34m=\u001B[0m\u001B[0;36m1\u001B[0m\u001B[0;34m)\u001B[0m\u001B[0;34m\u001B[0m\u001B[0;34m\u001B[0m\u001B[0m\n\u001B[1;32m    309\u001B[0m     (lhs, rhs) = _do_highlevel_design(formula_like, data, eval_env,\n\u001B[0;32m--> 310\u001B[0;31m                                       NA_action, return_type)\n\u001B[0m\u001B[1;32m    311\u001B[0m     \u001B[0;32mif\u001B[0m \u001B[0mlhs\u001B[0m\u001B[0;34m.\u001B[0m\u001B[0mshape\u001B[0m\u001B[0;34m[\u001B[0m\u001B[0;36m1\u001B[0m\u001B[0;34m]\u001B[0m \u001B[0;34m==\u001B[0m \u001B[0;36m0\u001B[0m\u001B[0;34m:\u001B[0m\u001B[0;34m\u001B[0m\u001B[0;34m\u001B[0m\u001B[0m\n\u001B[1;32m    312\u001B[0m         \u001B[0;32mraise\u001B[0m \u001B[0mPatsyError\u001B[0m\u001B[0;34m(\u001B[0m\u001B[0;34m\"model is missing required outcome variables\"\u001B[0m\u001B[0;34m)\u001B[0m\u001B[0;34m\u001B[0m\u001B[0;34m\u001B[0m\u001B[0m\n",
      "\u001B[0;32m/opt/anaconda3/lib/python3.7/site-packages/patsy/highlevel.py\u001B[0m in \u001B[0;36m_do_highlevel_design\u001B[0;34m(formula_like, data, eval_env, NA_action, return_type)\u001B[0m\n\u001B[1;32m    167\u001B[0m         return build_design_matrices(design_infos, data,\n\u001B[1;32m    168\u001B[0m                                      \u001B[0mNA_action\u001B[0m\u001B[0;34m=\u001B[0m\u001B[0mNA_action\u001B[0m\u001B[0;34m,\u001B[0m\u001B[0;34m\u001B[0m\u001B[0;34m\u001B[0m\u001B[0m\n\u001B[0;32m--> 169\u001B[0;31m                                      return_type=return_type)\n\u001B[0m\u001B[1;32m    170\u001B[0m     \u001B[0;32melse\u001B[0m\u001B[0;34m:\u001B[0m\u001B[0;34m\u001B[0m\u001B[0;34m\u001B[0m\u001B[0m\n\u001B[1;32m    171\u001B[0m         \u001B[0;31m# No builders, but maybe we can still get matrices\u001B[0m\u001B[0;34m\u001B[0m\u001B[0;34m\u001B[0m\u001B[0;34m\u001B[0m\u001B[0m\n",
      "\u001B[0;32m/opt/anaconda3/lib/python3.7/site-packages/patsy/build.py\u001B[0m in \u001B[0;36mbuild_design_matrices\u001B[0;34m(design_infos, data, NA_action, return_type, dtype)\u001B[0m\n\u001B[1;32m    931\u001B[0m         results.append(_build_design_matrix(design_info,\n\u001B[1;32m    932\u001B[0m                                             \u001B[0mfactor_info_to_values\u001B[0m\u001B[0;34m,\u001B[0m\u001B[0;34m\u001B[0m\u001B[0;34m\u001B[0m\u001B[0m\n\u001B[0;32m--> 933\u001B[0;31m                                             dtype))\n\u001B[0m\u001B[1;32m    934\u001B[0m     \u001B[0mmatrices\u001B[0m \u001B[0;34m=\u001B[0m \u001B[0;34m[\u001B[0m\u001B[0;34m]\u001B[0m\u001B[0;34m\u001B[0m\u001B[0;34m\u001B[0m\u001B[0m\n\u001B[1;32m    935\u001B[0m     \u001B[0;32mfor\u001B[0m \u001B[0mneed_reshape\u001B[0m\u001B[0;34m,\u001B[0m \u001B[0mmatrix\u001B[0m \u001B[0;32min\u001B[0m \u001B[0mresults\u001B[0m\u001B[0;34m:\u001B[0m\u001B[0;34m\u001B[0m\u001B[0;34m\u001B[0m\u001B[0m\n",
      "\u001B[0;32m/opt/anaconda3/lib/python3.7/site-packages/patsy/build.py\u001B[0m in \u001B[0;36m_build_design_matrix\u001B[0;34m(design_info, factor_info_to_values, dtype)\u001B[0m\n\u001B[1;32m    767\u001B[0m             \u001B[0mm_slice\u001B[0m \u001B[0;34m=\u001B[0m \u001B[0mm\u001B[0m\u001B[0;34m[\u001B[0m\u001B[0;34m:\u001B[0m\u001B[0;34m,\u001B[0m \u001B[0mstart_column\u001B[0m\u001B[0;34m:\u001B[0m\u001B[0mend_column\u001B[0m\u001B[0;34m]\u001B[0m\u001B[0;34m\u001B[0m\u001B[0;34m\u001B[0m\u001B[0m\n\u001B[1;32m    768\u001B[0m             _build_subterm(subterm, design_info.factor_infos,\n\u001B[0;32m--> 769\u001B[0;31m                            factor_to_values, m_slice)\n\u001B[0m\u001B[1;32m    770\u001B[0m             \u001B[0mstart_column\u001B[0m \u001B[0;34m=\u001B[0m \u001B[0mend_column\u001B[0m\u001B[0;34m\u001B[0m\u001B[0;34m\u001B[0m\u001B[0m\n\u001B[1;32m    771\u001B[0m     \u001B[0;32massert\u001B[0m \u001B[0mstart_column\u001B[0m \u001B[0;34m==\u001B[0m \u001B[0mm\u001B[0m\u001B[0;34m.\u001B[0m\u001B[0mshape\u001B[0m\u001B[0;34m[\u001B[0m\u001B[0;36m1\u001B[0m\u001B[0;34m]\u001B[0m\u001B[0;34m\u001B[0m\u001B[0;34m\u001B[0m\u001B[0m\n",
      "\u001B[0;32m/opt/anaconda3/lib/python3.7/site-packages/patsy/build.py\u001B[0m in \u001B[0;36m_build_subterm\u001B[0;34m(subterm, factor_infos, factor_values, out)\u001B[0m\n\u001B[1;32m    274\u001B[0m                 assert (factor_values[factor].shape[1]\n\u001B[1;32m    275\u001B[0m                         == factor_infos[factor].num_columns)\n\u001B[0;32m--> 276\u001B[0;31m                 \u001B[0mout\u001B[0m\u001B[0;34m[\u001B[0m\u001B[0;34m:\u001B[0m\u001B[0;34m,\u001B[0m \u001B[0mi\u001B[0m\u001B[0;34m]\u001B[0m \u001B[0;34m*=\u001B[0m \u001B[0mfactor_values\u001B[0m\u001B[0;34m[\u001B[0m\u001B[0mfactor\u001B[0m\u001B[0;34m]\u001B[0m\u001B[0;34m[\u001B[0m\u001B[0;34m:\u001B[0m\u001B[0;34m,\u001B[0m \u001B[0mcolumn_idx\u001B[0m\u001B[0;34m]\u001B[0m\u001B[0;34m\u001B[0m\u001B[0;34m\u001B[0m\u001B[0m\n\u001B[0m\u001B[1;32m    277\u001B[0m \u001B[0;34m\u001B[0m\u001B[0m\n\u001B[1;32m    278\u001B[0m \u001B[0;32mdef\u001B[0m \u001B[0mtest__subterm_column_names_iter_and__build_subterm\u001B[0m\u001B[0;34m(\u001B[0m\u001B[0;34m)\u001B[0m\u001B[0;34m:\u001B[0m\u001B[0;34m\u001B[0m\u001B[0;34m\u001B[0m\u001B[0m\n",
      "\u001B[0;31mKeyboardInterrupt\u001B[0m: "
     ]
    }
   ],
   "source": [
    "import statsmodels.api as sm\n",
    "from statsmodels.formula.api import ols\n",
    "#r_obs_pred = np.corrcoef(df.mean_QST_pain_sensitivity, predictions['multi-center'])[0,1]\n",
    "\n",
    "data = pd.DataFrame(\n",
    "    {\n",
    "        'observed': df.mean_QST_pain_sensitivity.values,\n",
    "        'predicted': predictions['multi-center'],\n",
    "        'confounder': df.study.astype(\"category\").cat.codes.values\n",
    "    })\n",
    "\n",
    "fit=ols(\"observed ~ predicted\", data=data).fit()\n",
    "print(\"R^2_(observed ~ predicted) =\", fit.rsquared)\n",
    "\n",
    "fit=ols(\"observed ~ C(confounder)\", data=data).fit()\n",
    "print(\"R^2_(observed ~ C(confounder)) =\", fit.rsquared)\n",
    "r2_obs_conf_true = fit.rsquared\n",
    "\n",
    "fit=ols(\"predicted ~ C(confounder)\", data=data).fit()\n",
    "print(\"R^2_(predicted ~ C(confounder) =\", fit.rsquared)\n",
    "r2_pred_conf_true = fit.rsquared\n",
    "\n",
    "\n",
    "corrs=[]\n",
    "nulldata=[]\n",
    "\n",
    "tolerance = 0.01\n",
    "\n",
    "rng = np.random.default_rng(42)\n",
    "\n",
    "for i in tqdm(range(500000)):\n",
    "    data_rs = pd.DataFrame(\n",
    "    {\n",
    "        'observed': df.mean_QST_pain_sensitivity.values,\n",
    "        'predicted': predictions['multi-center'],\n",
    "        'confounder': rng.permutation(df.study.astype(\"category\").cat.codes.values)\n",
    "    })\n",
    "    r2_obs_conf_rs = ols(\"observed ~ C(confounder)\", data=data_rs).fit().rsquared\n",
    "    \n",
    "    if (np.abs(r2_obs_conf_rs - r2_obs_conf_true) < tolerance):\n",
    "        #print(\"Resampled R^2_(observed ~ C(confounder)) =\", r2_obs_conf_rs)\n",
    "        fit=ols(\"predicted ~ C(confounder)\", data=data_rs).fit()\n",
    "        #print(\"Resampled  R^2_(predicted ~ C(confounder) =\", fit.rsquared)\n",
    "        print(data_rs.confounder.values)\n",
    "        \n",
    "        nulldata.append(fit.rsquared)\n",
    "        corrs.append(r2_obs_conf_rs)\n",
    "        \n",
    "sns.distplot(nulldata)\n",
    "plt.axvline(r2_pred_conf_true)\n",
    "\n",
    "print(len(nulldata))\n",
    "print(\"p=\", np.sum(nulldata>=r2_pred_conf_true)/len(nulldata))\n",
    "\n",
    "        \n",
    "    "
   ]
  },
  {
   "cell_type": "code",
   "execution_count": 87,
   "metadata": {
    "ExecuteTime": {
     "end_time": "2021-07-08T18:22:04.804808Z",
     "start_time": "2021-07-08T18:17:17.955026Z"
    },
    "pycharm": {
     "name": "#%%\n"
    }
   },
   "outputs": [
    {
     "name": "stderr",
     "output_type": "stream",
     "text": [
      "permuting:   0%|          | 6/100000 [00:00<28:44, 57.98it/s]"
     ]
    },
    {
     "name": "stdout",
     "output_type": "stream",
     "text": [
      "R^2_(observed ~ predicted) = 0.40124317724014147\n",
      "R^2_(observed ~ C(confounder)) = 0.12880847118030403\n",
      "R^2_(predicted ~ C(confounder) = 0.13557816071589912\n"
     ]
    },
    {
     "name": "stderr",
     "output_type": "stream",
     "text": [
      "permuting: 100%|██████████| 100000/100000 [04:46<00:00, 349.47it/s]\n"
     ]
    },
    {
     "name": "stdout",
     "output_type": "stream",
     "text": [
      "2715\n",
      "p= 0.02283609576427256\n"
     ]
    },
    {
     "data": {
      "image/png": "[encoded data removed]",
      "text/plain": [
       "<Figure size 432x288 with 1 Axes>"
      ]
     },
     "metadata": {},
     "output_type": "display_data"
    }
   ],
   "source": [
    "import statsmodels.api as sm\n",
    "from statsmodels.formula.api import ols\n",
    "import importlib\n",
    "import contextlib\n",
    "import joblib\n",
    "from joblib import Parallel, delayed\n",
    "\n",
    "@contextlib.contextmanager\n",
    "def tqdm_joblib(tqdm_object):\n",
    "    \"\"\"\n",
    "    Context manager to patch joblib to report into tqdm progress bar given as argument\n",
    "    Based on: https://stackoverflow.com/questions/37804279/how-can-we-use-tqdm-in-a-parallel-execution-with-joblib\n",
    "    \"\"\"\n",
    "    def tqdm_print_progress(self):\n",
    "        if self.n_completed_tasks > tqdm_object.n:\n",
    "            n_completed = self.n_completed_tasks - tqdm_object.n\n",
    "            tqdm_object.update(n=n_completed)\n",
    "\n",
    "    original_print_progress = joblib.parallel.Parallel.print_progress\n",
    "    joblib.parallel.Parallel.print_progress = tqdm_print_progress\n",
    "\n",
    "    try:\n",
    "        yield tqdm_object\n",
    "    finally:\n",
    "        joblib.parallel.Parallel.print_progress = original_print_progress\n",
    "        tqdm_object.close()\n",
    "#r_obs_pred = np.corrcoef(df.mean_QST_pain_sensitivity, predictions['multi-center'])[0,1]\n",
    "\n",
    "data = pd.DataFrame(\n",
    "    {\n",
    "        'observed': df.mean_QST_pain_sensitivity.values,\n",
    "        'predicted': predictions['multi-center'],\n",
    "        'confounder': df.study.astype(\"category\").cat.codes.values\n",
    "    })\n",
    "\n",
    "fit=ols(\"observed ~ predicted\", data=data).fit()\n",
    "print(\"R^2_(observed ~ predicted) =\", fit.rsquared)\n",
    "\n",
    "fit=ols(\"observed ~ C(confounder)\", data=data).fit()\n",
    "print(\"R^2_(observed ~ C(confounder)) =\", fit.rsquared)\n",
    "r2_obs_conf_true = fit.rsquared\n",
    "\n",
    "fit=ols(\"predicted ~ C(confounder)\", data=data).fit()\n",
    "print(\"R^2_(predicted ~ C(confounder) =\", fit.rsquared)\n",
    "r2_pred_conf_true = fit.rsquared\n",
    "\n",
    "\n",
    "corrs=[]\n",
    "nulldata=[]\n",
    "\n",
    "tolerance = 0.05\n",
    "\n",
    "\n",
    "\n",
    "def workhorse(i):\n",
    "    rng = np.random.default_rng(42+i)\n",
    "    data_rs = pd.DataFrame(\n",
    "        {\n",
    "        'observed': df.mean_QST_pain_sensitivity.values,\n",
    "        'predicted': predictions['multi-center'],\n",
    "        'confounder': rng.permutation(df.study.astype(\"category\").cat.codes.values)\n",
    "        })\n",
    "    r2_obs_conf_rs = ols(\"observed ~ C(confounder)\", data=data_rs).fit().rsquared\n",
    "    \n",
    "    if (np.abs(r2_obs_conf_rs - r2_obs_conf_true) < tolerance):\n",
    "        #print(\"Resampled R^2_(observed ~ C(confounder)) =\", r2_obs_conf_rs)\n",
    "        fit=ols(\"predicted ~ C(confounder)\", data=data_rs).fit()\n",
    "        #print(\"Resampled  R^2_(predicted ~ C(confounder) =\", fit.rsquared)     \n",
    "        return fit.rsquared, r2_obs_conf_rs\n",
    "    return np.nan, np.nan\n",
    "    \n",
    "num_perms=100000  \n",
    "with tqdm_joblib(tqdm(desc='permuting', total=num_perms)) as progress_bar:\n",
    "            res = Parallel(n_jobs=-1)(delayed(workhorse)(i) for i in np.arange(num_perms))\n",
    "    \n",
    "\n",
    "nulldata, corrs = zip(*res)\n",
    "nulldata = np.array(nulldata)\n",
    "nulldata = nulldata[~np.isnan(nulldata)]\n",
    "print(len(nulldata))\n",
    "sns.distplot(nulldata)\n",
    "plt.axvline(r2_pred_conf_true)\n",
    "\n",
    "print(\"p=\", np.sum(nulldata>=r2_pred_conf_true)/len(nulldata))"
   ]
  },
  {
   "cell_type": "code",
   "execution_count": 90,
   "metadata": {
    "ExecuteTime": {
     "end_time": "2021-07-08T18:25:18.108788Z",
     "start_time": "2021-07-08T18:25:17.642776Z"
    },
    "pycharm": {
     "name": "#%%\n"
    }
   },
   "outputs": [
    {
     "data": {
      "text/plain": [
       "<matplotlib.lines.Line2D at 0x7f8af7d0ddd0>"
      ]
     },
     "execution_count": 90,
     "metadata": {},
     "output_type": "execute_result"
    },
    {
     "data": {
      "image/png": "[encoded data removed]",
      "text/plain": [
       "<Figure size 432x288 with 1 Axes>"
      ]
     },
     "metadata": {},
     "output_type": "display_data"
    }
   ],
   "source": [
    "corrs = np.array(corrs)\n",
    "sns.distplot(corrs[~np.isnan(corrs)])\n",
    "plt.axvline(r2_pred_conf_true)"
   ]
  },
  {
   "cell_type": "code",
   "execution_count": 91,
   "metadata": {
    "ExecuteTime": {
     "end_time": "2021-07-08T19:05:48.735505Z",
     "start_time": "2021-07-08T18:29:43.854095Z"
    },
    "pycharm": {
     "name": "#%%\n"
    }
   },
   "outputs": [
    {
     "name": "stderr",
     "output_type": "stream",
     "text": [
      "\r",
      "permuting:   0%|          | 0/1000000 [00:00<?, ?it/s]"
     ]
    },
    {
     "name": "stdout",
     "output_type": "stream",
     "text": [
      "R^2_(observed ~ predicted) = 0.40124317724014147\n",
      "R^2_(observed ~ C(confounder)) = 0.12880847118030403\n",
      "R^2_(predicted ~ C(confounder) = 0.13557816071589912\n"
     ]
    },
    {
     "name": "stderr",
     "output_type": "stream",
     "text": [
      "permuting: 100%|██████████| 1000000/1000000 [36:03<00:00, 462.32it/s] \n"
     ]
    },
    {
     "name": "stdout",
     "output_type": "stream",
     "text": [
      "256\n",
      "p= 0.03515625\n"
     ]
    },
    {
     "data": {
      "image/png": "[encoded data removed]",
      "text/plain": [
       "<Figure size 432x288 with 1 Axes>"
      ]
     },
     "metadata": {},
     "output_type": "display_data"
    }
   ],
   "source": [
    "import statsmodels.api as sm\n",
    "from statsmodels.formula.api import ols\n",
    "import importlib\n",
    "import contextlib\n",
    "import joblib\n",
    "from joblib import Parallel, delayed\n",
    "\n",
    "@contextlib.contextmanager\n",
    "def tqdm_joblib(tqdm_object):\n",
    "    \"\"\"\n",
    "    Context manager to patch joblib to report into tqdm progress bar given as argument\n",
    "    Based on: https://stackoverflow.com/questions/37804279/how-can-we-use-tqdm-in-a-parallel-execution-with-joblib\n",
    "    \"\"\"\n",
    "    def tqdm_print_progress(self):\n",
    "        if self.n_completed_tasks > tqdm_object.n:\n",
    "            n_completed = self.n_completed_tasks - tqdm_object.n\n",
    "            tqdm_object.update(n=n_completed)\n",
    "\n",
    "    original_print_progress = joblib.parallel.Parallel.print_progress\n",
    "    joblib.parallel.Parallel.print_progress = tqdm_print_progress\n",
    "\n",
    "    try:\n",
    "        yield tqdm_object\n",
    "    finally:\n",
    "        joblib.parallel.Parallel.print_progress = original_print_progress\n",
    "        tqdm_object.close()\n",
    "#r_obs_pred = np.corrcoef(df.mean_QST_pain_sensitivity, predictions['multi-center'])[0,1]\n",
    "\n",
    "data = pd.DataFrame(\n",
    "    {\n",
    "        'observed': df.mean_QST_pain_sensitivity.values,\n",
    "        'predicted': predictions['multi-center'],\n",
    "        'confounder': df.study.astype(\"category\").cat.codes.values\n",
    "    })\n",
    "\n",
    "fit=ols(\"observed ~ predicted\", data=data).fit()\n",
    "print(\"R^2_(observed ~ predicted) =\", fit.rsquared)\n",
    "\n",
    "fit=ols(\"observed ~ C(confounder)\", data=data).fit()\n",
    "print(\"R^2_(observed ~ C(confounder)) =\", fit.rsquared)\n",
    "r2_obs_conf_true = fit.rsquared\n",
    "\n",
    "fit=ols(\"predicted ~ C(confounder)\", data=data).fit()\n",
    "print(\"R^2_(predicted ~ C(confounder) =\", fit.rsquared)\n",
    "r2_pred_conf_true = fit.rsquared\n",
    "\n",
    "\n",
    "corrs=[]\n",
    "nulldata=[]\n",
    "\n",
    "tolerance = 0.001\n",
    "\n",
    "\n",
    "\n",
    "def workhorse(i):\n",
    "    rng = np.random.default_rng(4242+i)\n",
    "    data_rs = pd.DataFrame(\n",
    "        {\n",
    "        'observed': df.mean_QST_pain_sensitivity.values,\n",
    "        'predicted': predictions['multi-center'],\n",
    "        'confounder': rng.permutation(df.study.astype(\"category\").cat.codes.values)\n",
    "        })\n",
    "    r2_obs_conf_rs = ols(\"observed ~ C(confounder)\", data=data_rs).fit().rsquared\n",
    "    \n",
    "    if (np.abs(r2_obs_conf_rs - r2_obs_conf_true) < tolerance):\n",
    "        #print(\"Resampled R^2_(observed ~ C(confounder)) =\", r2_obs_conf_rs)\n",
    "        fit=ols(\"predicted ~ C(confounder)\", data=data_rs).fit()\n",
    "        #print(\"Resampled  R^2_(predicted ~ C(confounder) =\", fit.rsquared)     \n",
    "        return fit.rsquared, r2_obs_conf_rs\n",
    "    return np.nan, np.nan\n",
    "    \n",
    "num_perms=1000000  \n",
    "with tqdm_joblib(tqdm(desc='permuting', total=num_perms)) as progress_bar:\n",
    "            res = Parallel(n_jobs=-1)(delayed(workhorse)(i) for i in np.arange(num_perms))\n",
    "    \n",
    "\n",
    "nulldata, corrs = zip(*res)\n",
    "nulldata = np.array(nulldata)\n",
    "nulldata = nulldata[~np.isnan(nulldata)]\n",
    "print(len(nulldata))\n",
    "sns.distplot(nulldata)\n",
    "plt.axvline(r2_pred_conf_true)\n",
    "\n",
    "print(\"p=\", np.sum(nulldata>=r2_pred_conf_true)/len(nulldata))"
   ]
  },
  {
   "cell_type": "code",
   "execution_count": 93,
   "metadata": {
    "ExecuteTime": {
     "end_time": "2021-07-09T07:55:58.105489Z",
     "start_time": "2021-07-09T07:55:56.805410Z"
    },
    "pycharm": {
     "name": "#%%\n"
    }
   },
   "outputs": [
    {
     "data": {
      "text/plain": [
       "<matplotlib.lines.Line2D at 0x7f8b1731b750>"
      ]
     },
     "execution_count": 93,
     "metadata": {},
     "output_type": "execute_result"
    },
    {
     "data": {
      "image/png": "[encoded data removed]",
      "text/plain": [
       "<Figure size 432x288 with 1 Axes>"
      ]
     },
     "metadata": {},
     "output_type": "display_data"
    }
   ],
   "source": [
    "corrs = np.array(corrs)\n",
    "sns.distplot(corrs[~np.isnan(corrs)])\n",
    "plt.axvline(r2_obs_conf_true)"
   ]
  },
  {
   "cell_type": "code",
   "execution_count": 112,
   "metadata": {
    "ExecuteTime": {
     "end_time": "2021-07-09T08:54:30.598182Z",
     "start_time": "2021-07-09T08:54:30.583014Z"
    },
    "pycharm": {
     "name": "#%%\n"
    }
   },
   "outputs": [
    {
     "data": {
      "text/plain": [
       "(0.016199410860957122, 0.06568621418387195)"
      ]
     },
     "execution_count": 112,
     "metadata": {},
     "output_type": "execute_result"
    }
   ],
   "source": [
    "from scipy.stats import beta\n",
    "\n",
    "def binom_interval(success, total, confint=0.95):\n",
    "    quantile = (1 - confint) / 2.\n",
    "    lower = beta.ppf(quantile, success, total - success + 1)\n",
    "    upper = beta.ppf(1 - quantile, success + 1, total - success)\n",
    "    return (lower, upper)\n",
    "\n",
    "binom_interval(256*0.03515625, 256)"
   ]
  },
  {
   "cell_type": "markdown",
   "metadata": {
    "pycharm": {
     "name": "#%% md\n"
    }
   },
   "source": [
    "## Predicted vs. Predicted plot"
   ]
  },
  {
   "cell_type": "code",
   "execution_count": 43,
   "metadata": {
    "ExecuteTime": {
     "end_time": "2021-07-08T11:24:19.303820Z",
     "start_time": "2021-07-08T11:24:18.262103Z"
    },
    "pycharm": {
     "name": "#%%\n"
    }
   },
   "outputs": [
    {
     "name": "stderr",
     "output_type": "stream",
     "text": [
      "/home/tspisak/src/RPN-signature/venv/lib/python3.8/site-packages/seaborn/_decorators.py:36: FutureWarning: Pass the following variables as keyword args: x, y. From version 0.12, the only valid positional argument will be `data`, and passing other arguments without an explicit keyword will result in an error or misinterpretation.\n",
      "  warnings.warn(\n"
     ]
    },
    {
     "data": {
      "text/plain": "<Figure size 432x432 with 3 Axes>",
      "image/png": "[encoded data removed]"
     },
     "metadata": {},
     "output_type": "display_data"
    }
   ],
   "source": [
    "g=sns.jointplot(predictions['single-center'], predictions['multi-center'], kind='reg', color='black', scatter = False )\n",
    "g.ax_joint.scatter(predictions['single-center'],predictions['multi-center'], c=df.mean_QST_pain_sensitivity,\n",
    "                   cmap=\"coolwarm\")\n",
    "g.fig.set_size_inches(6,6)\n",
    "g.ax_joint.set(xlabel=None) \n",
    "g.ax_joint.set_xlim([-1.5, 1.5])\n",
    "g.ax_joint.set_ylim([-1.2, 1.2])\n",
    "g.ax_joint.spines['top'].set_visible(False)\n",
    "g.ax_joint.spines['bottom'].set_visible(False)\n",
    "g.ax_joint.spines['right'].set_visible(False)\n",
    "g.ax_joint.spines['left'].set_visible(False)\n",
    "g.ax_joint.grid(True)\n",
    "plt.savefig('../res/multi-center/regplots_pred-pred.pdf')  "
   ]
  },
  {
   "cell_type": "code",
   "execution_count": 14,
   "metadata": {
    "ExecuteTime": {
     "end_time": "2021-07-08T11:24:19.799204Z",
     "start_time": "2021-07-08T11:24:19.305718Z"
    },
    "pycharm": {
     "name": "#%%\n"
    }
   },
   "outputs": [
    {
     "data": {
      "image/png": "[encoded data removed]",
      "text/plain": [
       "<Figure size 432x288 with 2 Axes>"
      ]
     },
     "metadata": {},
     "output_type": "display_data"
    }
   ],
   "source": [
    "norm = plt.Normalize(df.mean_QST_pain_sensitivity.min(), df.mean_QST_pain_sensitivity.max())\n",
    "sm = plt.cm.ScalarMappable(cmap=\"coolwarm\", norm=norm)\n",
    "sm.set_array([])\n",
    "\n",
    "# Remove the legend and add a colorbar\n",
    "plt.colorbar(sm)\n",
    "plt.savefig('../res/multi-center/regplots_pred-pred_colorbar.pdf')  "
   ]
  },
  {
   "cell_type": "code",
   "execution_count": 15,
   "metadata": {
    "ExecuteTime": {
     "end_time": "2021-07-08T11:24:20.747734Z",
     "start_time": "2021-07-08T11:24:19.801946Z"
    },
    "pycharm": {
     "name": "#%%\n"
    }
   },
   "outputs": [
    {
     "name": "stdout",
     "output_type": "stream",
     "text": [
      "R=0.35\n",
      "p_corr=0.00000\n"
     ]
    }
   ],
   "source": [
    "corr = np.corrcoef(predictions['single-center'], predictions['multi-center'])[0,1]\n",
    "print(\"R={:.2f}\".format(corr))\n",
    "        \n",
    "# takes some seconds\n",
    "p_corr = permutation_test(y[study_masks[study]], predictions[cv][study_masks[study]],\n",
    "                           func=lambda x, y: np.corrcoef(x, y)[0,1],\n",
    "                           method='approximate',\n",
    "                           num_rounds=8000,\n",
    "                           seed=42)\n",
    "print(\"p_corr={:.5f}\".format(p_corr))"
   ]
  }
 ],
 "metadata": {
  "hide_input": false,
  "kernelspec": {
   "display_name": "Python 3",
   "language": "python",
   "name": "python3"
  },
  "language_info": {
   "codemirror_mode": {
    "name": "ipython",
    "version": 3
   },
   "file_extension": ".py",
   "mimetype": "text/x-python",
   "name": "python",
   "nbconvert_exporter": "python",
   "pygments_lexer": "ipython3",
   "version": "3.7.4"
  }
 },
 "nbformat": 4,
 "nbformat_minor": 2
}