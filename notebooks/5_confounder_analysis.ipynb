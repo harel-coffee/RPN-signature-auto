{
 "cells": [
  {
   "cell_type": "markdown",
   "metadata": {},
   "source": [
    "# Confounder analysis for the multi-center RPN-signature\n",
    "- This jupyter notebook is available on-line at:\n",
    "  - https://github.com/spisakt/RPN-signature/blob/master/notebooks/5_confounder_analysis.ipynb\n",
    "- Input data for the notebook and non-standard code (PAINTeR library) is available in the repo:\n",
    "  - https://github.com/spisakt/RPN-signature\n",
    "- Raw MRI-data from study-centers 1 and 2 are available on OpenNeuro:\n",
    "  - https://openneuro.org/datasets/ds002608/versions/1.0.1\n",
    "  - https://openneuro.org/datasets/ds002609/versions/1.0.3\n",
    "- Raw data from center 3 is available upon reasonable request."
   ]
  },
  {
   "cell_type": "markdown",
   "metadata": {},
   "source": [
    "## Imports"
   ]
  },
  {
   "cell_type": "code",
   "execution_count": 8,
   "metadata": {
    "ExecuteTime": {
     "end_time": "2021-11-02T09:08:34.446088Z",
     "start_time": "2021-11-02T09:08:34.441284Z"
    }
   },
   "outputs": [],
   "source": [
    "import joblib\n",
    "import numpy as np\n",
    "import pandas as pd\n",
    "import seaborn as sns\n",
    "import matplotlib.pyplot as plt\n",
    "from nilearn.connectome import vec_to_sym_matrix, sym_matrix_to_vec\n",
    "from sklearn.metrics import mean_squared_error, mean_absolute_error, explained_variance_score\n",
    "from mlxtend.evaluate import permutation_test\n",
    "from mlconfound.stats import partial_confound_test\n",
    "from mlconfound.plot import plot_graph\n",
    "\n",
    "import sys\n",
    "sys.path.append('../')\n",
    "from PAINTeR import plot # in-house lib used for the RPN-signature"
   ]
  },
  {
   "cell_type": "markdown",
   "metadata": {
    "ExecuteTime": {
     "end_time": "2021-07-01T15:04:56.005945Z",
     "start_time": "2021-07-01T15:04:56.002449Z"
    }
   },
   "source": [
    "## Load and merge behavioral data for all three centers (after exclusions)"
   ]
  },
  {
   "cell_type": "code",
   "execution_count": 4,
   "metadata": {
    "ExecuteTime": {
     "end_time": "2021-11-02T08:56:38.276651Z",
     "start_time": "2021-11-02T08:56:38.177674Z"
    }
   },
   "outputs": [
    {
     "data": {
      "text/html": [
       "<div>\n",
       "<style scoped>\n",
       "    .dataframe tbody tr th:only-of-type {\n",
       "        vertical-align: middle;\n",
       "    }\n",
       "\n",
       "    .dataframe tbody tr th {\n",
       "        vertical-align: top;\n",
       "    }\n",
       "\n",
       "    .dataframe thead th {\n",
       "        text-align: right;\n",
       "    }\n",
       "</style>\n",
       "<table border=\"1\" class=\"dataframe\">\n",
       "  <thead>\n",
       "    <tr style=\"text-align: right;\">\n",
       "      <th></th>\n",
       "      <th>index</th>\n",
       "      <th>Unnamed: 0</th>\n",
       "      <th>ID</th>\n",
       "      <th>Excluded</th>\n",
       "      <th>exclusion_crit</th>\n",
       "      <th>Male</th>\n",
       "      <th>day_menses</th>\n",
       "      <th>Age</th>\n",
       "      <th>height</th>\n",
       "      <th>weight</th>\n",
       "      <th>...</th>\n",
       "      <th>weight..kg.</th>\n",
       "      <th>psq_moderate</th>\n",
       "      <th>psq_minor</th>\n",
       "      <th>PSQ20</th>\n",
       "      <th>PSQI</th>\n",
       "      <th>MDT_log_geom</th>\n",
       "      <th>Pulse_MRI</th>\n",
       "      <th>Pulse_QST</th>\n",
       "      <th>BDI</th>\n",
       "      <th>PSQ20_essen</th>\n",
       "    </tr>\n",
       "  </thead>\n",
       "  <tbody>\n",
       "    <tr>\n",
       "      <th>0</th>\n",
       "      <td>0</td>\n",
       "      <td>0</td>\n",
       "      <td>4</td>\n",
       "      <td>0.0</td>\n",
       "      <td>NaN</td>\n",
       "      <td>1.0</td>\n",
       "      <td>NaN</td>\n",
       "      <td>25.552361</td>\n",
       "      <td>175.0</td>\n",
       "      <td>71.0</td>\n",
       "      <td>...</td>\n",
       "      <td>NaN</td>\n",
       "      <td>NaN</td>\n",
       "      <td>NaN</td>\n",
       "      <td>NaN</td>\n",
       "      <td>NaN</td>\n",
       "      <td>NaN</td>\n",
       "      <td>NaN</td>\n",
       "      <td>NaN</td>\n",
       "      <td>NaN</td>\n",
       "      <td>NaN</td>\n",
       "    </tr>\n",
       "    <tr>\n",
       "      <th>1</th>\n",
       "      <td>1</td>\n",
       "      <td>1</td>\n",
       "      <td>6</td>\n",
       "      <td>0.0</td>\n",
       "      <td>NaN</td>\n",
       "      <td>1.0</td>\n",
       "      <td>NaN</td>\n",
       "      <td>33.453799</td>\n",
       "      <td>183.0</td>\n",
       "      <td>80.0</td>\n",
       "      <td>...</td>\n",
       "      <td>NaN</td>\n",
       "      <td>NaN</td>\n",
       "      <td>NaN</td>\n",
       "      <td>NaN</td>\n",
       "      <td>NaN</td>\n",
       "      <td>NaN</td>\n",
       "      <td>NaN</td>\n",
       "      <td>NaN</td>\n",
       "      <td>NaN</td>\n",
       "      <td>NaN</td>\n",
       "    </tr>\n",
       "    <tr>\n",
       "      <th>2</th>\n",
       "      <td>2</td>\n",
       "      <td>2</td>\n",
       "      <td>7</td>\n",
       "      <td>0.0</td>\n",
       "      <td>NaN</td>\n",
       "      <td>1.0</td>\n",
       "      <td>NaN</td>\n",
       "      <td>26.119097</td>\n",
       "      <td>186.0</td>\n",
       "      <td>92.0</td>\n",
       "      <td>...</td>\n",
       "      <td>NaN</td>\n",
       "      <td>NaN</td>\n",
       "      <td>NaN</td>\n",
       "      <td>NaN</td>\n",
       "      <td>NaN</td>\n",
       "      <td>NaN</td>\n",
       "      <td>NaN</td>\n",
       "      <td>NaN</td>\n",
       "      <td>NaN</td>\n",
       "      <td>NaN</td>\n",
       "    </tr>\n",
       "    <tr>\n",
       "      <th>3</th>\n",
       "      <td>3</td>\n",
       "      <td>3</td>\n",
       "      <td>8</td>\n",
       "      <td>0.0</td>\n",
       "      <td>NaN</td>\n",
       "      <td>1.0</td>\n",
       "      <td>NaN</td>\n",
       "      <td>25.445585</td>\n",
       "      <td>180.0</td>\n",
       "      <td>72.0</td>\n",
       "      <td>...</td>\n",
       "      <td>NaN</td>\n",
       "      <td>NaN</td>\n",
       "      <td>NaN</td>\n",
       "      <td>NaN</td>\n",
       "      <td>NaN</td>\n",
       "      <td>NaN</td>\n",
       "      <td>NaN</td>\n",
       "      <td>NaN</td>\n",
       "      <td>NaN</td>\n",
       "      <td>NaN</td>\n",
       "    </tr>\n",
       "    <tr>\n",
       "      <th>4</th>\n",
       "      <td>4</td>\n",
       "      <td>4</td>\n",
       "      <td>9</td>\n",
       "      <td>0.0</td>\n",
       "      <td>NaN</td>\n",
       "      <td>0.0</td>\n",
       "      <td>6.0</td>\n",
       "      <td>22.573580</td>\n",
       "      <td>176.0</td>\n",
       "      <td>70.0</td>\n",
       "      <td>...</td>\n",
       "      <td>NaN</td>\n",
       "      <td>NaN</td>\n",
       "      <td>NaN</td>\n",
       "      <td>NaN</td>\n",
       "      <td>NaN</td>\n",
       "      <td>NaN</td>\n",
       "      <td>NaN</td>\n",
       "      <td>NaN</td>\n",
       "      <td>NaN</td>\n",
       "      <td>NaN</td>\n",
       "    </tr>\n",
       "    <tr>\n",
       "      <th>...</th>\n",
       "      <td>...</td>\n",
       "      <td>...</td>\n",
       "      <td>...</td>\n",
       "      <td>...</td>\n",
       "      <td>...</td>\n",
       "      <td>...</td>\n",
       "      <td>...</td>\n",
       "      <td>...</td>\n",
       "      <td>...</td>\n",
       "      <td>...</td>\n",
       "      <td>...</td>\n",
       "      <td>...</td>\n",
       "      <td>...</td>\n",
       "      <td>...</td>\n",
       "      <td>...</td>\n",
       "      <td>...</td>\n",
       "      <td>...</td>\n",
       "      <td>...</td>\n",
       "      <td>...</td>\n",
       "      <td>...</td>\n",
       "      <td>...</td>\n",
       "    </tr>\n",
       "    <tr>\n",
       "      <th>86</th>\n",
       "      <td>14</td>\n",
       "      <td>14</td>\n",
       "      <td>22</td>\n",
       "      <td>0.0</td>\n",
       "      <td>NaN</td>\n",
       "      <td>1.0</td>\n",
       "      <td>NaN</td>\n",
       "      <td>24.000000</td>\n",
       "      <td>185.0</td>\n",
       "      <td>82.0</td>\n",
       "      <td>...</td>\n",
       "      <td>NaN</td>\n",
       "      <td>27.0</td>\n",
       "      <td>11.0</td>\n",
       "      <td>6.0</td>\n",
       "      <td>1.0</td>\n",
       "      <td>1.259900</td>\n",
       "      <td>73.0</td>\n",
       "      <td>76.0</td>\n",
       "      <td>5.0</td>\n",
       "      <td>24.0</td>\n",
       "    </tr>\n",
       "    <tr>\n",
       "      <th>87</th>\n",
       "      <td>15</td>\n",
       "      <td>15</td>\n",
       "      <td>24</td>\n",
       "      <td>0.0</td>\n",
       "      <td>NaN</td>\n",
       "      <td>1.0</td>\n",
       "      <td>NaN</td>\n",
       "      <td>22.000000</td>\n",
       "      <td>183.0</td>\n",
       "      <td>83.0</td>\n",
       "      <td>...</td>\n",
       "      <td>NaN</td>\n",
       "      <td>28.0</td>\n",
       "      <td>16.0</td>\n",
       "      <td>9.0</td>\n",
       "      <td>1.0</td>\n",
       "      <td>1.913513</td>\n",
       "      <td>85.0</td>\n",
       "      <td>86.0</td>\n",
       "      <td>0.0</td>\n",
       "      <td>25.0</td>\n",
       "    </tr>\n",
       "    <tr>\n",
       "      <th>88</th>\n",
       "      <td>16</td>\n",
       "      <td>16</td>\n",
       "      <td>25</td>\n",
       "      <td>0.0</td>\n",
       "      <td>NaN</td>\n",
       "      <td>1.0</td>\n",
       "      <td>NaN</td>\n",
       "      <td>22.000000</td>\n",
       "      <td>195.0</td>\n",
       "      <td>77.0</td>\n",
       "      <td>...</td>\n",
       "      <td>NaN</td>\n",
       "      <td>20.0</td>\n",
       "      <td>9.0</td>\n",
       "      <td>11.0</td>\n",
       "      <td>NaN</td>\n",
       "      <td>1.581106</td>\n",
       "      <td>88.0</td>\n",
       "      <td>91.0</td>\n",
       "      <td>1.0</td>\n",
       "      <td>25.0</td>\n",
       "    </tr>\n",
       "    <tr>\n",
       "      <th>89</th>\n",
       "      <td>17</td>\n",
       "      <td>17</td>\n",
       "      <td>28</td>\n",
       "      <td>0.0</td>\n",
       "      <td>NaN</td>\n",
       "      <td>0.0</td>\n",
       "      <td>5.0</td>\n",
       "      <td>23.000000</td>\n",
       "      <td>162.0</td>\n",
       "      <td>59.0</td>\n",
       "      <td>...</td>\n",
       "      <td>NaN</td>\n",
       "      <td>34.0</td>\n",
       "      <td>18.0</td>\n",
       "      <td>43.0</td>\n",
       "      <td>2.0</td>\n",
       "      <td>1.145363</td>\n",
       "      <td>78.0</td>\n",
       "      <td>89.0</td>\n",
       "      <td>7.0</td>\n",
       "      <td>37.0</td>\n",
       "    </tr>\n",
       "    <tr>\n",
       "      <th>90</th>\n",
       "      <td>18</td>\n",
       "      <td>18</td>\n",
       "      <td>29</td>\n",
       "      <td>0.5</td>\n",
       "      <td>nan+MPT_low</td>\n",
       "      <td>1.0</td>\n",
       "      <td>NaN</td>\n",
       "      <td>30.000000</td>\n",
       "      <td>178.0</td>\n",
       "      <td>85.0</td>\n",
       "      <td>...</td>\n",
       "      <td>NaN</td>\n",
       "      <td>31.0</td>\n",
       "      <td>8.0</td>\n",
       "      <td>11.0</td>\n",
       "      <td>1.0</td>\n",
       "      <td>2.374623</td>\n",
       "      <td>77.0</td>\n",
       "      <td>NaN</td>\n",
       "      <td>0.0</td>\n",
       "      <td>27.0</td>\n",
       "    </tr>\n",
       "  </tbody>\n",
       "</table>\n",
       "<p>91 rows × 134 columns</p>\n",
       "</div>"
      ],
      "text/plain": [
       "    index  Unnamed: 0  ID  Excluded exclusion_crit  Male  day_menses  \\\n",
       "0       0           0   4       0.0            NaN   1.0         NaN   \n",
       "1       1           1   6       0.0            NaN   1.0         NaN   \n",
       "2       2           2   7       0.0            NaN   1.0         NaN   \n",
       "3       3           3   8       0.0            NaN   1.0         NaN   \n",
       "4       4           4   9       0.0            NaN   0.0         6.0   \n",
       "..    ...         ...  ..       ...            ...   ...         ...   \n",
       "86     14          14  22       0.0            NaN   1.0         NaN   \n",
       "87     15          15  24       0.0            NaN   1.0         NaN   \n",
       "88     16          16  25       0.0            NaN   1.0         NaN   \n",
       "89     17          17  28       0.0            NaN   0.0         5.0   \n",
       "90     18          18  29       0.5    nan+MPT_low   1.0         NaN   \n",
       "\n",
       "          Age  height  weight  ...  weight..kg.  psq_moderate  psq_minor  \\\n",
       "0   25.552361   175.0    71.0  ...          NaN           NaN        NaN   \n",
       "1   33.453799   183.0    80.0  ...          NaN           NaN        NaN   \n",
       "2   26.119097   186.0    92.0  ...          NaN           NaN        NaN   \n",
       "3   25.445585   180.0    72.0  ...          NaN           NaN        NaN   \n",
       "4   22.573580   176.0    70.0  ...          NaN           NaN        NaN   \n",
       "..        ...     ...     ...  ...          ...           ...        ...   \n",
       "86  24.000000   185.0    82.0  ...          NaN          27.0       11.0   \n",
       "87  22.000000   183.0    83.0  ...          NaN          28.0       16.0   \n",
       "88  22.000000   195.0    77.0  ...          NaN          20.0        9.0   \n",
       "89  23.000000   162.0    59.0  ...          NaN          34.0       18.0   \n",
       "90  30.000000   178.0    85.0  ...          NaN          31.0        8.0   \n",
       "\n",
       "    PSQ20  PSQI  MDT_log_geom  Pulse_MRI  Pulse_QST  BDI  PSQ20_essen  \n",
       "0     NaN   NaN           NaN        NaN        NaN  NaN          NaN  \n",
       "1     NaN   NaN           NaN        NaN        NaN  NaN          NaN  \n",
       "2     NaN   NaN           NaN        NaN        NaN  NaN          NaN  \n",
       "3     NaN   NaN           NaN        NaN        NaN  NaN          NaN  \n",
       "4     NaN   NaN           NaN        NaN        NaN  NaN          NaN  \n",
       "..    ...   ...           ...        ...        ...  ...          ...  \n",
       "86    6.0   1.0      1.259900       73.0       76.0  5.0         24.0  \n",
       "87    9.0   1.0      1.913513       85.0       86.0  0.0         25.0  \n",
       "88   11.0   NaN      1.581106       88.0       91.0  1.0         25.0  \n",
       "89   43.0   2.0      1.145363       78.0       89.0  7.0         37.0  \n",
       "90   11.0   1.0      2.374623       77.0        NaN  0.0         27.0  \n",
       "\n",
       "[91 rows x 134 columns]"
      ]
     },
     "execution_count": 4,
     "metadata": {},
     "output_type": "execute_result"
    }
   ],
   "source": [
    "df_bochum = pd.read_csv(\"../res/bochum_sample_excl.csv\")\n",
    "df_essen = pd.read_csv(\"../res/essen_sample_excl.csv\")\n",
    "df_szeged = pd.read_csv(\"../res/szeged_sample_excl.csv\")\n",
    "df_bochum['study']='bochum'\n",
    "df_essen['study']='essen'\n",
    "df_szeged['study']='szeged'\n",
    "df=pd.concat((df_bochum, df_essen, df_szeged), sort=False)\n",
    "df=df.reset_index()\n",
    "\n",
    "### correct for different questionnaire evaluation in the Essen-sample\n",
    "df.loc[df.study=='essen', 'psq'] *= 20 \n",
    "df.loc[df.study=='essen', 'anx_state'] *= 20 \n",
    "df.loc[df.study=='essen', 'anx_trait'] *= 20 \n",
    "\n",
    "### negate the log mean mechanical detection threshold in center 3 (is already negated in center 2 and is not available in center 1)\n",
    "df.loc[df.study=='szeged', 'MDT_log_geom'] *= -1 \n",
    "\n",
    "df"
   ]
  },
  {
   "cell_type": "markdown",
   "metadata": {},
   "source": [
    "## Load predictions newly proposed multi-center model"
   ]
  },
  {
   "cell_type": "code",
   "execution_count": 5,
   "metadata": {
    "ExecuteTime": {
     "end_time": "2021-11-02T08:57:06.686823Z",
     "start_time": "2021-11-02T08:57:06.680815Z"
    }
   },
   "outputs": [],
   "source": [
    "multicener_predictions = np.genfromtxt('../res/multi-center/nested_cv_pred_full_GroupKFold30.csv', delimiter=',')\n"
   ]
  },
  {
   "cell_type": "markdown",
   "metadata": {},
   "source": [
    "## Test association with the confounder variables"
   ]
  },
  {
   "cell_type": "code",
   "execution_count": 6,
   "metadata": {
    "ExecuteTime": {
     "end_time": "2021-11-02T09:03:53.641764Z",
     "start_time": "2021-11-02T09:01:28.831065Z"
    }
   },
   "outputs": [
    {
     "name": "stdout",
     "output_type": "stream",
     "text": [
      "meanFD @center1      r = -0.08  p = 0.626\n",
      "meanFD @center2      r = 0.03  p = 0.852\n",
      "meanFD @center3      r = -0.04  p = 0.86\n"
     ]
    },
    {
     "name": "stderr",
     "output_type": "stream",
     "text": [
      "Permuting: 100%|██████████| 1000/1000 [00:03<00:00, 275.00it/s]\n"
     ]
    },
    {
     "name": "stdout",
     "output_type": "stream",
     "text": [
      "meanFD @center1-2-3  r = -0.04  p = 0.688\n",
      "meanFD PCT p = 0.762\n",
      "--------------------------------------------------\n",
      "maxFD @center1      r = -0.02  p = 0.896\n",
      "maxFD @center2      r = 0.2  p = 0.219\n",
      "maxFD @center3      r = 0.12  p = 0.629\n"
     ]
    },
    {
     "name": "stderr",
     "output_type": "stream",
     "text": [
      "Permuting: 100%|██████████| 1000/1000 [00:01<00:00, 784.30it/s]\n"
     ]
    },
    {
     "name": "stdout",
     "output_type": "stream",
     "text": [
      "maxFD @center1-2-3  r = 0.01  p = 0.924\n",
      "maxFD PCT p = 0.948\n",
      "--------------------------------------------------\n",
      "perc_scrubbed @center1      r = -0.05  p = 0.805\n",
      "perc_scrubbed @center2      r = -0.09  p = 0.59\n",
      "perc_scrubbed @center3      r = -0.07  p = 0.806\n"
     ]
    },
    {
     "name": "stderr",
     "output_type": "stream",
     "text": [
      "Permuting: 100%|██████████| 1000/1000 [00:01<00:00, 747.58it/s]\n",
      "/opt/anaconda3/lib/python3.7/site-packages/numpy/lib/function_base.py:380: RuntimeWarning: Mean of empty slice.\n",
      "  avg = a.mean(axis)\n",
      "/opt/anaconda3/lib/python3.7/site-packages/numpy/core/_methods.py:182: RuntimeWarning: invalid value encountered in true_divide\n",
      "  ret, rcount, out=ret, casting='unsafe', subok=False)\n",
      "/opt/anaconda3/lib/python3.7/site-packages/numpy/lib/function_base.py:2683: RuntimeWarning: Degrees of freedom <= 0 for slice\n",
      "  c = cov(x, y, rowvar, dtype=dtype)\n",
      "/opt/anaconda3/lib/python3.7/site-packages/numpy/lib/function_base.py:2542: RuntimeWarning: divide by zero encountered in true_divide\n",
      "  c *= np.true_divide(1, fact)\n",
      "/opt/anaconda3/lib/python3.7/site-packages/numpy/lib/function_base.py:2542: RuntimeWarning: invalid value encountered in multiply\n",
      "  c *= np.true_divide(1, fact)\n"
     ]
    },
    {
     "name": "stdout",
     "output_type": "stream",
     "text": [
      "perc_scrubbed @center1-2-3  r = -0.1  p = 0.357\n",
      "perc_scrubbed PCT p = 0.474\n",
      "--------------------------------------------------\n",
      "BP_QST_sys @center1      r = nan  p = 0.0\n",
      "BP_QST_sys @center2      r = -0.15  p = 0.354\n",
      "BP_QST_sys @center3      r = -0.06  p = 0.798\n"
     ]
    },
    {
     "name": "stderr",
     "output_type": "stream",
     "text": [
      "Permuting: 100%|██████████| 1000/1000 [00:01<00:00, 817.29it/s]\n",
      "/opt/anaconda3/lib/python3.7/site-packages/numpy/lib/function_base.py:380: RuntimeWarning: Mean of empty slice.\n",
      "  avg = a.mean(axis)\n",
      "/opt/anaconda3/lib/python3.7/site-packages/numpy/core/_methods.py:182: RuntimeWarning: invalid value encountered in true_divide\n",
      "  ret, rcount, out=ret, casting='unsafe', subok=False)\n",
      "/opt/anaconda3/lib/python3.7/site-packages/numpy/lib/function_base.py:2683: RuntimeWarning: Degrees of freedom <= 0 for slice\n",
      "  c = cov(x, y, rowvar, dtype=dtype)\n",
      "/opt/anaconda3/lib/python3.7/site-packages/numpy/lib/function_base.py:2542: RuntimeWarning: divide by zero encountered in true_divide\n",
      "  c *= np.true_divide(1, fact)\n",
      "/opt/anaconda3/lib/python3.7/site-packages/numpy/lib/function_base.py:2542: RuntimeWarning: invalid value encountered in multiply\n",
      "  c *= np.true_divide(1, fact)\n"
     ]
    },
    {
     "name": "stdout",
     "output_type": "stream",
     "text": [
      "BP_QST_sys @center1-2-3  r = -0.15  p = 0.31\n",
      "BP_QST_sys PCT p = 0.33\n",
      "--------------------------------------------------\n",
      "BP_QST_dias @center1      r = nan  p = 0.0\n",
      "BP_QST_dias @center2      r = -0.25  p = 0.139\n",
      "BP_QST_dias @center3      r = -0.46  p = 0.1\n"
     ]
    },
    {
     "name": "stderr",
     "output_type": "stream",
     "text": [
      "Permuting: 100%|██████████| 1000/1000 [00:01<00:00, 771.47it/s]\n",
      "/opt/anaconda3/lib/python3.7/site-packages/numpy/lib/function_base.py:380: RuntimeWarning: Mean of empty slice.\n",
      "  avg = a.mean(axis)\n",
      "/opt/anaconda3/lib/python3.7/site-packages/numpy/core/_methods.py:182: RuntimeWarning: invalid value encountered in true_divide\n",
      "  ret, rcount, out=ret, casting='unsafe', subok=False)\n",
      "/opt/anaconda3/lib/python3.7/site-packages/numpy/lib/function_base.py:2683: RuntimeWarning: Degrees of freedom <= 0 for slice\n",
      "  c = cov(x, y, rowvar, dtype=dtype)\n",
      "/opt/anaconda3/lib/python3.7/site-packages/numpy/lib/function_base.py:2542: RuntimeWarning: divide by zero encountered in true_divide\n",
      "  c *= np.true_divide(1, fact)\n",
      "/opt/anaconda3/lib/python3.7/site-packages/numpy/lib/function_base.py:2542: RuntimeWarning: invalid value encountered in multiply\n",
      "  c *= np.true_divide(1, fact)\n"
     ]
    },
    {
     "name": "stdout",
     "output_type": "stream",
     "text": [
      "BP_QST_dias @center1-2-3  r = -0.22  p = 0.122\n",
      "BP_QST_dias PCT p = 0.158\n",
      "--------------------------------------------------\n",
      "BP_MRI_sys @center1      r = nan  p = 0.0\n",
      "BP_MRI_sys @center2      r = 0.0  p = 0.988\n",
      "BP_MRI_sys @center3      r = 0.08  p = 0.756\n"
     ]
    },
    {
     "name": "stderr",
     "output_type": "stream",
     "text": [
      "Permuting: 100%|██████████| 1000/1000 [00:01<00:00, 593.04it/s]\n",
      "/opt/anaconda3/lib/python3.7/site-packages/numpy/lib/function_base.py:380: RuntimeWarning: Mean of empty slice.\n",
      "  avg = a.mean(axis)\n",
      "/opt/anaconda3/lib/python3.7/site-packages/numpy/core/_methods.py:182: RuntimeWarning: invalid value encountered in true_divide\n",
      "  ret, rcount, out=ret, casting='unsafe', subok=False)\n",
      "/opt/anaconda3/lib/python3.7/site-packages/numpy/lib/function_base.py:2683: RuntimeWarning: Degrees of freedom <= 0 for slice\n",
      "  c = cov(x, y, rowvar, dtype=dtype)\n",
      "/opt/anaconda3/lib/python3.7/site-packages/numpy/lib/function_base.py:2542: RuntimeWarning: divide by zero encountered in true_divide\n",
      "  c *= np.true_divide(1, fact)\n",
      "/opt/anaconda3/lib/python3.7/site-packages/numpy/lib/function_base.py:2542: RuntimeWarning: invalid value encountered in multiply\n",
      "  c *= np.true_divide(1, fact)\n"
     ]
    },
    {
     "name": "stdout",
     "output_type": "stream",
     "text": [
      "BP_MRI_sys @center1-2-3  r = -0.08  p = 0.581\n",
      "BP_MRI_sys PCT p = 0.592\n",
      "--------------------------------------------------\n",
      "BP_MRI_dias @center1      r = nan  p = 0.0\n",
      "BP_MRI_dias @center2      r = 0.3  p = 0.082\n",
      "BP_MRI_dias @center3      r = -0.1  p = 0.691\n"
     ]
    },
    {
     "name": "stderr",
     "output_type": "stream",
     "text": [
      "Permuting: 100%|██████████| 1000/1000 [00:01<00:00, 670.06it/s]\n",
      "/opt/anaconda3/lib/python3.7/site-packages/numpy/lib/function_base.py:2691: RuntimeWarning: invalid value encountered in true_divide\n",
      "  c /= stddev[:, None]\n",
      "/opt/anaconda3/lib/python3.7/site-packages/numpy/lib/function_base.py:2692: RuntimeWarning: invalid value encountered in true_divide\n",
      "  c /= stddev[None, :]\n"
     ]
    },
    {
     "name": "stdout",
     "output_type": "stream",
     "text": [
      "BP_MRI_dias @center1-2-3  r = 0.1  p = 0.481\n",
      "BP_MRI_dias PCT p = 0.463\n",
      "--------------------------------------------------\n",
      "MRI_QST_dif @center1      r = nan  p = 0.0\n",
      "MRI_QST_dif @center2      r = 0.01  p = 0.967\n",
      "MRI_QST_dif @center3      r = 0.19  p = 0.45\n"
     ]
    },
    {
     "name": "stderr",
     "output_type": "stream",
     "text": [
      "Permuting: 100%|██████████| 1000/1000 [00:01<00:00, 766.83it/s]\n"
     ]
    },
    {
     "name": "stdout",
     "output_type": "stream",
     "text": [
      "MRI_QST_dif @center1-2-3  r = 0.14  p = 0.143\n",
      "MRI_QST_dif PCT p = 0.162\n",
      "--------------------------------------------------\n",
      "Age @center1      r = -0.03  p = 0.862\n",
      "Age @center2      r = -0.13  p = 0.429\n",
      "Age @center3      r = 0.31  p = 0.188\n"
     ]
    },
    {
     "name": "stderr",
     "output_type": "stream",
     "text": [
      "Permuting: 100%|██████████| 1000/1000 [00:01<00:00, 738.40it/s]\n"
     ]
    },
    {
     "name": "stdout",
     "output_type": "stream",
     "text": [
      "Age @center1-2-3  r = -0.05  p = 0.611\n",
      "Age PCT p = 0.67\n",
      "--------------------------------------------------\n",
      "Male @center1      r = -0.05  p = 0.772\n",
      "Male @center2      r = 0.24  p = 0.156\n",
      "Male @center3      r = 0.32  p = 0.183\n"
     ]
    },
    {
     "name": "stderr",
     "output_type": "stream",
     "text": [
      "Permuting: 100%|██████████| 1000/1000 [00:01<00:00, 650.98it/s]\n"
     ]
    },
    {
     "name": "stdout",
     "output_type": "stream",
     "text": [
      "Male @center1-2-3  r = 0.11  p = 0.322\n",
      "Male PCT p = 0.402\n",
      "--------------------------------------------------\n",
      "BMI @center1      r = -0.15  p = 0.383\n",
      "BMI @center2      r = -0.02  p = 0.925\n",
      "BMI @center3      r = 0.25  p = 0.3\n"
     ]
    },
    {
     "name": "stderr",
     "output_type": "stream",
     "text": [
      "Permuting: 100%|██████████| 1000/1000 [00:01<00:00, 689.58it/s]\n"
     ]
    },
    {
     "name": "stdout",
     "output_type": "stream",
     "text": [
      "BMI @center1-2-3  r = 0.02  p = 0.887\n",
      "BMI PCT p = 0.931\n",
      "--------------------------------------------------\n",
      "day_menses @center1      r = 0.34  p = 0.33\n",
      "day_menses @center2      r = -0.22  p = 0.376\n",
      "day_menses @center3      r = -0.15  p = 0.715\n"
     ]
    },
    {
     "name": "stderr",
     "output_type": "stream",
     "text": [
      "Permuting: 100%|██████████| 1000/1000 [00:01<00:00, 781.87it/s]\n"
     ]
    },
    {
     "name": "stdout",
     "output_type": "stream",
     "text": [
      "day_menses @center1-2-3  r = -0.17  p = 0.302\n",
      "day_menses PCT p = 0.532\n",
      "--------------------------------------------------\n",
      "alk_per_w @center1      r = 0.06  p = 0.753\n",
      "alk_per_w @center2      r = 0.14  p = 0.392\n"
     ]
    },
    {
     "name": "stderr",
     "output_type": "stream",
     "text": [
      "/opt/anaconda3/lib/python3.7/site-packages/numpy/lib/function_base.py:380: RuntimeWarning: Mean of empty slice.\n",
      "  avg = a.mean(axis)\n",
      "/opt/anaconda3/lib/python3.7/site-packages/numpy/core/_methods.py:182: RuntimeWarning: invalid value encountered in true_divide\n",
      "  ret, rcount, out=ret, casting='unsafe', subok=False)\n",
      "/opt/anaconda3/lib/python3.7/site-packages/numpy/lib/function_base.py:2683: RuntimeWarning: Degrees of freedom <= 0 for slice\n",
      "  c = cov(x, y, rowvar, dtype=dtype)\n",
      "/opt/anaconda3/lib/python3.7/site-packages/numpy/lib/function_base.py:2542: RuntimeWarning: divide by zero encountered in true_divide\n",
      "  c *= np.true_divide(1, fact)\n",
      "/opt/anaconda3/lib/python3.7/site-packages/numpy/lib/function_base.py:2542: RuntimeWarning: invalid value encountered in multiply\n",
      "  c *= np.true_divide(1, fact)\n"
     ]
    },
    {
     "name": "stdout",
     "output_type": "stream",
     "text": [
      "alk_per_w @center3      r = nan  p = 0.0\n"
     ]
    },
    {
     "name": "stderr",
     "output_type": "stream",
     "text": [
      "Permuting: 100%|██████████| 1000/1000 [00:01<00:00, 663.88it/s]\n"
     ]
    },
    {
     "name": "stdout",
     "output_type": "stream",
     "text": [
      "alk_per_w @center1-2-3  r = -0.07  p = 0.561\n",
      "alk_per_w PCT p = 0.635\n",
      "--------------------------------------------------\n",
      "edu @center1      r = 0.05  p = 0.753\n",
      "edu @center2      r = -0.08  p = 0.643\n"
     ]
    },
    {
     "name": "stderr",
     "output_type": "stream",
     "text": [
      "/opt/anaconda3/lib/python3.7/site-packages/numpy/lib/function_base.py:380: RuntimeWarning: Mean of empty slice.\n",
      "  avg = a.mean(axis)\n",
      "/opt/anaconda3/lib/python3.7/site-packages/numpy/core/_methods.py:182: RuntimeWarning: invalid value encountered in true_divide\n",
      "  ret, rcount, out=ret, casting='unsafe', subok=False)\n",
      "/opt/anaconda3/lib/python3.7/site-packages/numpy/lib/function_base.py:2683: RuntimeWarning: Degrees of freedom <= 0 for slice\n",
      "  c = cov(x, y, rowvar, dtype=dtype)\n",
      "/opt/anaconda3/lib/python3.7/site-packages/numpy/lib/function_base.py:2542: RuntimeWarning: divide by zero encountered in true_divide\n",
      "  c *= np.true_divide(1, fact)\n",
      "/opt/anaconda3/lib/python3.7/site-packages/numpy/lib/function_base.py:2542: RuntimeWarning: invalid value encountered in multiply\n",
      "  c *= np.true_divide(1, fact)\n"
     ]
    },
    {
     "name": "stdout",
     "output_type": "stream",
     "text": [
      "edu @center3      r = nan  p = 0.0\n"
     ]
    },
    {
     "name": "stderr",
     "output_type": "stream",
     "text": [
      "Permuting: 100%|██████████| 1000/1000 [00:01<00:00, 727.15it/s]\n"
     ]
    },
    {
     "name": "stdout",
     "output_type": "stream",
     "text": [
      "edu @center1-2-3  r = -0.04  p = 0.705\n",
      "edu PCT p = 0.767\n",
      "--------------------------------------------------\n",
      "pcs_catastrophizing @center1      r = -0.03  p = 0.886\n",
      "pcs_catastrophizing @center2      r = -0.22  p = 0.19\n",
      "pcs_catastrophizing @center3      r = -0.03  p = 0.898\n"
     ]
    },
    {
     "name": "stderr",
     "output_type": "stream",
     "text": [
      "Permuting: 100%|██████████| 1000/1000 [00:01<00:00, 705.31it/s]\n"
     ]
    },
    {
     "name": "stdout",
     "output_type": "stream",
     "text": [
      "pcs_catastrophizing @center1-2-3  r = -0.06  p = 0.598\n",
      "pcs_catastrophizing PCT p = 0.702\n",
      "--------------------------------------------------\n",
      "pcs_rumination @center1      r = -0.07  p = 0.694\n"
     ]
    },
    {
     "name": "stderr",
     "output_type": "stream",
     "text": [
      "/opt/anaconda3/lib/python3.7/site-packages/numpy/lib/function_base.py:380: RuntimeWarning: Mean of empty slice.\n",
      "  avg = a.mean(axis)\n",
      "/opt/anaconda3/lib/python3.7/site-packages/numpy/core/_methods.py:182: RuntimeWarning: invalid value encountered in true_divide\n",
      "  ret, rcount, out=ret, casting='unsafe', subok=False)\n",
      "/opt/anaconda3/lib/python3.7/site-packages/numpy/lib/function_base.py:2683: RuntimeWarning: Degrees of freedom <= 0 for slice\n",
      "  c = cov(x, y, rowvar, dtype=dtype)\n",
      "/opt/anaconda3/lib/python3.7/site-packages/numpy/lib/function_base.py:2542: RuntimeWarning: divide by zero encountered in true_divide\n",
      "  c *= np.true_divide(1, fact)\n",
      "/opt/anaconda3/lib/python3.7/site-packages/numpy/lib/function_base.py:2542: RuntimeWarning: invalid value encountered in multiply\n",
      "  c *= np.true_divide(1, fact)\n"
     ]
    },
    {
     "name": "stdout",
     "output_type": "stream",
     "text": [
      "pcs_rumination @center2      r = nan  p = 0.0\n",
      "pcs_rumination @center3      r = nan  p = 0.0\n"
     ]
    },
    {
     "name": "stderr",
     "output_type": "stream",
     "text": [
      "Permuting: 100%|██████████| 1000/1000 [00:01<00:00, 828.17it/s]\n"
     ]
    },
    {
     "name": "stdout",
     "output_type": "stream",
     "text": [
      "pcs_rumination @center1-2-3  r = -0.07  p = 0.694\n",
      "pcs_rumination PCT p = 0.781\n",
      "--------------------------------------------------\n",
      "psq @center1      r = -0.01  p = 0.965\n",
      "psq @center2      r = -0.01  p = 0.969\n",
      "psq @center3      r = 0.04  p = 0.884\n"
     ]
    },
    {
     "name": "stderr",
     "output_type": "stream",
     "text": [
      "Permuting: 100%|██████████| 1000/1000 [00:01<00:00, 712.28it/s]\n",
      "/opt/anaconda3/lib/python3.7/site-packages/numpy/lib/function_base.py:380: RuntimeWarning: Mean of empty slice.\n",
      "  avg = a.mean(axis)\n",
      "/opt/anaconda3/lib/python3.7/site-packages/numpy/core/_methods.py:182: RuntimeWarning: invalid value encountered in true_divide\n",
      "  ret, rcount, out=ret, casting='unsafe', subok=False)\n",
      "/opt/anaconda3/lib/python3.7/site-packages/numpy/lib/function_base.py:2683: RuntimeWarning: Degrees of freedom <= 0 for slice\n",
      "  c = cov(x, y, rowvar, dtype=dtype)\n",
      "/opt/anaconda3/lib/python3.7/site-packages/numpy/lib/function_base.py:2542: RuntimeWarning: divide by zero encountered in true_divide\n",
      "  c *= np.true_divide(1, fact)\n",
      "/opt/anaconda3/lib/python3.7/site-packages/numpy/lib/function_base.py:2542: RuntimeWarning: invalid value encountered in multiply\n",
      "  c *= np.true_divide(1, fact)\n"
     ]
    },
    {
     "name": "stdout",
     "output_type": "stream",
     "text": [
      "psq @center1-2-3  r = 0.1  p = 0.354\n",
      "psq PCT p = 0.455\n",
      "--------------------------------------------------\n",
      "BDI @center1      r = nan  p = 0.0\n",
      "BDI @center2      r = nan  p = 0.0\n",
      "BDI @center3      r = -0.08  p = 0.749\n"
     ]
    },
    {
     "name": "stderr",
     "output_type": "stream",
     "text": [
      "Permuting: 100%|██████████| 1000/1000 [00:01<00:00, 806.02it/s]\n"
     ]
    },
    {
     "name": "stdout",
     "output_type": "stream",
     "text": [
      "BDI @center1-2-3  r = -0.08  p = 0.749\n",
      "BDI PCT p = 0.801\n",
      "--------------------------------------------------\n",
      "ads_k @center1      r = -0.06  p = 0.731\n",
      "ads_k @center2      r = 0.02  p = 0.913\n",
      "ads_k @center3      r = -0.11  p = 0.733\n"
     ]
    },
    {
     "name": "stderr",
     "output_type": "stream",
     "text": [
      "Permuting: 100%|██████████| 1000/1000 [00:01<00:00, 742.17it/s]\n",
      "/opt/anaconda3/lib/python3.7/site-packages/numpy/lib/function_base.py:380: RuntimeWarning: Mean of empty slice.\n",
      "  avg = a.mean(axis)\n",
      "/opt/anaconda3/lib/python3.7/site-packages/numpy/core/_methods.py:182: RuntimeWarning: invalid value encountered in true_divide\n",
      "  ret, rcount, out=ret, casting='unsafe', subok=False)\n",
      "/opt/anaconda3/lib/python3.7/site-packages/numpy/lib/function_base.py:2683: RuntimeWarning: Degrees of freedom <= 0 for slice\n",
      "  c = cov(x, y, rowvar, dtype=dtype)\n",
      "/opt/anaconda3/lib/python3.7/site-packages/numpy/lib/function_base.py:2542: RuntimeWarning: divide by zero encountered in true_divide\n",
      "  c *= np.true_divide(1, fact)\n",
      "/opt/anaconda3/lib/python3.7/site-packages/numpy/lib/function_base.py:2542: RuntimeWarning: invalid value encountered in multiply\n",
      "  c *= np.true_divide(1, fact)\n"
     ]
    },
    {
     "name": "stdout",
     "output_type": "stream",
     "text": [
      "ads_k @center1-2-3  r = 0.05  p = 0.642\n",
      "ads_k PCT p = 0.665\n",
      "--------------------------------------------------\n",
      "PSQI @center1      r = nan  p = 0.0\n",
      "PSQI @center2      r = 0.1  p = 0.562\n",
      "PSQI @center3      r = 0.31  p = 0.256\n"
     ]
    },
    {
     "name": "stderr",
     "output_type": "stream",
     "text": [
      "Permuting: 100%|██████████| 1000/1000 [00:01<00:00, 747.71it/s]\n"
     ]
    },
    {
     "name": "stdout",
     "output_type": "stream",
     "text": [
      "PSQI @center1-2-3  r = 0.27  p = 0.058\n",
      "PSQI PCT p = 0.277\n",
      "--------------------------------------------------\n",
      "anx_state @center1      r = 0.19  p = 0.264\n",
      "anx_state @center2      r = 0.01  p = 0.945\n",
      "anx_state @center3      r = -0.04  p = 0.858\n"
     ]
    },
    {
     "name": "stderr",
     "output_type": "stream",
     "text": [
      "Permuting: 100%|██████████| 1000/1000 [00:01<00:00, 776.20it/s]\n"
     ]
    },
    {
     "name": "stdout",
     "output_type": "stream",
     "text": [
      "anx_state @center1-2-3  r = -0.04  p = 0.69\n",
      "anx_state PCT p = 0.693\n",
      "--------------------------------------------------\n",
      "anx_trait @center1      r = 0.17  p = 0.32\n",
      "anx_trait @center2      r = 0.04  p = 0.815\n",
      "anx_trait @center3      r = 0.02  p = 0.924\n"
     ]
    },
    {
     "name": "stderr",
     "output_type": "stream",
     "text": [
      "Permuting: 100%|██████████| 1000/1000 [00:01<00:00, 757.07it/s]\n",
      "/opt/anaconda3/lib/python3.7/site-packages/numpy/lib/function_base.py:380: RuntimeWarning: Mean of empty slice.\n",
      "  avg = a.mean(axis)\n",
      "/opt/anaconda3/lib/python3.7/site-packages/numpy/core/_methods.py:182: RuntimeWarning: invalid value encountered in true_divide\n",
      "  ret, rcount, out=ret, casting='unsafe', subok=False)\n",
      "/opt/anaconda3/lib/python3.7/site-packages/numpy/lib/function_base.py:2683: RuntimeWarning: Degrees of freedom <= 0 for slice\n",
      "  c = cov(x, y, rowvar, dtype=dtype)\n",
      "/opt/anaconda3/lib/python3.7/site-packages/numpy/lib/function_base.py:2542: RuntimeWarning: divide by zero encountered in true_divide\n",
      "  c *= np.true_divide(1, fact)\n",
      "/opt/anaconda3/lib/python3.7/site-packages/numpy/lib/function_base.py:2542: RuntimeWarning: invalid value encountered in multiply\n",
      "  c *= np.true_divide(1, fact)\n"
     ]
    },
    {
     "name": "stdout",
     "output_type": "stream",
     "text": [
      "anx_trait @center1-2-3  r = 0.03  p = 0.782\n",
      "anx_trait PCT p = 0.832\n",
      "--------------------------------------------------\n",
      "PSQ20 @center1      r = nan  p = 0.0\n",
      "PSQ20 @center2      r = -0.0  p = 0.976\n",
      "PSQ20 @center3      r = -0.01  p = 0.977\n"
     ]
    },
    {
     "name": "stderr",
     "output_type": "stream",
     "text": [
      "Permuting: 100%|██████████| 1000/1000 [00:01<00:00, 782.74it/s]\n"
     ]
    },
    {
     "name": "stdout",
     "output_type": "stream",
     "text": [
      "PSQ20 @center1-2-3  r = 0.2  p = 0.141\n",
      "PSQ20 PCT p = 0.527\n",
      "--------------------------------------------------\n",
      "CDT_log_mean @center1      r = 0.09  p = 0.593\n",
      "CDT_log_mean @center2      r = -0.0  p = 0.984\n",
      "CDT_log_mean @center3      r = -0.18  p = 0.417\n"
     ]
    },
    {
     "name": "stderr",
     "output_type": "stream",
     "text": [
      "Permuting: 100%|██████████| 1000/1000 [00:01<00:00, 732.18it/s]\n"
     ]
    },
    {
     "name": "stdout",
     "output_type": "stream",
     "text": [
      "CDT_log_mean @center1-2-3  r = 0.15  p = 0.162\n",
      "CDT_log_mean PCT p = 0.17\n",
      "--------------------------------------------------\n",
      "WDT_log_mean @center1      r = -0.17  p = 0.318\n",
      "WDT_log_mean @center2      r = 0.05  p = 0.744\n",
      "WDT_log_mean @center3      r = 0.26  p = 0.29\n"
     ]
    },
    {
     "name": "stderr",
     "output_type": "stream",
     "text": [
      "Permuting: 100%|██████████| 1000/1000 [00:01<00:00, 780.56it/s]\n",
      "/opt/anaconda3/lib/python3.7/site-packages/numpy/lib/function_base.py:380: RuntimeWarning: Mean of empty slice.\n",
      "  avg = a.mean(axis)\n",
      "/opt/anaconda3/lib/python3.7/site-packages/numpy/core/_methods.py:182: RuntimeWarning: invalid value encountered in true_divide\n",
      "  ret, rcount, out=ret, casting='unsafe', subok=False)\n",
      "/opt/anaconda3/lib/python3.7/site-packages/numpy/lib/function_base.py:2683: RuntimeWarning: Degrees of freedom <= 0 for slice\n",
      "  c = cov(x, y, rowvar, dtype=dtype)\n",
      "/opt/anaconda3/lib/python3.7/site-packages/numpy/lib/function_base.py:2542: RuntimeWarning: divide by zero encountered in true_divide\n",
      "  c *= np.true_divide(1, fact)\n",
      "/opt/anaconda3/lib/python3.7/site-packages/numpy/lib/function_base.py:2542: RuntimeWarning: invalid value encountered in multiply\n",
      "  c *= np.true_divide(1, fact)\n"
     ]
    },
    {
     "name": "stdout",
     "output_type": "stream",
     "text": [
      "WDT_log_mean @center1-2-3  r = 0.13  p = 0.225\n",
      "WDT_log_mean PCT p = 0.24\n",
      "--------------------------------------------------\n",
      "MDT_log_geom @center1      r = nan  p = 0.0\n",
      "MDT_log_geom @center2      r = -0.07  p = 0.672\n",
      "MDT_log_geom @center3      r = 0.15  p = 0.554\n"
     ]
    },
    {
     "name": "stderr",
     "output_type": "stream",
     "text": [
      "Permuting: 100%|██████████| 1000/1000 [00:01<00:00, 729.38it/s]\n"
     ]
    },
    {
     "name": "stdout",
     "output_type": "stream",
     "text": [
      "MDT_log_geom @center1-2-3  r = -0.27  p = 0.051\n",
      "MDT_log_geom PCT p = 0.134\n",
      "--------------------------------------------------\n",
      "t50 @center1      r = -0.33  p = 0.042\n"
     ]
    },
    {
     "name": "stderr",
     "output_type": "stream",
     "text": [
      "/opt/anaconda3/lib/python3.7/site-packages/numpy/lib/function_base.py:380: RuntimeWarning: Mean of empty slice.\n",
      "  avg = a.mean(axis)\n",
      "/opt/anaconda3/lib/python3.7/site-packages/numpy/core/_methods.py:182: RuntimeWarning: invalid value encountered in true_divide\n",
      "  ret, rcount, out=ret, casting='unsafe', subok=False)\n",
      "/opt/anaconda3/lib/python3.7/site-packages/numpy/lib/function_base.py:2683: RuntimeWarning: Degrees of freedom <= 0 for slice\n",
      "  c = cov(x, y, rowvar, dtype=dtype)\n",
      "/opt/anaconda3/lib/python3.7/site-packages/numpy/lib/function_base.py:2542: RuntimeWarning: divide by zero encountered in true_divide\n",
      "  c *= np.true_divide(1, fact)\n",
      "/opt/anaconda3/lib/python3.7/site-packages/numpy/lib/function_base.py:2542: RuntimeWarning: invalid value encountered in multiply\n",
      "  c *= np.true_divide(1, fact)\n"
     ]
    },
    {
     "name": "stdout",
     "output_type": "stream",
     "text": [
      "t50 @center2      r = nan  p = 0.0\n",
      "t50 @center3      r = nan  p = 0.0\n"
     ]
    },
    {
     "name": "stderr",
     "output_type": "stream",
     "text": [
      "Permuting: 100%|██████████| 1000/1000 [00:01<00:00, 724.87it/s]\n"
     ]
    },
    {
     "name": "stdout",
     "output_type": "stream",
     "text": [
      "t50 @center1-2-3  r = -0.33  p = 0.042\n",
      "t50 PCT p = 0.523\n",
      "--------------------------------------------------\n",
      "GABA_mean @center1      r = 0.31  p = 0.069\n"
     ]
    },
    {
     "name": "stderr",
     "output_type": "stream",
     "text": [
      "/opt/anaconda3/lib/python3.7/site-packages/numpy/lib/function_base.py:380: RuntimeWarning: Mean of empty slice.\n",
      "  avg = a.mean(axis)\n",
      "/opt/anaconda3/lib/python3.7/site-packages/numpy/core/_methods.py:182: RuntimeWarning: invalid value encountered in true_divide\n",
      "  ret, rcount, out=ret, casting='unsafe', subok=False)\n",
      "/opt/anaconda3/lib/python3.7/site-packages/numpy/lib/function_base.py:2683: RuntimeWarning: Degrees of freedom <= 0 for slice\n",
      "  c = cov(x, y, rowvar, dtype=dtype)\n",
      "/opt/anaconda3/lib/python3.7/site-packages/numpy/lib/function_base.py:2542: RuntimeWarning: divide by zero encountered in true_divide\n",
      "  c *= np.true_divide(1, fact)\n",
      "/opt/anaconda3/lib/python3.7/site-packages/numpy/lib/function_base.py:2542: RuntimeWarning: invalid value encountered in multiply\n",
      "  c *= np.true_divide(1, fact)\n"
     ]
    },
    {
     "name": "stdout",
     "output_type": "stream",
     "text": [
      "GABA_mean @center2      r = nan  p = 0.0\n",
      "GABA_mean @center3      r = nan  p = 0.0\n"
     ]
    },
    {
     "name": "stderr",
     "output_type": "stream",
     "text": [
      "Permuting: 100%|██████████| 1000/1000 [00:01<00:00, 731.97it/s]\n"
     ]
    },
    {
     "name": "stdout",
     "output_type": "stream",
     "text": [
      "GABA_mean @center1-2-3  r = 0.31  p = 0.069\n",
      "GABA_mean PCT p = 0.13\n",
      "--------------------------------------------------\n",
      "Glx_mean @center1      r = 0.33  p = 0.05\n"
     ]
    },
    {
     "name": "stderr",
     "output_type": "stream",
     "text": [
      "/opt/anaconda3/lib/python3.7/site-packages/numpy/lib/function_base.py:380: RuntimeWarning: Mean of empty slice.\n",
      "  avg = a.mean(axis)\n",
      "/opt/anaconda3/lib/python3.7/site-packages/numpy/core/_methods.py:182: RuntimeWarning: invalid value encountered in true_divide\n",
      "  ret, rcount, out=ret, casting='unsafe', subok=False)\n",
      "/opt/anaconda3/lib/python3.7/site-packages/numpy/lib/function_base.py:2683: RuntimeWarning: Degrees of freedom <= 0 for slice\n",
      "  c = cov(x, y, rowvar, dtype=dtype)\n",
      "/opt/anaconda3/lib/python3.7/site-packages/numpy/lib/function_base.py:2542: RuntimeWarning: divide by zero encountered in true_divide\n",
      "  c *= np.true_divide(1, fact)\n",
      "/opt/anaconda3/lib/python3.7/site-packages/numpy/lib/function_base.py:2542: RuntimeWarning: invalid value encountered in multiply\n",
      "  c *= np.true_divide(1, fact)\n"
     ]
    },
    {
     "name": "stdout",
     "output_type": "stream",
     "text": [
      "Glx_mean @center2      r = nan  p = 0.0\n",
      "Glx_mean @center3      r = nan  p = 0.0\n"
     ]
    },
    {
     "name": "stderr",
     "output_type": "stream",
     "text": [
      "Permuting: 100%|██████████| 1000/1000 [00:01<00:00, 761.52it/s]"
     ]
    },
    {
     "name": "stdout",
     "output_type": "stream",
     "text": [
      "Glx_mean @center1-2-3  r = 0.33  p = 0.05\n",
      "Glx_mean PCT p = 0.207\n",
      "--------------------------------------------------\n"
     ]
    },
    {
     "name": "stderr",
     "output_type": "stream",
     "text": [
      "\n"
     ]
    }
   ],
   "source": [
    "for varname in ['meanFD', 'maxFD', 'perc_scrubbed', 'BP_QST_sys', 'BP_QST_dias', 'BP_MRI_sys', 'BP_MRI_dias', 'MRI_QST_dif',\n",
    "               'Age', 'Male', 'BMI', 'day_menses', 'alk_per_w', 'edu', \n",
    "               'pcs_catastrophizing', 'pcs_rumination', 'psq', 'BDI', 'ads_k', 'PSQI', 'anx_state', 'anx_trait', 'PSQ20', #psq: pain sensitivity; PSQ20. precieved stress\n",
    "               'CDT_log_mean', 'WDT_log_mean','MDT_log_geom', 't50', 'GABA_mean', 'Glx_mean' ]:\n",
    "\n",
    "    isnan = np.isnan(df[varname])\n",
    "    confunder=df[varname][~isnan]\n",
    "    \n",
    "    p_corr_s1 = permutation_test(multicener_predictions[~isnan][df.study[~isnan]=='bochum'], confunder[df.study[~isnan]=='bochum'],\n",
    "                               func=lambda x, y: np.abs(np.corrcoef(x, y)[0,1]),\n",
    "                               method='approximate',\n",
    "                               num_rounds=8000,\n",
    "                               seed=42)\n",
    "\n",
    "    \n",
    "    corr_s1 = np.corrcoef(multicener_predictions[~isnan][df.study[~isnan]=='bochum'], confunder[df.study[~isnan]=='bochum'])[0,1]\n",
    "    print(varname, '@center1     ', 'r =', np.round(corr_s1, 2), ' p =', np.round(p_corr_s1, 3))\n",
    "\n",
    "    p_corr_s2 = permutation_test(multicener_predictions[~isnan][df.study[~isnan]=='essen'], confunder[df.study[~isnan]=='essen'],\n",
    "                                   func=lambda x, y: np.abs(np.corrcoef(x, y)[0,1]),\n",
    "                                   method='approximate',\n",
    "                                   num_rounds=8000,\n",
    "                                   seed=42)\n",
    "    corr_s2 = np.corrcoef(multicener_predictions[~isnan][df.study[~isnan]=='essen'], confunder[df.study[~isnan]=='essen'])[0,1]\n",
    "    print(varname, '@center2     ', 'r =', np.round(corr_s2, 2), ' p =', np.round(p_corr_s2, 3))\n",
    "\n",
    "    p_corr_s3 = permutation_test(multicener_predictions[~isnan][df.study[~isnan]=='szeged'], confunder[df.study[~isnan]=='szeged'],\n",
    "                                   func=lambda x, y: np.abs(np.corrcoef(x, y)[0,1]),\n",
    "                                   method='approximate',\n",
    "                                   num_rounds=8000,\n",
    "                                   seed=42)\n",
    "    corr_s3 = np.corrcoef(multicener_predictions[~isnan][df.study[~isnan]=='szeged'], confunder[df.study[~isnan]=='szeged'])[0,1]\n",
    "    print(varname, '@center3     ', 'r =', np.round(corr_s3, 2), ' p =', np.round(p_corr_s3, 3))\n",
    "\n",
    "    p_corr_s123 = permutation_test(multicener_predictions[~isnan], confunder,\n",
    "                                   func=lambda x, y: np.abs(np.corrcoef(x, y)[0,1]),\n",
    "                                   method='approximate',\n",
    "                                   num_rounds=8000,\n",
    "                                   seed=42)\n",
    "    corr_s123 = np.corrcoef(multicener_predictions[~isnan], confunder)[0,1]\n",
    "    \n",
    "    pct = partial_confound_test(y=df.mean_QST_pain_sensitivity[~isnan],\n",
    "                                yhat=multicener_predictions[~isnan],\n",
    "                                c=confunder)\n",
    "    \n",
    "    print(varname, '@center1-2-3 ', 'r =', np.round(corr_s123, 2), ' p =', np.round(p_corr_s123, 3))\n",
    "    print(varname, 'PCT', 'p =', pct.p)\n",
    "    print('--------------------------------------------------')\n"
   ]
  },
  {
   "cell_type": "markdown",
   "metadata": {},
   "source": [
    "## Plot significant associations"
   ]
  },
  {
   "cell_type": "code",
   "execution_count": 13,
   "metadata": {
    "ExecuteTime": {
     "end_time": "2021-11-02T09:10:52.225924Z",
     "start_time": "2021-11-02T09:10:49.915827Z"
    }
   },
   "outputs": [
    {
     "name": "stderr",
     "output_type": "stream",
     "text": [
      "/opt/anaconda3/lib/python3.7/site-packages/seaborn/_decorators.py:43: FutureWarning: Pass the following variables as keyword args: x, y. From version 0.12, the only valid positional argument will be `data`, and passing other arguments without an explicit keyword will result in an error or misinterpretation.\n",
      "  FutureWarning\n",
      "Permuting: 100%|██████████| 1000/1000 [00:01<00:00, 640.95it/s]\n"
     ]
    },
    {
     "data": {
      "image/svg+xml": [
       "<?xml version=\"1.0\" encoding=\"UTF-8\" standalone=\"no\"?>\n",
       "<!DOCTYPE svg PUBLIC \"-//W3C//DTD SVG 1.1//EN\"\n",
       " \"http://www.w3.org/Graphics/SVG/1.1/DTD/svg11.dtd\">\n",
       "<!-- Generated by graphviz version 2.44.1 (20200629.0846)\n",
       " -->\n",
       "<!-- Pages: 1 -->\n",
       "<svg width=\"326pt\" height=\"79pt\"\n",
       " viewBox=\"0.00 0.00 326.00 79.00\" xmlns=\"http://www.w3.org/2000/svg\" xmlns:xlink=\"http://www.w3.org/1999/xlink\">\n",
       "<g id=\"graph0\" class=\"graph\" transform=\"scale(1 1) rotate(0) translate(4 75)\">\n",
       "<polygon fill=\"white\" stroke=\"transparent\" points=\"-4,4 -4,-75 322,-75 322,4 -4,4\"/>\n",
       "<!-- c -->\n",
       "<g id=\"node1\" class=\"node\">\n",
       "<title>c</title>\n",
       "<ellipse fill=\"none\" stroke=\"black\" cx=\"27\" cy=\"-18\" rx=\"27\" ry=\"18\"/>\n",
       "<text text-anchor=\"middle\" x=\"27\" y=\"-14.3\" font-family=\"Times,serif\" font-size=\"14.00\">c</text>\n",
       "</g>\n",
       "<!-- y -->\n",
       "<g id=\"node2\" class=\"node\">\n",
       "<title>y</title>\n",
       "<ellipse fill=\"none\" stroke=\"black\" cx=\"159\" cy=\"-53\" rx=\"27\" ry=\"18\"/>\n",
       "<text text-anchor=\"middle\" x=\"159\" y=\"-49.3\" font-family=\"Times,serif\" font-size=\"14.00\">y</text>\n",
       "</g>\n",
       "<!-- c&#45;&#45;y -->\n",
       "<g id=\"edge2\" class=\"edge\">\n",
       "<title>c&#45;&#45;y</title>\n",
       "<path fill=\"none\" stroke=\"black\" d=\"M52.45,-24.58C75.69,-30.84 110.45,-40.2 133.66,-46.45\"/>\n",
       "<text text-anchor=\"middle\" x=\"87.5\" y=\"-40.8\" font-family=\"Times,serif\" font-size=\"14.00\">0.286</text>\n",
       "</g>\n",
       "<!-- yhat -->\n",
       "<g id=\"node3\" class=\"node\">\n",
       "<title>yhat</title>\n",
       "<ellipse fill=\"none\" stroke=\"black\" cx=\"291\" cy=\"-18\" rx=\"27\" ry=\"18\"/>\n",
       "<text text-anchor=\"start\" x=\"287.5\" y=\"-14.3\" font-family=\"Times,serif\" font-size=\"14.00\">ŷ</text>\n",
       "</g>\n",
       "<!-- c&#45;&#45;yhat -->\n",
       "<g id=\"edge1\" class=\"edge\">\n",
       "<title>c&#45;&#45;yhat</title>\n",
       "<path fill=\"none\" stroke=\"black\" stroke-dasharray=\"5,2\" d=\"M54.03,-15.52C72.66,-13.86 98.35,-11.85 121,-11 154.75,-9.73 163.25,-9.73 197,-11 219.65,-11.85 245.34,-13.86 263.97,-15.52\"/>\n",
       "<text text-anchor=\"middle\" x=\"159\" y=\"-14.8\" font-family=\"Times,serif\" font-size=\"14.00\">0.11 (p=0.52)</text>\n",
       "</g>\n",
       "<!-- y&#45;&#45;yhat -->\n",
       "<g id=\"edge3\" class=\"edge\">\n",
       "<title>y&#45;&#45;yhat</title>\n",
       "<path fill=\"none\" stroke=\"black\" d=\"M184.45,-46.42C207.69,-40.16 242.45,-30.8 265.66,-24.55\"/>\n",
       "<text text-anchor=\"middle\" x=\"230.5\" y=\"-40.8\" font-family=\"Times,serif\" font-size=\"14.00\">0.366</text>\n",
       "</g>\n",
       "</g>\n",
       "</svg>\n"
      ],
      "text/plain": [
       "<graphviz.dot.Graph at 0x7feb9f734610>"
      ]
     },
     "execution_count": 13,
     "metadata": {},
     "output_type": "execute_result"
    },
    {
     "data": {
      "image/png": "[encoded data removed]",
      "text/plain": [
       "<Figure size 432x288 with 1 Axes>"
      ]
     },
     "metadata": {},
     "output_type": "display_data"
    }
   ],
   "source": [
    "sns.regplot(df.t50, multicener_predictions)\n",
    "plot_graph(partial_confound_test(y=df.mean_QST_pain_sensitivity[~ np.isnan(df.t50)],\n",
    "                                yhat=multicener_predictions[~ np.isnan(df.t50)],\n",
    "                                c=df.t50[~ np.isnan(df.t50)]))"
   ]
  },
  {
   "cell_type": "code",
   "execution_count": 14,
   "metadata": {
    "ExecuteTime": {
     "end_time": "2021-11-02T09:11:40.633961Z",
     "start_time": "2021-11-02T09:11:38.574972Z"
    }
   },
   "outputs": [
    {
     "name": "stderr",
     "output_type": "stream",
     "text": [
      "/opt/anaconda3/lib/python3.7/site-packages/seaborn/_decorators.py:43: FutureWarning: Pass the following variables as keyword args: x, y. From version 0.12, the only valid positional argument will be `data`, and passing other arguments without an explicit keyword will result in an error or misinterpretation.\n",
      "  FutureWarning\n",
      "Permuting: 100%|██████████| 1000/1000 [00:01<00:00, 775.67it/s]\n"
     ]
    },
    {
     "data": {
      "image/svg+xml": [
       "<?xml version=\"1.0\" encoding=\"UTF-8\" standalone=\"no\"?>\n",
       "<!DOCTYPE svg PUBLIC \"-//W3C//DTD SVG 1.1//EN\"\n",
       " \"http://www.w3.org/Graphics/SVG/1.1/DTD/svg11.dtd\">\n",
       "<!-- Generated by graphviz version 2.44.1 (20200629.0846)\n",
       " -->\n",
       "<!-- Pages: 1 -->\n",
       "<svg width=\"333pt\" height=\"79pt\"\n",
       " viewBox=\"0.00 0.00 333.00 79.00\" xmlns=\"http://www.w3.org/2000/svg\" xmlns:xlink=\"http://www.w3.org/1999/xlink\">\n",
       "<g id=\"graph0\" class=\"graph\" transform=\"scale(1 1) rotate(0) translate(4 75)\">\n",
       "<polygon fill=\"white\" stroke=\"transparent\" points=\"-4,4 -4,-75 329,-75 329,4 -4,4\"/>\n",
       "<!-- c -->\n",
       "<g id=\"node1\" class=\"node\">\n",
       "<title>c</title>\n",
       "<ellipse fill=\"none\" stroke=\"black\" cx=\"27\" cy=\"-18\" rx=\"27\" ry=\"18\"/>\n",
       "<text text-anchor=\"middle\" x=\"27\" y=\"-14.3\" font-family=\"Times,serif\" font-size=\"14.00\">c</text>\n",
       "</g>\n",
       "<!-- y -->\n",
       "<g id=\"node2\" class=\"node\">\n",
       "<title>y</title>\n",
       "<ellipse fill=\"none\" stroke=\"black\" cx=\"162.5\" cy=\"-53\" rx=\"27\" ry=\"18\"/>\n",
       "<text text-anchor=\"middle\" x=\"162.5\" y=\"-49.3\" font-family=\"Times,serif\" font-size=\"14.00\">y</text>\n",
       "</g>\n",
       "<!-- c&#45;&#45;y -->\n",
       "<g id=\"edge2\" class=\"edge\">\n",
       "<title>c&#45;&#45;y</title>\n",
       "<path fill=\"none\" stroke=\"black\" d=\"M52.49,-24.42C76.57,-30.73 113.14,-40.32 137.17,-46.62\"/>\n",
       "<text text-anchor=\"middle\" x=\"87.5\" y=\"-40.8\" font-family=\"Times,serif\" font-size=\"14.00\">0.097</text>\n",
       "</g>\n",
       "<!-- yhat -->\n",
       "<g id=\"node3\" class=\"node\">\n",
       "<title>yhat</title>\n",
       "<ellipse fill=\"none\" stroke=\"black\" cx=\"298\" cy=\"-18\" rx=\"27\" ry=\"18\"/>\n",
       "<text text-anchor=\"start\" x=\"294.5\" y=\"-14.3\" font-family=\"Times,serif\" font-size=\"14.00\">ŷ</text>\n",
       "</g>\n",
       "<!-- c&#45;&#45;yhat -->\n",
       "<g id=\"edge1\" class=\"edge\">\n",
       "<title>c&#45;&#45;yhat</title>\n",
       "<path fill=\"none\" stroke=\"black\" stroke-dasharray=\"5,2\" d=\"M54.03,-15.52C72.66,-13.86 98.35,-11.85 121,-11 157.86,-9.61 167.14,-9.61 204,-11 226.65,-11.85 252.34,-13.86 270.97,-15.52\"/>\n",
       "<text text-anchor=\"middle\" x=\"162.5\" y=\"-14.8\" font-family=\"Times,serif\" font-size=\"14.00\">0.112 (p=0.19)</text>\n",
       "</g>\n",
       "<!-- y&#45;&#45;yhat -->\n",
       "<g id=\"edge3\" class=\"edge\">\n",
       "<title>y&#45;&#45;yhat</title>\n",
       "<path fill=\"none\" stroke=\"black\" d=\"M187.99,-46.58C212.07,-40.27 248.64,-30.68 272.67,-24.38\"/>\n",
       "<text text-anchor=\"middle\" x=\"237.5\" y=\"-40.8\" font-family=\"Times,serif\" font-size=\"14.00\">0.366</text>\n",
       "</g>\n",
       "</g>\n",
       "</svg>\n"
      ],
      "text/plain": [
       "<graphviz.dot.Graph at 0x7feba00d6710>"
      ]
     },
     "execution_count": 14,
     "metadata": {},
     "output_type": "execute_result"
    },
    {
     "data": {
      "image/png": "[encoded data removed]",
      "text/plain": [
       "<Figure size 432x288 with 1 Axes>"
      ]
     },
     "metadata": {},
     "output_type": "display_data"
    }
   ],
   "source": [
    "sns.regplot(df.Glx_mean, multicener_predictions)\n",
    "plot_graph(partial_confound_test(y=df.mean_QST_pain_sensitivity[~ np.isnan(df.Glx_mean)],\n",
    "                                yhat=multicener_predictions[~ np.isnan(df.Glx_mean)],\n",
    "                                c=df.Glx_mean[~ np.isnan(df.Glx_mean)]))"
   ]
  },
  {
   "cell_type": "code",
   "execution_count": null,
   "metadata": {},
   "outputs": [],
   "source": []
  }
 ],
 "metadata": {
  "hide_input": false,
  "kernelspec": {
   "display_name": "Python 3",
   "language": "python",
   "name": "python3"
  },
  "language_info": {
   "codemirror_mode": {
    "name": "ipython",
    "version": 3
   },
   "file_extension": ".py",
   "mimetype": "text/x-python",
   "name": "python",
   "nbconvert_exporter": "python",
   "pygments_lexer": "ipython3",
   "version": "3.7.4"
  }
 },
 "nbformat": 4,
 "nbformat_minor": 2
}