{
 "cells": [
  {
   "cell_type": "markdown",
   "metadata": {},
   "source": [
    "# Confounder analysis for the multi-center RPN-signature\n",
    "- This jupyter notebook is available on-line at:\n",
    "  - https://github.com/spisakt/RPN-signature/blob/master/notebooks/5_confounder_analysis.ipynb\n",
    "- Input data for the notebook and non-standard code (PAINTeR library) is available in the repo:\n",
    "  - https://github.com/spisakt/RPN-signature\n",
    "- Raw MRI-data from study-centers 1 and 2 are available on OpenNeuro:\n",
    "  - https://openneuro.org/datasets/ds002608/versions/1.0.1\n",
    "  - https://openneuro.org/datasets/ds002609/versions/1.0.3\n",
    "- Raw data from center 3 is available upon reasonable request."
   ]
  },
  {
   "cell_type": "markdown",
   "metadata": {},
   "source": [
    "## Imports"
   ]
  },
  {
   "cell_type": "code",
   "execution_count": 4,
   "metadata": {
    "ExecuteTime": {
     "end_time": "2021-07-12T12:45:01.327399Z",
     "start_time": "2021-07-12T12:44:53.482909Z"
    }
   },
   "outputs": [],
   "source": [
    "import joblib\n",
    "import numpy as np\n",
    "import pandas as pd\n",
    "import seaborn as sns\n",
    "import matplotlib.pyplot as plt\n",
    "from nilearn.connectome import vec_to_sym_matrix, sym_matrix_to_vec\n",
    "from sklearn.metrics import mean_squared_error, mean_absolute_error, explained_variance_score\n",
    "from mlxtend.evaluate import permutation_test\n",
    "\n",
    "from mlconfound.stats import partial_confound_test\n",
    "\n",
    "import sys\n",
    "sys.path.append('../')\n",
    "from PAINTeR import plot # in-house lib used for the RPN-signature"
   ]
  },
  {
   "cell_type": "markdown",
   "metadata": {
    "ExecuteTime": {
     "end_time": "2021-07-01T15:04:56.005945Z",
     "start_time": "2021-07-01T15:04:56.002449Z"
    }
   },
   "source": [
    "## Load and merge behavioral data for all three centers (after exclusions)"
   ]
  },
  {
   "cell_type": "code",
   "execution_count": 5,
   "metadata": {
    "ExecuteTime": {
     "end_time": "2021-07-12T12:45:01.696505Z",
     "start_time": "2021-07-12T12:45:01.388085Z"
    }
   },
   "outputs": [
    {
     "data": {
      "text/plain": "    index  Unnamed: 0  ID  Excluded exclusion_crit  Male  day_menses  \\\n0       0           0   4       0.0            NaN   1.0         NaN   \n1       1           1   6       0.0            NaN   1.0         NaN   \n2       2           2   7       0.0            NaN   1.0         NaN   \n3       3           3   8       0.0            NaN   1.0         NaN   \n4       4           4   9       0.0            NaN   0.0         6.0   \n..    ...         ...  ..       ...            ...   ...         ...   \n86     14          14  22       0.0            NaN   1.0         NaN   \n87     15          15  24       0.0            NaN   1.0         NaN   \n88     16          16  25       0.0            NaN   1.0         NaN   \n89     17          17  28       0.0            NaN   0.0         5.0   \n90     18          18  29       0.5    nan+MPT_low   1.0         NaN   \n\n          Age  height  weight  ...  weight..kg.  psq_moderate  psq_minor  \\\n0   25.552361   175.0    71.0  ...          NaN           NaN        NaN   \n1   33.453799   183.0    80.0  ...          NaN           NaN        NaN   \n2   26.119097   186.0    92.0  ...          NaN           NaN        NaN   \n3   25.445585   180.0    72.0  ...          NaN           NaN        NaN   \n4   22.573580   176.0    70.0  ...          NaN           NaN        NaN   \n..        ...     ...     ...  ...          ...           ...        ...   \n86  24.000000   185.0    82.0  ...          NaN          27.0       11.0   \n87  22.000000   183.0    83.0  ...          NaN          28.0       16.0   \n88  22.000000   195.0    77.0  ...          NaN          20.0        9.0   \n89  23.000000   162.0    59.0  ...          NaN          34.0       18.0   \n90  30.000000   178.0    85.0  ...          NaN          31.0        8.0   \n\n    PSQ20  PSQI  MDT_log_geom  Pulse_MRI  Pulse_QST  BDI  PSQ20_essen  \n0     NaN   NaN           NaN        NaN        NaN  NaN          NaN  \n1     NaN   NaN           NaN        NaN        NaN  NaN          NaN  \n2     NaN   NaN           NaN        NaN        NaN  NaN          NaN  \n3     NaN   NaN           NaN        NaN        NaN  NaN          NaN  \n4     NaN   NaN           NaN        NaN        NaN  NaN          NaN  \n..    ...   ...           ...        ...        ...  ...          ...  \n86    6.0   1.0      1.259900       73.0       76.0  5.0         24.0  \n87    9.0   1.0      1.913513       85.0       86.0  0.0         25.0  \n88   11.0   NaN      1.581106       88.0       91.0  1.0         25.0  \n89   43.0   2.0      1.145363       78.0       89.0  7.0         37.0  \n90   11.0   1.0      2.374623       77.0        NaN  0.0         27.0  \n\n[91 rows x 134 columns]",
      "text/html": "<div>\n<style scoped>\n    .dataframe tbody tr th:only-of-type {\n        vertical-align: middle;\n    }\n\n    .dataframe tbody tr th {\n        vertical-align: top;\n    }\n\n    .dataframe thead th {\n        text-align: right;\n    }\n</style>\n<table border=\"1\" class=\"dataframe\">\n  <thead>\n    <tr style=\"text-align: right;\">\n      <th></th>\n      <th>index</th>\n      <th>Unnamed: 0</th>\n      <th>ID</th>\n      <th>Excluded</th>\n      <th>exclusion_crit</th>\n      <th>Male</th>\n      <th>day_menses</th>\n      <th>Age</th>\n      <th>height</th>\n      <th>weight</th>\n      <th>...</th>\n      <th>weight..kg.</th>\n      <th>psq_moderate</th>\n      <th>psq_minor</th>\n      <th>PSQ20</th>\n      <th>PSQI</th>\n      <th>MDT_log_geom</th>\n      <th>Pulse_MRI</th>\n      <th>Pulse_QST</th>\n      <th>BDI</th>\n      <th>PSQ20_essen</th>\n    </tr>\n  </thead>\n  <tbody>\n    <tr>\n      <th>0</th>\n      <td>0</td>\n      <td>0</td>\n      <td>4</td>\n      <td>0.0</td>\n      <td>NaN</td>\n      <td>1.0</td>\n      <td>NaN</td>\n      <td>25.552361</td>\n      <td>175.0</td>\n      <td>71.0</td>\n      <td>...</td>\n      <td>NaN</td>\n      <td>NaN</td>\n      <td>NaN</td>\n      <td>NaN</td>\n      <td>NaN</td>\n      <td>NaN</td>\n      <td>NaN</td>\n      <td>NaN</td>\n      <td>NaN</td>\n      <td>NaN</td>\n    </tr>\n    <tr>\n      <th>1</th>\n      <td>1</td>\n      <td>1</td>\n      <td>6</td>\n      <td>0.0</td>\n      <td>NaN</td>\n      <td>1.0</td>\n      <td>NaN</td>\n      <td>33.453799</td>\n      <td>183.0</td>\n      <td>80.0</td>\n      <td>...</td>\n      <td>NaN</td>\n      <td>NaN</td>\n      <td>NaN</td>\n      <td>NaN</td>\n      <td>NaN</td>\n      <td>NaN</td>\n      <td>NaN</td>\n      <td>NaN</td>\n      <td>NaN</td>\n      <td>NaN</td>\n    </tr>\n    <tr>\n      <th>2</th>\n      <td>2</td>\n      <td>2</td>\n      <td>7</td>\n      <td>0.0</td>\n      <td>NaN</td>\n      <td>1.0</td>\n      <td>NaN</td>\n      <td>26.119097</td>\n      <td>186.0</td>\n      <td>92.0</td>\n      <td>...</td>\n      <td>NaN</td>\n      <td>NaN</td>\n      <td>NaN</td>\n      <td>NaN</td>\n      <td>NaN</td>\n      <td>NaN</td>\n      <td>NaN</td>\n      <td>NaN</td>\n      <td>NaN</td>\n      <td>NaN</td>\n    </tr>\n    <tr>\n      <th>3</th>\n      <td>3</td>\n      <td>3</td>\n      <td>8</td>\n      <td>0.0</td>\n      <td>NaN</td>\n      <td>1.0</td>\n      <td>NaN</td>\n      <td>25.445585</td>\n      <td>180.0</td>\n      <td>72.0</td>\n      <td>...</td>\n      <td>NaN</td>\n      <td>NaN</td>\n      <td>NaN</td>\n      <td>NaN</td>\n      <td>NaN</td>\n      <td>NaN</td>\n      <td>NaN</td>\n      <td>NaN</td>\n      <td>NaN</td>\n      <td>NaN</td>\n    </tr>\n    <tr>\n      <th>4</th>\n      <td>4</td>\n      <td>4</td>\n      <td>9</td>\n      <td>0.0</td>\n      <td>NaN</td>\n      <td>0.0</td>\n      <td>6.0</td>\n      <td>22.573580</td>\n      <td>176.0</td>\n      <td>70.0</td>\n      <td>...</td>\n      <td>NaN</td>\n      <td>NaN</td>\n      <td>NaN</td>\n      <td>NaN</td>\n      <td>NaN</td>\n      <td>NaN</td>\n      <td>NaN</td>\n      <td>NaN</td>\n      <td>NaN</td>\n      <td>NaN</td>\n    </tr>\n    <tr>\n      <th>...</th>\n      <td>...</td>\n      <td>...</td>\n      <td>...</td>\n      <td>...</td>\n      <td>...</td>\n      <td>...</td>\n      <td>...</td>\n      <td>...</td>\n      <td>...</td>\n      <td>...</td>\n      <td>...</td>\n      <td>...</td>\n      <td>...</td>\n      <td>...</td>\n      <td>...</td>\n      <td>...</td>\n      <td>...</td>\n      <td>...</td>\n      <td>...</td>\n      <td>...</td>\n      <td>...</td>\n    </tr>\n    <tr>\n      <th>86</th>\n      <td>14</td>\n      <td>14</td>\n      <td>22</td>\n      <td>0.0</td>\n      <td>NaN</td>\n      <td>1.0</td>\n      <td>NaN</td>\n      <td>24.000000</td>\n      <td>185.0</td>\n      <td>82.0</td>\n      <td>...</td>\n      <td>NaN</td>\n      <td>27.0</td>\n      <td>11.0</td>\n      <td>6.0</td>\n      <td>1.0</td>\n      <td>1.259900</td>\n      <td>73.0</td>\n      <td>76.0</td>\n      <td>5.0</td>\n      <td>24.0</td>\n    </tr>\n    <tr>\n      <th>87</th>\n      <td>15</td>\n      <td>15</td>\n      <td>24</td>\n      <td>0.0</td>\n      <td>NaN</td>\n      <td>1.0</td>\n      <td>NaN</td>\n      <td>22.000000</td>\n      <td>183.0</td>\n      <td>83.0</td>\n      <td>...</td>\n      <td>NaN</td>\n      <td>28.0</td>\n      <td>16.0</td>\n      <td>9.0</td>\n      <td>1.0</td>\n      <td>1.913513</td>\n      <td>85.0</td>\n      <td>86.0</td>\n      <td>0.0</td>\n      <td>25.0</td>\n    </tr>\n    <tr>\n      <th>88</th>\n      <td>16</td>\n      <td>16</td>\n      <td>25</td>\n      <td>0.0</td>\n      <td>NaN</td>\n      <td>1.0</td>\n      <td>NaN</td>\n      <td>22.000000</td>\n      <td>195.0</td>\n      <td>77.0</td>\n      <td>...</td>\n      <td>NaN</td>\n      <td>20.0</td>\n      <td>9.0</td>\n      <td>11.0</td>\n      <td>NaN</td>\n      <td>1.581106</td>\n      <td>88.0</td>\n      <td>91.0</td>\n      <td>1.0</td>\n      <td>25.0</td>\n    </tr>\n    <tr>\n      <th>89</th>\n      <td>17</td>\n      <td>17</td>\n      <td>28</td>\n      <td>0.0</td>\n      <td>NaN</td>\n      <td>0.0</td>\n      <td>5.0</td>\n      <td>23.000000</td>\n      <td>162.0</td>\n      <td>59.0</td>\n      <td>...</td>\n      <td>NaN</td>\n      <td>34.0</td>\n      <td>18.0</td>\n      <td>43.0</td>\n      <td>2.0</td>\n      <td>1.145363</td>\n      <td>78.0</td>\n      <td>89.0</td>\n      <td>7.0</td>\n      <td>37.0</td>\n    </tr>\n    <tr>\n      <th>90</th>\n      <td>18</td>\n      <td>18</td>\n      <td>29</td>\n      <td>0.5</td>\n      <td>nan+MPT_low</td>\n      <td>1.0</td>\n      <td>NaN</td>\n      <td>30.000000</td>\n      <td>178.0</td>\n      <td>85.0</td>\n      <td>...</td>\n      <td>NaN</td>\n      <td>31.0</td>\n      <td>8.0</td>\n      <td>11.0</td>\n      <td>1.0</td>\n      <td>2.374623</td>\n      <td>77.0</td>\n      <td>NaN</td>\n      <td>0.0</td>\n      <td>27.0</td>\n    </tr>\n  </tbody>\n</table>\n<p>91 rows × 134 columns</p>\n</div>"
     },
     "execution_count": 5,
     "metadata": {},
     "output_type": "execute_result"
    }
   ],
   "source": [
    "df_bochum = pd.read_csv(\"../res/bochum_sample_excl.csv\")\n",
    "df_essen = pd.read_csv(\"../res/essen_sample_excl.csv\")\n",
    "df_szeged = pd.read_csv(\"../res/szeged_sample_excl.csv\")\n",
    "df_bochum['study']='bochum'\n",
    "df_essen['study']='essen'\n",
    "df_szeged['study']='szeged'\n",
    "df=pd.concat((df_bochum, df_essen, df_szeged), sort=False)\n",
    "df=df.reset_index()\n",
    "\n",
    "### correct for different questionnaire evaluation in the Essen-sample\n",
    "df.loc[df.study=='essen', 'psq'] *= 20 \n",
    "df.loc[df.study=='essen', 'anx_state'] *= 20 \n",
    "df.loc[df.study=='essen', 'anx_trait'] *= 20 \n",
    "\n",
    "### negate the log mean mechanical detection threshold in center 3 (is already negated in center 2 and is not available in center 1)\n",
    "df.loc[df.study=='szeged', 'MDT_log_geom'] *= -1 \n",
    "\n",
    "df"
   ]
  },
  {
   "cell_type": "markdown",
   "metadata": {},
   "source": [
    "## Load predictions newly proposed multi-center model"
   ]
  },
  {
   "cell_type": "code",
   "execution_count": 6,
   "metadata": {
    "ExecuteTime": {
     "end_time": "2021-07-12T12:45:57.391865Z",
     "start_time": "2021-07-12T12:45:57.382477Z"
    }
   },
   "outputs": [],
   "source": [
    "multicener_predictions = np.genfromtxt('../res/multi-center/nested_cv_combat_conservative_pred_full_GroupKFold30.csv', delimiter=',')\n"
   ]
  },
  {
   "cell_type": "markdown",
   "metadata": {},
   "source": [
    "## Test association with the confounder variables"
   ]
  },
  {
   "cell_type": "code",
   "execution_count": 7,
   "metadata": {
    "ExecuteTime": {
     "end_time": "2021-07-12T12:51:37.720893Z",
     "start_time": "2021-07-12T12:46:01.346586Z"
    }
   },
   "outputs": [
    {
     "name": "stdout",
     "output_type": "stream",
     "text": [
      "meanFD @center1      r = -0.08  p = 0.61\n",
      "meanFD @center2      r = 0.02  p = 0.889\n",
      "meanFD @center3      r = -0.07  p = 0.755\n",
      "meanFD @center1-2-3  r = -0.06  p = 0.592\n",
      "--------------------------------------------------\n",
      "maxFD @center1      r = -0.05  p = 0.769\n",
      "maxFD @center2      r = 0.22  p = 0.198\n",
      "maxFD @center3      r = 0.11  p = 0.655\n",
      "maxFD @center1-2-3  r = 0.12  p = 0.251\n",
      "--------------------------------------------------\n",
      "perc_scrubbed @center1      r = -0.04  p = 0.821\n",
      "perc_scrubbed @center2      r = -0.09  p = 0.588\n",
      "perc_scrubbed @center3      r = -0.07  p = 0.823\n",
      "perc_scrubbed @center1-2-3  r = -0.06  p = 0.598\n",
      "--------------------------------------------------\n"
     ]
    },
    {
     "name": "stderr",
     "output_type": "stream",
     "text": [
      "/home/tspisak/src/RPN-signature/venv/lib/python3.8/site-packages/numpy/lib/function_base.py:380: RuntimeWarning: Mean of empty slice.\n",
      "  avg = a.mean(axis)\n",
      "/home/tspisak/src/RPN-signature/venv/lib/python3.8/site-packages/numpy/core/_methods.py:181: RuntimeWarning: invalid value encountered in true_divide\n",
      "  ret = um.true_divide(\n",
      "/home/tspisak/src/RPN-signature/venv/lib/python3.8/site-packages/numpy/lib/function_base.py:2683: RuntimeWarning: Degrees of freedom <= 0 for slice\n",
      "  c = cov(x, y, rowvar, dtype=dtype)\n",
      "/home/tspisak/src/RPN-signature/venv/lib/python3.8/site-packages/numpy/lib/function_base.py:2542: RuntimeWarning: divide by zero encountered in true_divide\n",
      "  c *= np.true_divide(1, fact)\n",
      "/home/tspisak/src/RPN-signature/venv/lib/python3.8/site-packages/numpy/lib/function_base.py:2542: RuntimeWarning: invalid value encountered in multiply\n",
      "  c *= np.true_divide(1, fact)\n"
     ]
    },
    {
     "name": "stdout",
     "output_type": "stream",
     "text": [
      "BP_QST_sys @center1      r = nan  p = 0.0\n",
      "BP_QST_sys @center2      r = -0.15  p = 0.383\n",
      "BP_QST_sys @center3      r = -0.06  p = 0.793\n",
      "BP_QST_sys @center1-2-3  r = -0.12  p = 0.401\n",
      "--------------------------------------------------\n",
      "BP_QST_dias @center1      r = nan  p = 0.0\n",
      "BP_QST_dias @center2      r = -0.24  p = 0.153\n",
      "BP_QST_dias @center3      r = -0.4  p = 0.163\n",
      "BP_QST_dias @center1-2-3  r = -0.27  p = 0.06\n",
      "--------------------------------------------------\n",
      "BP_MRI_sys @center1      r = nan  p = 0.0\n",
      "BP_MRI_sys @center2      r = 0.01  p = 0.978\n",
      "BP_MRI_sys @center3      r = 0.04  p = 0.902\n",
      "BP_MRI_sys @center1-2-3  r = 0.04  p = 0.755\n",
      "--------------------------------------------------\n",
      "BP_MRI_dias @center1      r = nan  p = 0.0\n",
      "BP_MRI_dias @center2      r = 0.3  p = 0.079\n",
      "BP_MRI_dias @center3      r = -0.14  p = 0.518\n",
      "BP_MRI_dias @center1-2-3  r = 0.22  p = 0.111\n",
      "--------------------------------------------------\n"
     ]
    },
    {
     "name": "stderr",
     "output_type": "stream",
     "text": [
      "/home/tspisak/src/RPN-signature/venv/lib/python3.8/site-packages/numpy/lib/function_base.py:2691: RuntimeWarning: invalid value encountered in true_divide\n",
      "  c /= stddev[:, None]\n",
      "/home/tspisak/src/RPN-signature/venv/lib/python3.8/site-packages/numpy/lib/function_base.py:2692: RuntimeWarning: invalid value encountered in true_divide\n",
      "  c /= stddev[None, :]\n"
     ]
    },
    {
     "name": "stdout",
     "output_type": "stream",
     "text": [
      "MRI_QST_dif @center1      r = nan  p = 0.0\n",
      "MRI_QST_dif @center2      r = 0.0  p = 0.979\n",
      "MRI_QST_dif @center3      r = 0.2  p = 0.419\n",
      "MRI_QST_dif @center1-2-3  r = 0.1  p = 0.293\n",
      "--------------------------------------------------\n",
      "Age @center1      r = -0.03  p = 0.88\n",
      "Age @center2      r = -0.15  p = 0.379\n",
      "Age @center3      r = 0.37  p = 0.114\n",
      "Age @center1-2-3  r = -0.05  p = 0.654\n",
      "--------------------------------------------------\n",
      "Male @center1      r = -0.05  p = 0.774\n",
      "Male @center2      r = 0.25  p = 0.136\n",
      "Male @center3      r = 0.24  p = 0.333\n",
      "Male @center1-2-3  r = 0.11  p = 0.313\n",
      "--------------------------------------------------\n",
      "BMI @center1      r = -0.13  p = 0.472\n",
      "BMI @center2      r = -0.02  p = 0.897\n",
      "BMI @center3      r = 0.19  p = 0.431\n",
      "BMI @center1-2-3  r = -0.03  p = 0.787\n",
      "--------------------------------------------------\n",
      "day_menses @center1      r = 0.33  p = 0.348\n",
      "day_menses @center2      r = -0.22  p = 0.368\n",
      "day_menses @center3      r = -0.15  p = 0.694\n",
      "day_menses @center1-2-3  r = -0.08  p = 0.647\n",
      "--------------------------------------------------\n",
      "alk_per_w @center1      r = 0.05  p = 0.763\n",
      "alk_per_w @center2      r = 0.14  p = 0.384\n",
      "alk_per_w @center3      r = nan  p = 0.0\n",
      "alk_per_w @center1-2-3  r = 0.0  p = 0.994\n",
      "--------------------------------------------------\n",
      "edu @center1      r = 0.06  p = 0.728\n",
      "edu @center2      r = -0.07  p = 0.688\n",
      "edu @center3      r = nan  p = 0.0\n",
      "edu @center1-2-3  r = -0.01  p = 0.911\n",
      "--------------------------------------------------\n",
      "pcs_catastrophizing @center1      r = -0.01  p = 0.956\n",
      "pcs_catastrophizing @center2      r = -0.22  p = 0.196\n",
      "pcs_catastrophizing @center3      r = 0.02  p = 0.951\n",
      "pcs_catastrophizing @center1-2-3  r = -0.13  p = 0.244\n",
      "--------------------------------------------------\n",
      "pcs_rumination @center1      r = -0.06  p = 0.744\n",
      "pcs_rumination @center2      r = nan  p = 0.0\n",
      "pcs_rumination @center3      r = nan  p = 0.0\n",
      "pcs_rumination @center1-2-3  r = -0.06  p = 0.744\n",
      "--------------------------------------------------\n",
      "psq @center1      r = -0.0  p = 0.981\n",
      "psq @center2      r = -0.0  p = 0.983\n",
      "psq @center3      r = 0.02  p = 0.936\n",
      "psq @center1-2-3  r = -0.03  p = 0.776\n",
      "--------------------------------------------------\n",
      "BDI @center1      r = nan  p = 0.0\n",
      "BDI @center2      r = nan  p = 0.0\n",
      "BDI @center3      r = -0.06  p = 0.832\n",
      "BDI @center1-2-3  r = -0.06  p = 0.832\n",
      "--------------------------------------------------\n",
      "ads_k @center1      r = -0.04  p = 0.813\n",
      "ads_k @center2      r = 0.01  p = 0.933\n",
      "ads_k @center3      r = -0.11  p = 0.749\n",
      "ads_k @center1-2-3  r = -0.04  p = 0.731\n",
      "--------------------------------------------------\n",
      "PSQI @center1      r = nan  p = 0.0\n",
      "PSQI @center2      r = 0.09  p = 0.621\n",
      "PSQI @center3      r = 0.3  p = 0.267\n",
      "PSQI @center1-2-3  r = 0.01  p = 0.964\n",
      "--------------------------------------------------\n",
      "anx_state @center1      r = 0.18  p = 0.306\n",
      "anx_state @center2      r = 0.01  p = 0.95\n",
      "anx_state @center3      r = -0.02  p = 0.944\n",
      "anx_state @center1-2-3  r = -0.06  p = 0.565\n",
      "--------------------------------------------------\n",
      "anx_trait @center1      r = 0.19  p = 0.274\n",
      "anx_trait @center2      r = 0.04  p = 0.827\n",
      "anx_trait @center3      r = 0.05  p = 0.836\n",
      "anx_trait @center1-2-3  r = -0.04  p = 0.703\n",
      "--------------------------------------------------\n",
      "PSQ20 @center1      r = nan  p = 0.0\n",
      "PSQ20 @center2      r = -0.01  p = 0.956\n",
      "PSQ20 @center3      r = 0.02  p = 0.944\n",
      "PSQ20 @center1-2-3  r = -0.05  p = 0.737\n",
      "--------------------------------------------------\n",
      "CDT_log_mean @center1      r = 0.08  p = 0.659\n",
      "CDT_log_mean @center2      r = 0.0  p = 0.998\n",
      "CDT_log_mean @center3      r = -0.16  p = 0.462\n",
      "CDT_log_mean @center1-2-3  r = 0.16  p = 0.124\n",
      "--------------------------------------------------\n",
      "WDT_log_mean @center1      r = -0.17  p = 0.336\n",
      "WDT_log_mean @center2      r = 0.05  p = 0.773\n",
      "WDT_log_mean @center3      r = 0.2  p = 0.388\n",
      "WDT_log_mean @center1-2-3  r = 0.15  p = 0.16\n",
      "--------------------------------------------------\n",
      "MDT_log_geom @center1      r = nan  p = 0.0\n",
      "MDT_log_geom @center2      r = -0.06  p = 0.737\n",
      "MDT_log_geom @center3      r = 0.19  p = 0.44\n",
      "MDT_log_geom @center1-2-3  r = 0.07  p = 0.614\n",
      "--------------------------------------------------\n",
      "t50 @center1      r = -0.35  p = 0.041\n",
      "t50 @center2      r = nan  p = 0.0\n",
      "t50 @center3      r = nan  p = 0.0\n",
      "t50 @center1-2-3  r = -0.35  p = 0.041\n",
      "--------------------------------------------------\n",
      "GABA_mean @center1      r = 0.31  p = 0.072\n",
      "GABA_mean @center2      r = nan  p = 0.0\n",
      "GABA_mean @center3      r = nan  p = 0.0\n",
      "GABA_mean @center1-2-3  r = 0.31  p = 0.072\n",
      "--------------------------------------------------\n",
      "Glx_mean @center1      r = 0.35  p = 0.041\n",
      "Glx_mean @center2      r = nan  p = 0.0\n",
      "Glx_mean @center3      r = nan  p = 0.0\n",
      "Glx_mean @center1-2-3  r = 0.35  p = 0.041\n",
      "--------------------------------------------------\n"
     ]
    }
   ],
   "source": [
    "for varname in ['meanFD', 'maxFD', 'perc_scrubbed', 'BP_QST_sys', 'BP_QST_dias', 'BP_MRI_sys', 'BP_MRI_dias', 'MRI_QST_dif',\n",
    "               'Age', 'Male', 'BMI', 'day_menses', 'alk_per_w', 'edu', \n",
    "               'pcs_catastrophizing', 'pcs_rumination', 'psq', 'BDI', 'ads_k', 'PSQI', 'anx_state', 'anx_trait', 'PSQ20', #psq: pain sensitivity; PSQ20. precieved stress\n",
    "               'CDT_log_mean', 'WDT_log_mean','MDT_log_geom', 't50', 'GABA_mean', 'Glx_mean' ]:\n",
    "\n",
    "    isnan = np.isnan(df[varname])\n",
    "    confunder=df[varname][~isnan]\n",
    "    \n",
    "    p_corr_s1 = permutation_test(multicener_predictions[~isnan][df.study[~isnan]=='bochum'], confunder[df.study[~isnan]=='bochum'],\n",
    "                               func=lambda x, y: np.abs(np.corrcoef(x, y)[0,1]),\n",
    "                               method='approximate',\n",
    "                               num_rounds=8000,\n",
    "                               seed=42)\n",
    "\n",
    "    \n",
    "    corr_s1 = np.corrcoef(multicener_predictions[~isnan][df.study[~isnan]=='bochum'], confunder[df.study[~isnan]=='bochum'])[0,1]\n",
    "    print(varname, '@center1     ', 'r =', np.round(corr_s1, 2), ' p =', np.round(p_corr_s1, 3))\n",
    "\n",
    "    p_corr_s2 = permutation_test(multicener_predictions[~isnan][df.study[~isnan]=='essen'], confunder[df.study[~isnan]=='essen'],\n",
    "                                   func=lambda x, y: np.abs(np.corrcoef(x, y)[0,1]),\n",
    "                                   method='approximate',\n",
    "                                   num_rounds=8000,\n",
    "                                   seed=42)\n",
    "    corr_s2 = np.corrcoef(multicener_predictions[~isnan][df.study[~isnan]=='essen'], confunder[df.study[~isnan]=='essen'])[0,1]\n",
    "    print(varname, '@center2     ', 'r =', np.round(corr_s2, 2), ' p =', np.round(p_corr_s2, 3))\n",
    "\n",
    "    p_corr_s3 = permutation_test(multicener_predictions[~isnan][df.study[~isnan]=='szeged'], confunder[df.study[~isnan]=='szeged'],\n",
    "                                   func=lambda x, y: np.abs(np.corrcoef(x, y)[0,1]),\n",
    "                                   method='approximate',\n",
    "                                   num_rounds=8000,\n",
    "                                   seed=42)\n",
    "    corr_s3 = np.corrcoef(multicener_predictions[~isnan][df.study[~isnan]=='szeged'], confunder[df.study[~isnan]=='szeged'])[0,1]\n",
    "    print(varname, '@center3     ', 'r =', np.round(corr_s3, 2), ' p =', np.round(p_corr_s3, 3))\n",
    "\n",
    "    p_corr_s123 = permutation_test(multicener_predictions[~isnan], confunder,\n",
    "                                   func=lambda x, y: np.abs(np.corrcoef(x, y)[0,1]),\n",
    "                                   method='approximate',\n",
    "                                   num_rounds=8000,\n",
    "                                   seed=42)\n",
    "    corr_s123 = np.corrcoef(multicener_predictions[~isnan], confunder)[0,1]\n",
    "    print(varname, '@center1-2-3 ', 'r =', np.round(corr_s123, 2), ' p =', np.round(p_corr_s123, 3))\n",
    "    print('--------------------------------------------------')\n"
   ]
  },
  {
   "cell_type": "markdown",
   "metadata": {},
   "source": [
    "## Plot significant associations"
   ]
  },
  {
   "cell_type": "code",
   "execution_count": 8,
   "metadata": {
    "ExecuteTime": {
     "end_time": "2021-07-12T12:51:50.564696Z",
     "start_time": "2021-07-12T12:51:49.538736Z"
    }
   },
   "outputs": [
    {
     "name": "stderr",
     "output_type": "stream",
     "text": [
      "/home/tspisak/src/RPN-signature/venv/lib/python3.8/site-packages/seaborn/_decorators.py:36: FutureWarning: Pass the following variables as keyword args: x, y. From version 0.12, the only valid positional argument will be `data`, and passing other arguments without an explicit keyword will result in an error or misinterpretation.\n",
      "  warnings.warn(\n"
     ]
    },
    {
     "data": {
      "text/plain": "<AxesSubplot:xlabel='t50'>"
     },
     "execution_count": 8,
     "metadata": {},
     "output_type": "execute_result"
    },
    {
     "data": {
      "text/plain": "<Figure size 432x288 with 1 Axes>",
      "image/png": "[encoded data removed]"
     },
     "metadata": {},
     "output_type": "display_data"
    }
   ],
   "source": [
    "sns.regplot(df.t50, multicener_predictions)"
   ]
  },
  {
   "cell_type": "code",
   "execution_count": 9,
   "metadata": {
    "ExecuteTime": {
     "end_time": "2021-07-12T12:51:54.195652Z",
     "start_time": "2021-07-12T12:51:53.227866Z"
    }
   },
   "outputs": [
    {
     "name": "stderr",
     "output_type": "stream",
     "text": [
      "/home/tspisak/src/RPN-signature/venv/lib/python3.8/site-packages/seaborn/_decorators.py:36: FutureWarning: Pass the following variables as keyword args: x, y. From version 0.12, the only valid positional argument will be `data`, and passing other arguments without an explicit keyword will result in an error or misinterpretation.\n",
      "  warnings.warn(\n"
     ]
    },
    {
     "data": {
      "text/plain": "<AxesSubplot:xlabel='Glx_mean'>"
     },
     "execution_count": 9,
     "metadata": {},
     "output_type": "execute_result"
    },
    {
     "data": {
      "text/plain": "<Figure size 432x288 with 1 Axes>",
      "image/png": "[encoded data removed]"
     },
     "metadata": {},
     "output_type": "display_data"
    }
   ],
   "source": [
    "sns.regplot(df.Glx_mean, multicener_predictions)"
   ]
  },
  {
   "cell_type": "code",
   "execution_count": 21,
   "metadata": {},
   "outputs": [
    {
     "name": "stdout",
     "output_type": "stream",
     "text": [
      "meanFD @center1      r = 0.01  p = 0.655\n",
      "meanFD @center2      r = 0.0  p = 0.94\n",
      "meanFD @center3      r = 0.0  p = 0.781\n",
      "meanFD @center1-2-3  r = 0.0  p = 0.644\n",
      "--------------------------------------------------\n",
      "maxFD @center1      r = 0.0  p = 0.775\n",
      "maxFD @center2      r = 0.05  p = 0.386\n",
      "maxFD @center3      r = 0.01  p = 0.658\n",
      "maxFD @center1-2-3  r = 0.02  p = 0.249\n",
      "--------------------------------------------------\n",
      "perc_scrubbed @center1      r = 0.0  p = 0.829\n",
      "perc_scrubbed @center2      r = 0.01  p = 0.674\n",
      "perc_scrubbed @center3      r = 0.0  p = 0.761\n",
      "perc_scrubbed @center1-2-3  r = 0.0  p = 0.621\n",
      "--------------------------------------------------\n",
      "BP_QST_sys @center2      r = 0.02  p = 0.441\n",
      "BP_QST_sys @center3      r = 0.0  p = 0.875\n",
      "BP_QST_sys @center1-2-3  r = 0.01  p = 0.44\n",
      "--------------------------------------------------\n",
      "BP_QST_dias @center2      r = 0.06  p = 0.172\n",
      "BP_QST_dias @center3      r = 0.16  p = 0.401\n",
      "BP_QST_dias @center1-2-3  r = 0.08  p = 0.077\n",
      "--------------------------------------------------\n",
      "BP_MRI_sys @center2      r = 0.0  p = 0.971\n",
      "BP_MRI_sys @center3      r = 0.0  p = 0.871\n",
      "BP_MRI_sys @center1-2-3  r = 0.0  p = 0.767\n",
      "--------------------------------------------------\n",
      "BP_MRI_dias @center2      r = 0.09  p = 0.088\n",
      "BP_MRI_dias @center3      r = 0.02  p = 0.537\n",
      "BP_MRI_dias @center1-2-3  r = 0.05  p = 0.12\n",
      "--------------------------------------------------\n",
      "MRI_QST_dif @center2      r = 0.0  p = 0.979\n",
      "MRI_QST_dif @center3      r = 0.04  p = 0.459\n",
      "MRI_QST_dif @center1-2-3  r = 0.01  p = 0.347\n",
      "--------------------------------------------------\n",
      "Age @center1      r = 0.0  p = 0.869\n",
      "Age @center2      r = 0.02  p = 0.571\n",
      "Age @center3      r = 0.14  p = 0.12\n",
      "Age @center1-2-3  r = 0.0  p = 0.685\n",
      "--------------------------------------------------\n",
      "Male @center1      r = 0.0  p = 0.794\n",
      "Male @center2      r = 0.06  p = 0.263\n",
      "Male @center3      r = 0.06  p = 0.676\n",
      "Male @center1-2-3  r = 0.01  p = 0.342\n",
      "--------------------------------------------------\n",
      "BMI @center1      r = 0.02  p = 0.505\n",
      "BMI @center2      r = 0.0  p = 0.944\n",
      "BMI @center3      r = 0.03  p = 0.456\n",
      "BMI @center1-2-3  r = 0.0  p = 0.833\n",
      "--------------------------------------------------\n",
      "day_menses @center1      r = 0.11  p = 0.268\n",
      "day_menses @center2      r = 0.05  p = 0.41\n",
      "day_menses @center3      r = 0.02  p = 0.802\n",
      "day_menses @center1-2-3  r = 0.01  p = 0.68\n",
      "--------------------------------------------------\n",
      "alk_per_w @center1      r = 0.0  p = 0.759\n",
      "alk_per_w @center2      r = 0.02  p = 0.403\n",
      "alk_per_w @center1-2-3  r = 0.0  p = 0.994\n",
      "--------------------------------------------------\n",
      "edu @center1      r = 0.0  p = 0.8\n",
      "edu @center2      r = 0.0  p = 0.913\n",
      "edu @center1-2-3  r = 0.0  p = 0.925\n",
      "--------------------------------------------------\n",
      "pcs_catastrophizing @center1      r = 0.0  p = 0.948\n",
      "pcs_catastrophizing @center2      r = 0.05  p = 0.181\n",
      "pcs_catastrophizing @center3      r = 0.0  p = 0.946\n",
      "pcs_catastrophizing @center1-2-3  r = 0.02  p = 0.339\n",
      "--------------------------------------------------\n",
      "pcs_rumination @center1      r = 0.0  p = 0.819\n",
      "pcs_rumination @center1-2-3  r = 0.0  p = 0.819\n",
      "--------------------------------------------------\n",
      "psq @center1      r = 0.0  p = 0.983\n",
      "psq @center2      r = 0.0  p = 0.983\n",
      "psq @center3      r = 0.0  p = 0.925\n",
      "psq @center1-2-3  r = 0.0  p = 0.811\n",
      "--------------------------------------------------\n",
      "BDI @center3      r = 0.0  p = 0.88\n",
      "BDI @center1-2-3  r = 0.0  p = 0.88\n",
      "--------------------------------------------------\n",
      "ads_k @center1      r = 0.0  p = 0.834\n",
      "ads_k @center2      r = 0.0  p = 0.925\n",
      "ads_k @center3      r = 0.01  p = 0.647\n",
      "ads_k @center1-2-3  r = 0.0  p = 0.755\n",
      "--------------------------------------------------\n",
      "PSQI @center2      r = 0.01  p = 0.647\n",
      "PSQI @center3      r = 0.09  p = 0.267\n",
      "PSQI @center1-2-3  r = 0.0  p = 0.975\n",
      "--------------------------------------------------\n",
      "anx_state @center1      r = 0.03  p = 0.353\n",
      "anx_state @center2      r = 0.0  p = 0.955\n",
      "anx_state @center3      r = 0.0  p = 0.955\n",
      "anx_state @center1-2-3  r = 0.0  p = 0.568\n",
      "--------------------------------------------------\n",
      "anx_trait @center1      r = 0.04  p = 0.286\n",
      "anx_trait @center2      r = 0.0  p = 0.852\n",
      "anx_trait @center3      r = 0.0  p = 0.865\n",
      "anx_trait @center1-2-3  r = 0.0  p = 0.761\n",
      "--------------------------------------------------\n",
      "PSQ20 @center2      r = 0.0  p = 0.959\n",
      "PSQ20 @center3      r = 0.0  p = 0.962\n",
      "PSQ20 @center1-2-3  r = 0.0  p = 0.873\n",
      "--------------------------------------------------\n",
      "CDT_log_mean @center1      r = 0.01  p = 0.653\n",
      "CDT_log_mean @center2      r = 0.0  p = 0.999\n",
      "CDT_log_mean @center3      r = 0.03  p = 0.439\n",
      "CDT_log_mean @center1-2-3  r = 0.03  p = 0.131\n",
      "--------------------------------------------------\n",
      "WDT_log_mean @center1      r = 0.03  p = 0.347\n",
      "WDT_log_mean @center2      r = 0.0  p = 0.789\n",
      "WDT_log_mean @center3      r = 0.04  p = 0.436\n",
      "WDT_log_mean @center1-2-3  r = 0.02  p = 0.177\n",
      "--------------------------------------------------\n",
      "MDT_log_geom @center2      r = 0.0  p = 0.749\n",
      "MDT_log_geom @center3      r = 0.04  p = 0.479\n",
      "MDT_log_geom @center1-2-3  r = 0.0  p = 0.722\n",
      "--------------------------------------------------\n",
      "t50 @center1      r = 0.12  p = 0.486\n",
      "t50 @center1-2-3  r = 0.12  p = 0.486\n",
      "--------------------------------------------------\n",
      "GABA_mean @center1      r = 0.1  p = 0.134\n",
      "GABA_mean @center1-2-3  r = 0.1  p = 0.134\n",
      "--------------------------------------------------\n",
      "Glx_mean @center1      r = 0.12  p = 0.177\n",
      "Glx_mean @center1-2-3  r = 0.12  p = 0.177\n",
      "--------------------------------------------------\n"
     ]
    }
   ],
   "source": [
    "# mlconfound\n",
    "\n",
    "\n",
    "for varname in ['meanFD', 'maxFD', 'perc_scrubbed', 'BP_QST_sys', 'BP_QST_dias', 'BP_MRI_sys', 'BP_MRI_dias', 'MRI_QST_dif',\n",
    "               'Age', 'Male', 'BMI', 'day_menses', 'alk_per_w', 'edu',\n",
    "               'pcs_catastrophizing', 'pcs_rumination', 'psq', 'BDI', 'ads_k', 'PSQI', 'anx_state', 'anx_trait', 'PSQ20', #psq: pain sensitivity; PSQ20. precieved stress\n",
    "               'CDT_log_mean', 'WDT_log_mean','MDT_log_geom', 't50', 'GABA_mean', 'Glx_mean' ]:\n",
    "\n",
    "    isnan = np.isnan(df[varname])\n",
    "    confunder=df[varname][~isnan]\n",
    "\n",
    "    if len(df.mean_QST_pain_sensitivity[~isnan][df.study[~isnan]=='bochum'])>0 and confunder[df.study[~isnan]=='bochum'].std()>0:\n",
    "        res=partial_confound_test(\n",
    "            y=df.mean_QST_pain_sensitivity[~isnan][df.study[~isnan]=='bochum'],\n",
    "            yhat=multicener_predictions[~isnan][df.study[~isnan]=='bochum'],\n",
    "            c=confunder[df.study[~isnan]=='bochum'],\n",
    "            progress=False, random_state=42\n",
    "        )\n",
    "        p_corr_s1 = res.p\n",
    "        corr_s1 = res.r2_yhat_c\n",
    "        print(varname, '@center1     ', 'r =', np.round(corr_s1, 2), ' p =', np.round(p_corr_s1, 3))\n",
    "\n",
    "    if len(df.mean_QST_pain_sensitivity[~isnan][df.study[~isnan]=='essen'])>0:\n",
    "        res=partial_confound_test(\n",
    "            y=df.mean_QST_pain_sensitivity[~isnan][df.study[~isnan]=='essen'],\n",
    "            yhat=multicener_predictions[~isnan][df.study[~isnan]=='essen'],\n",
    "            c=confunder[df.study[~isnan]=='essen'],\n",
    "            progress=False, random_state=42\n",
    "        )\n",
    "        p_corr_s2 = res.p\n",
    "        corr_s2 = res.r2_yhat_c\n",
    "        print(varname, '@center2     ', 'r =', np.round(corr_s2, 2), ' p =', np.round(p_corr_s2, 3))\n",
    "\n",
    "    if len(df.mean_QST_pain_sensitivity[~isnan][df.study[~isnan]=='szeged'])>0:\n",
    "        res=partial_confound_test(\n",
    "            y=df.mean_QST_pain_sensitivity[~isnan][df.study[~isnan]=='szeged'],\n",
    "            yhat=multicener_predictions[~isnan][df.study[~isnan]=='szeged'],\n",
    "            c=confunder[df.study[~isnan]=='szeged'],\n",
    "            progress=False, random_state=42\n",
    "        )\n",
    "        p_corr_s3 = res.p\n",
    "        corr_s3 = res.r2_yhat_c\n",
    "        print(varname, '@center3     ', 'r =', np.round(corr_s3, 2), ' p =', np.round(p_corr_s3, 3))\n",
    "\n",
    "\n",
    "    if len(df.mean_QST_pain_sensitivity[~isnan])>0:\n",
    "        res=partial_confound_test(\n",
    "            y=df.mean_QST_pain_sensitivity[~isnan],\n",
    "            yhat=multicener_predictions[~isnan],\n",
    "            c=confunder,\n",
    "            progress=False, random_state=42\n",
    "        )\n",
    "        p_corr_s123 = res.p\n",
    "        corr_s123 = res.r2_yhat_c\n",
    "        print(varname, '@center1-2-3 ', 'r =', np.round(corr_s123, 2), ' p =', np.round(p_corr_s123, 3))\n",
    "    print('--------------------------------------------------')\n",
    "\n"
   ]
  },
  {
   "cell_type": "code",
   "execution_count": null,
   "outputs": [],
   "source": [
    "\n"
   ],
   "metadata": {
    "collapsed": false,
    "pycharm": {
     "name": "#%%\n"
    }
   }
  }
 ],
 "metadata": {
  "hide_input": false,
  "kernelspec": {
   "display_name": "Python 3",
   "language": "python",
   "name": "python3"
  },
  "language_info": {
   "codemirror_mode": {
    "name": "ipython",
    "version": 3
   },
   "file_extension": ".py",
   "mimetype": "text/x-python",
   "name": "python",
   "nbconvert_exporter": "python",
   "pygments_lexer": "ipython3",
   "version": "3.7.4"
  }
 },
 "nbformat": 4,
 "nbformat_minor": 2
}