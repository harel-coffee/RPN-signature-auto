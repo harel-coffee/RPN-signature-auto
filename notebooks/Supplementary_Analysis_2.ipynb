{
 "cells": [
  {
   "cell_type": "markdown",
   "metadata": {},
   "source": [
    "# Stability of the RPN-signature to the regions-of-interest"
   ]
  },
  {
   "cell_type": "code",
   "execution_count": 7,
   "metadata": {
    "ExecuteTime": {
     "end_time": "2019-10-04T10:15:01.838290Z",
     "start_time": "2019-10-04T12:15:01.615628+02:00"
    },
    "collapsed": false
   },
   "outputs": [],
   "source": [
    "# import neccessary modules and load all data\n",
    "import pandas as pd\n",
    "import numpy as np\n",
    "import numpy as np\n",
    "import matplotlib.pyplot as plt\n",
    "import networkx as nx\n",
    "import seaborn as sns; sns.set()\n",
    "sns.set(style=\"ticks\")\n",
    "import warnings\n",
    "warnings.filterwarnings('ignore')\n",
    "from mlxtend.evaluate import permutation_test\n",
    "from sklearn.decomposition import PCA\n",
    "from sklearn.preprocessing import RobustScaler\n",
    "from sklearn.externals import joblib\n",
    "from tqdm import tqdm\n",
    "import statsmodels.api as sm\n",
    "\n",
    "# Load all data:\n",
    "study1 = pd.read_csv(\"../res/bochum_sample_excl.csv\")[[\"HPT\", \"CPT\", \"MPT_log_geom\",\n",
    "                                                       \"mean_QST_pain_sensitivity\", \"prediction\"]]\n",
    "study2 = pd.read_csv(\"../res/essen_sample_excl.csv\")[[\"HPT\", \"CPT\", \"MPT_log_geom\",\n",
    "                                                      \"mean_QST_pain_sensitivity\", \"prediction\"]]\n",
    "study3 = pd.read_csv(\"../res/szeged_sample_excl.csv\")[[\"HPT\", \"CPT\", \"MPT_log_geom\",\n",
    "                                                       \"mean_QST_pain_sensitivity\", \"prediction\"]]\n",
    "# merge datasets\n",
    "study1[\"study\"]=\"Study 1\"\n",
    "study2[\"study\"]=\"Study 2\"\n",
    "study3[\"study\"]=\"Study 3\"\n",
    "df = pd.concat([study1, study2, study3])\n",
    "#df = df.dropna()\n",
    "\n",
    "# load the trained RPN-model\n",
    "rpn = joblib.load(\"../res/predictive_model.sav\")\n",
    "\n",
    "# load features for each study\n",
    "X_bochum = joblib.load(\"../res/feature_bochum.sav\")\n",
    "X_essen = joblib.load(\"../res/feature_essen.sav\")\n",
    "X_szeged = joblib.load(\"../res/feature_szeged.sav\")\n",
    "\n",
    "X=np.concatenate((X_bochum, X_essen, X_szeged))"
   ]
  },
  {
   "cell_type": "markdown",
   "metadata": {},
   "source": [
    "## Step 1. Stability to region drop-out\n",
    "\n",
    "On real data, such drop-out can be caused e.g. by signal drop-out due to susceptibility artifact (typically in medial frontal regions).\n",
    "We simulate drop out be zeroing out N regions randomly and plot the histogram of correlations of the RPN-scores computed with random drop-out (drop-out score) with the measured composite pain sensitivity."
   ]
  },
  {
   "cell_type": "code",
   "execution_count": 62,
   "metadata": {
    "ExecuteTime": {
     "end_time": "2019-10-04T11:27:13.839631Z",
     "start_time": "2019-10-04T13:27:13.827250+02:00"
    },
    "code_folding": [],
    "collapsed": false
   },
   "outputs": [],
   "source": [
    "def drop_out_region(num_drop_out=0):\n",
    "    #load atlas labels\n",
    "    labels = pd.read_csv(\"../data/atlas_relabeled.tsv\", sep=\"\\t\")[[\"index\", \"labels\", \"modules\"]]\n",
    "    labels.loc[-1] = [0, \"aMEAN_GM\", \"aMEAN_GM\"]  # adding a row\n",
    "    labels.index = labels.index + 1  # shifting index\n",
    "    labels = labels.sort_index()  # sorting by index\n",
    "\n",
    "    # get coefficients of the RPN\n",
    "    RES = np.zeros(len(labels)*(len(labels)-1)/2)\n",
    "    featuremask = rpn.named_steps['fsel'].get_support()\n",
    "    RES[featuremask] = rpn.named_steps['model'].coef_\n",
    "    \n",
    "    # zero-out some regions by randomly selecting from those having a nonzero coef\n",
    "    indices=np.random.choice(np.nonzero(RES)[0], num_drop_out, replace=False)\n",
    "    X_drop=X.copy()\n",
    "    X_drop[:, indices]=0\n",
    "    \n",
    "    predicted = rpn.predict(X_drop)\n",
    "    return(predicted)"
   ]
  },
  {
   "cell_type": "code",
   "execution_count": 83,
   "metadata": {
    "ExecuteTime": {
     "end_time": "2019-10-04T11:52:19.128330Z",
     "start_time": "2019-10-04T13:51:14.171352+02:00"
    },
    "code_folding": [],
    "collapsed": false
   },
   "outputs": [
    {
     "name": "stderr",
     "output_type": "stream",
     "text": [
      "\n",
      "\n",
      "  0%|          | 0/22 [00:00<?, ?it/s]\u001b[A\u001b[A\n",
      "\n",
      "  5%|▍         | 1/22 [00:02<01:01,  2.91s/it]\u001b[A\u001b[A\n",
      "\n",
      "  9%|▉         | 2/22 [00:05<00:58,  2.91s/it]\u001b[A\u001b[A\n",
      "\n",
      " 14%|█▎        | 3/22 [00:08<00:55,  2.93s/it]\u001b[A\u001b[A\n",
      "\n",
      " 18%|█▊        | 4/22 [00:11<00:53,  2.95s/it]\u001b[A\u001b[A\n",
      "\n",
      " 23%|██▎       | 5/22 [00:14<00:50,  2.95s/it]\u001b[A\u001b[A\n",
      "\n",
      " 27%|██▋       | 6/22 [00:17<00:47,  2.95s/it]\u001b[A\u001b[A\n",
      "\n",
      " 32%|███▏      | 7/22 [00:20<00:44,  2.96s/it]\u001b[A\u001b[A\n",
      "\n",
      " 36%|███▋      | 8/22 [00:23<00:41,  2.96s/it]\u001b[A\u001b[A\n",
      "\n",
      " 41%|████      | 9/22 [00:26<00:38,  2.96s/it]\u001b[A\u001b[A\n",
      "\n",
      " 45%|████▌     | 10/22 [00:29<00:35,  2.96s/it]\u001b[A\u001b[A\n",
      "\n",
      " 50%|█████     | 11/22 [00:32<00:32,  2.95s/it]\u001b[A\u001b[A\n",
      "\n",
      " 55%|█████▍    | 12/22 [00:35<00:29,  2.95s/it]\u001b[A\u001b[A\n",
      "\n",
      " 59%|█████▉    | 13/22 [00:38<00:26,  2.95s/it]\u001b[A\u001b[A\n",
      "\n",
      " 64%|██████▎   | 14/22 [00:41<00:23,  2.95s/it]\u001b[A\u001b[A\n",
      "\n",
      " 68%|██████▊   | 15/22 [00:44<00:20,  2.95s/it]\u001b[A\u001b[A\n",
      "\n",
      " 73%|███████▎  | 16/22 [00:47<00:17,  2.95s/it]\u001b[A\u001b[A\n",
      "\n",
      " 77%|███████▋  | 17/22 [00:50<00:14,  2.95s/it]\u001b[A\u001b[A\n",
      "\n",
      " 82%|████████▏ | 18/22 [00:53<00:11,  2.95s/it]\u001b[A\u001b[A\n",
      "\n",
      " 86%|████████▋ | 19/22 [00:55<00:08,  2.95s/it]\u001b[A\u001b[A\n",
      "\n",
      " 91%|█████████ | 20/22 [00:58<00:05,  2.94s/it]\u001b[A\u001b[A\n",
      "\n",
      " 95%|█████████▌| 21/22 [01:01<00:02,  2.95s/it]\u001b[A\u001b[A\n",
      "\n",
      "100%|██████████| 22/22 [01:04<00:00,  2.95s/it]\u001b[A\u001b[A\n",
      "\n",
      "\u001b[A\u001b[A"
     ]
    }
   ],
   "source": [
    "numiter=50\n",
    "max_drop_N=22\n",
    "num_dropped=np.zeros(max_drop_N*numiter)\n",
    "correlation=np.zeros(max_drop_N*numiter)\n",
    "\n",
    "np.random.seed(0)\n",
    "idx=0\n",
    "for dropN in tqdm(range(max_drop_N)):\n",
    "    for iter in range(numiter):\n",
    "        \n",
    "        correlation[idx] = np.corrcoef(df['mean_QST_pain_sensitivity'], drop_out_region(dropN))[0,1]\n",
    "        num_dropped[idx]=dropN\n",
    "        idx=idx+1\n",
    "\n",
    "data=pd.DataFrame({\n",
    "    'num_dropped' : num_dropped,\n",
    "    'correlation' : correlation\n",
    "})\n",
    "\n"
   ]
  },
  {
   "cell_type": "code",
   "execution_count": 84,
   "metadata": {
    "ExecuteTime": {
     "end_time": "2019-10-04T11:53:48.741914Z",
     "start_time": "2019-10-04T13:53:48.142930+02:00"
    },
    "collapsed": false
   },
   "outputs": [
    {
     "data": {
      "image/png": "[encoded data removed]",
      "text/plain": [
       "<Figure size 432x288 with 1 Axes>"
      ]
     },
     "metadata": {},
     "output_type": "display_data"
    }
   ],
   "source": [
    "# plot drop-out effect\n",
    "ax=sns.lineplot(x=\"num_dropped\", y=\"correlation\", ci=95, data=data)\n",
    "ax.axhline(0.2061, ls='--')\n",
    "plt.show()"
   ]
  },
  {
   "cell_type": "markdown",
   "metadata": {},
   "source": [
    "### *Figure SE2.1. The tolerance of the RPN-signature to region drop-out.*\n",
    "*The mean (and 95% confidence intervals) correlation between predicted and observed pain sensitivity is plotted as a function of the number of regions dropped out randomly by setting their timecourse to constant zero. Dashed line denotes R=0.206, i.e. the correlation value belonging to the p=0.05 significance threshold. The analysis revealed a considerable robustness to drop-out; the average prediction accuracy remained significant by the random drop-out of up to 19 regions out of 21, although – as expected - prediction accuracy constantly decreased with an increasing number of dropped regions.*\n"
   ]
  },
  {
   "cell_type": "markdown",
   "metadata": {
    "ExecuteTime": {
     "end_time": "2019-10-04T08:45:17.943142Z",
     "start_time": "2019-10-04T08:45:17.940758Z"
    }
   },
   "source": [
    "## Step 2. Stability to the definition region-boundaries (mixed signal)"
   ]
  },
  {
   "cell_type": "code",
   "execution_count": 72,
   "metadata": {
    "ExecuteTime": {
     "end_time": "2019-10-04T11:38:17.783262Z",
     "start_time": "2019-10-04T13:38:17.778467+02:00"
    },
    "collapsed": false
   },
   "outputs": [],
   "source": [
    "def mix_region(mixing_weight=0):\n",
    "    X_noisy=X.copy()\n",
    "    X_noisy = X_noisy + mixing_weight * np.random.normal(np.random.normal(0, 1, X_noisy.shape))\n",
    "    predicted = rpn.predict(X_noisy)\n",
    "    return(predicted)"
   ]
  },
  {
   "cell_type": "code",
   "execution_count": 85,
   "metadata": {
    "ExecuteTime": {
     "end_time": "2019-10-07T09:39:18.725504Z",
     "start_time": "2019-10-07T11:38:48.008875+02:00"
    },
    "collapsed": false
   },
   "outputs": [
    {
     "name": "stderr",
     "output_type": "stream",
     "text": [
      "\n",
      "\n",
      "  0%|          | 0/10 [00:00<?, ?it/s]\u001b[A\u001b[A\n",
      "\n",
      " 10%|█         | 1/10 [00:03<00:31,  3.56s/it]\u001b[A\u001b[A\n",
      "\n",
      " 20%|██        | 2/10 [00:06<00:25,  3.20s/it]\u001b[A\u001b[A\n",
      "\n",
      " 30%|███       | 3/10 [00:09<00:21,  3.09s/it]\u001b[A\u001b[A\n",
      "\n",
      " 40%|████      | 4/10 [00:12<00:18,  3.07s/it]\u001b[A\u001b[A\n",
      "\n",
      " 50%|█████     | 5/10 [00:15<00:15,  3.08s/it]\u001b[A\u001b[A\n",
      "\n",
      " 60%|██████    | 6/10 [00:18<00:12,  3.06s/it]\u001b[A\u001b[A\n",
      "\n",
      " 70%|███████   | 7/10 [00:21<00:09,  3.04s/it]\u001b[A\u001b[A\n",
      "\n",
      " 80%|████████  | 8/10 [00:24<00:06,  3.04s/it]\u001b[A\u001b[A\n",
      "\n",
      " 90%|█████████ | 9/10 [00:27<00:03,  3.03s/it]\u001b[A\u001b[A\n",
      "\n",
      "100%|██████████| 10/10 [00:30<00:00,  3.05s/it]\u001b[A\u001b[A\n",
      "\n",
      "\u001b[A\u001b[A"
     ]
    }
   ],
   "source": [
    "numiter=50\n",
    "weights=np.linspace(start=0, stop=0.15, num=10)\n",
    "noise_weight=np.zeros(len(weights)*numiter)\n",
    "correlation=np.zeros(len(weights)*numiter)\n",
    "\n",
    "np.random.seed(0)\n",
    "idx=0\n",
    "for w in tqdm(weights):\n",
    "    for iter in range(numiter):  \n",
    "        correlation[idx] = np.corrcoef(df['mean_QST_pain_sensitivity'], mix_region(w))[0,1]\n",
    "        noise_weight[idx] = w\n",
    "        idx=idx+1\n",
    "\n",
    "data=pd.DataFrame({\n",
    "    'noise_weight' : noise_weight,\n",
    "    'correlation' : correlation\n",
    "})"
   ]
  },
  {
   "cell_type": "code",
   "execution_count": 86,
   "metadata": {
    "ExecuteTime": {
     "end_time": "2019-10-07T09:39:24.821822Z",
     "start_time": "2019-10-07T11:39:23.952741+02:00"
    },
    "collapsed": false
   },
   "outputs": [
    {
     "data": {
      "image/png": "[encoded data removed]",
      "text/plain": [
       "<Figure size 432x288 with 1 Axes>"
      ]
     },
     "metadata": {},
     "output_type": "display_data"
    }
   ],
   "source": [
    "# plot drop-out effect\n",
    "ax=sns.lineplot(x=\"noise_weight\", y=\"correlation\", ci=95, data=data)\n",
    "ax.axhline(0.2061, ls='--')\n",
    "\n",
    "plt.show()"
   ]
  },
  {
   "cell_type": "markdown",
   "metadata": {},
   "source": [
    "### *Figure SE2.2. The tolerance of the RPN-signature to noise added to the regional timecourses.*\n",
    "*The mean correlation (and 95% confidence intervals) between predicted and observed pain sensitivity is plotted as a function of the amount of noise added to all timecourses, simultaneously. Dashed line denotes R=0.206, i.e. the correlation value belonging to the p=0.05 significance threshold. *"
   ]
  },
  {
   "cell_type": "code",
   "execution_count": null,
   "metadata": {
    "collapsed": true
   },
   "outputs": [],
   "source": []
  }
 ],
 "metadata": {
  "hide_input": false,
  "kernelspec": {
   "display_name": "Python 2",
   "language": "python",
   "name": "python2"
  },
  "language_info": {
   "codemirror_mode": {
    "name": "ipython",
    "version": 2
   },
   "file_extension": ".py",
   "mimetype": "text/x-python",
   "name": "python",
   "nbconvert_exporter": "python",
   "pygments_lexer": "ipython2",
   "version": "2.7.13"
  },
  "toc": {
   "base_numbering": 1,
   "nav_menu": {},
   "number_sections": false,
   "sideBar": true,
   "skip_h1_title": false,
   "title_cell": "Table of Contents",
   "title_sidebar": "Contents",
   "toc_cell": false,
   "toc_position": {},
   "toc_section_display": true,
   "toc_window_display": true
  },
  "varInspector": {
   "cols": {
    "lenName": 16,
    "lenType": 16,
    "lenVar": 40
   },
   "kernels_config": {
    "python": {
     "delete_cmd_postfix": "",
     "delete_cmd_prefix": "del ",
     "library": "var_list.py",
     "varRefreshCmd": "print(var_dic_list())"
    },
    "r": {
     "delete_cmd_postfix": ") ",
     "delete_cmd_prefix": "rm(",
     "library": "var_list.r",
     "varRefreshCmd": "cat(var_dic_list()) "
    }
   },
   "position": {
    "height": "311px",
    "left": "1508px",
    "right": "20px",
    "top": "120px",
    "width": "342px"
   },
   "types_to_exclude": [
    "module",
    "function",
    "builtin_function_or_method",
    "instance",
    "_Feature"
   ],
   "window_display": true
  }
 },
 "nbformat": 4,
 "nbformat_minor": 2
}
