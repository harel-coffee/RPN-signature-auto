{
 "cells": [
  {
   "cell_type": "markdown",
   "metadata": {},
   "source": [
    "# Training the RPN signature on multi-center data\n",
    "\n",
    "- This jupyter notebook is available on-line at:\n",
    "  - https://github.com/spisakt/RPN-signature/blob/master/notebooks/1_multi-center_training.ipynb\n",
    "\n",
    "- Input data for the notebook and non-standard code (PAINTeR library) is available in the repo:\n",
    "  - https://github.com/spisakt/RPN-signature\n",
    "\n",
    "- Raw MRI-data from study-centers 1 and 2 are available on OpenNeuro:\n",
    "  - https://openneuro.org/datasets/ds002608/versions/1.0.1\n",
    "  - https://openneuro.org/datasets/ds002609/versions/1.0.3\n",
    "\n",
    "- Raw data from center 3 is available upon reasonable request."
   ]
  },
  {
   "cell_type": "markdown",
   "metadata": {},
   "source": [
    "### Imports"
   ]
  },
  {
   "cell_type": "code",
   "execution_count": 1,
   "metadata": {
    "ExecuteTime": {
     "end_time": "2021-07-09T19:45:12.328265Z",
     "start_time": "2021-07-09T19:45:09.442049Z"
    }
   },
   "outputs": [
    {
     "name": "stderr",
     "output_type": "stream",
     "text": [
      "/opt/anaconda3/lib/python3.7/site-packages/statsmodels/tools/_testing.py:19: FutureWarning: pandas.util.testing is deprecated. Use the functions in the public API at pandas.testing instead.\n",
      "  import pandas.util.testing as tm\n"
     ]
    }
   ],
   "source": [
    "import sys\n",
    "sys.path.append('../')\n",
    "from PAINTeR import connectivity # in-house lib used for the RPN-signature\n",
    "from PAINTeR import plot # in-house lib used for the RPN-signature\n",
    "from PAINTeR import model # in-house lib used for the RPN-signature\n",
    "import numpy as np # hi old friend\n",
    "import pandas as pd\n",
    "\n",
    "from sklearn.preprocessing import StandardScaler\n",
    "from nilearn.connectome import ConnectivityMeasure\n",
    "\n",
    "from matplotlib.colors import ListedColormap\n",
    "from matplotlib.colors import Normalize\n",
    "import matplotlib.pyplot as plt\n",
    "import seaborn as sns\n",
    "sns.set_style(\"white\")\n",
    "\n",
    "from sklearn.linear_model import ElasticNet, Ridge\n",
    "from sklearn.feature_selection import SelectKBest, f_regression\n",
    "from sklearn import preprocessing\n",
    "from sklearn.pipeline import Pipeline\n",
    "from sklearn.model_selection import LeaveOneOut, KFold, GroupKFold, LeavePGroupsOut\n",
    "from sklearn.metrics import mean_squared_error, mean_absolute_error, median_absolute_error, r2_score, explained_variance_score\n",
    "from sklearn.model_selection import GridSearchCV\n",
    "from sklearn.model_selection import cross_val_predict\n",
    "from sklearn.model_selection import cross_validate\n",
    "\n",
    "from neurocombat_sklearn import CombatModel\n",
    "\n",
    "import scipy.stats as stats\n",
    "import joblib"
   ]
  },
  {
   "cell_type": "markdown",
   "metadata": {},
   "source": [
    "## Load and merge behavioral data for all three centers (after exclusions)"
   ]
  },
  {
   "cell_type": "code",
   "execution_count": 2,
   "metadata": {
    "ExecuteTime": {
     "end_time": "2021-07-09T19:45:15.323944Z",
     "start_time": "2021-07-09T19:45:15.217714Z"
    }
   },
   "outputs": [
    {
     "data": {
      "text/html": [
       "<div>\n",
       "<style scoped>\n",
       "    .dataframe tbody tr th:only-of-type {\n",
       "        vertical-align: middle;\n",
       "    }\n",
       "\n",
       "    .dataframe tbody tr th {\n",
       "        vertical-align: top;\n",
       "    }\n",
       "\n",
       "    .dataframe thead th {\n",
       "        text-align: right;\n",
       "    }\n",
       "</style>\n",
       "<table border=\"1\" class=\"dataframe\">\n",
       "  <thead>\n",
       "    <tr style=\"text-align: right;\">\n",
       "      <th></th>\n",
       "      <th>index</th>\n",
       "      <th>Unnamed: 0</th>\n",
       "      <th>ID</th>\n",
       "      <th>Excluded</th>\n",
       "      <th>exclusion_crit</th>\n",
       "      <th>Male</th>\n",
       "      <th>day_menses</th>\n",
       "      <th>Age</th>\n",
       "      <th>height</th>\n",
       "      <th>weight</th>\n",
       "      <th>...</th>\n",
       "      <th>weight..kg.</th>\n",
       "      <th>psq_moderate</th>\n",
       "      <th>psq_minor</th>\n",
       "      <th>PSQ20</th>\n",
       "      <th>PSQI</th>\n",
       "      <th>MDT_log_geom</th>\n",
       "      <th>Pulse_MRI</th>\n",
       "      <th>Pulse_QST</th>\n",
       "      <th>BDI</th>\n",
       "      <th>PSQ20_essen</th>\n",
       "    </tr>\n",
       "  </thead>\n",
       "  <tbody>\n",
       "    <tr>\n",
       "      <th>0</th>\n",
       "      <td>0</td>\n",
       "      <td>0</td>\n",
       "      <td>4</td>\n",
       "      <td>0.0</td>\n",
       "      <td>NaN</td>\n",
       "      <td>1.0</td>\n",
       "      <td>NaN</td>\n",
       "      <td>25.552361</td>\n",
       "      <td>175.0</td>\n",
       "      <td>71.0</td>\n",
       "      <td>...</td>\n",
       "      <td>NaN</td>\n",
       "      <td>NaN</td>\n",
       "      <td>NaN</td>\n",
       "      <td>NaN</td>\n",
       "      <td>NaN</td>\n",
       "      <td>NaN</td>\n",
       "      <td>NaN</td>\n",
       "      <td>NaN</td>\n",
       "      <td>NaN</td>\n",
       "      <td>NaN</td>\n",
       "    </tr>\n",
       "    <tr>\n",
       "      <th>1</th>\n",
       "      <td>1</td>\n",
       "      <td>1</td>\n",
       "      <td>6</td>\n",
       "      <td>0.0</td>\n",
       "      <td>NaN</td>\n",
       "      <td>1.0</td>\n",
       "      <td>NaN</td>\n",
       "      <td>33.453799</td>\n",
       "      <td>183.0</td>\n",
       "      <td>80.0</td>\n",
       "      <td>...</td>\n",
       "      <td>NaN</td>\n",
       "      <td>NaN</td>\n",
       "      <td>NaN</td>\n",
       "      <td>NaN</td>\n",
       "      <td>NaN</td>\n",
       "      <td>NaN</td>\n",
       "      <td>NaN</td>\n",
       "      <td>NaN</td>\n",
       "      <td>NaN</td>\n",
       "      <td>NaN</td>\n",
       "    </tr>\n",
       "    <tr>\n",
       "      <th>2</th>\n",
       "      <td>2</td>\n",
       "      <td>2</td>\n",
       "      <td>7</td>\n",
       "      <td>0.0</td>\n",
       "      <td>NaN</td>\n",
       "      <td>1.0</td>\n",
       "      <td>NaN</td>\n",
       "      <td>26.119097</td>\n",
       "      <td>186.0</td>\n",
       "      <td>92.0</td>\n",
       "      <td>...</td>\n",
       "      <td>NaN</td>\n",
       "      <td>NaN</td>\n",
       "      <td>NaN</td>\n",
       "      <td>NaN</td>\n",
       "      <td>NaN</td>\n",
       "      <td>NaN</td>\n",
       "      <td>NaN</td>\n",
       "      <td>NaN</td>\n",
       "      <td>NaN</td>\n",
       "      <td>NaN</td>\n",
       "    </tr>\n",
       "    <tr>\n",
       "      <th>3</th>\n",
       "      <td>3</td>\n",
       "      <td>3</td>\n",
       "      <td>8</td>\n",
       "      <td>0.0</td>\n",
       "      <td>NaN</td>\n",
       "      <td>1.0</td>\n",
       "      <td>NaN</td>\n",
       "      <td>25.445585</td>\n",
       "      <td>180.0</td>\n",
       "      <td>72.0</td>\n",
       "      <td>...</td>\n",
       "      <td>NaN</td>\n",
       "      <td>NaN</td>\n",
       "      <td>NaN</td>\n",
       "      <td>NaN</td>\n",
       "      <td>NaN</td>\n",
       "      <td>NaN</td>\n",
       "      <td>NaN</td>\n",
       "      <td>NaN</td>\n",
       "      <td>NaN</td>\n",
       "      <td>NaN</td>\n",
       "    </tr>\n",
       "    <tr>\n",
       "      <th>4</th>\n",
       "      <td>4</td>\n",
       "      <td>4</td>\n",
       "      <td>9</td>\n",
       "      <td>0.0</td>\n",
       "      <td>NaN</td>\n",
       "      <td>0.0</td>\n",
       "      <td>6.0</td>\n",
       "      <td>22.573580</td>\n",
       "      <td>176.0</td>\n",
       "      <td>70.0</td>\n",
       "      <td>...</td>\n",
       "      <td>NaN</td>\n",
       "      <td>NaN</td>\n",
       "      <td>NaN</td>\n",
       "      <td>NaN</td>\n",
       "      <td>NaN</td>\n",
       "      <td>NaN</td>\n",
       "      <td>NaN</td>\n",
       "      <td>NaN</td>\n",
       "      <td>NaN</td>\n",
       "      <td>NaN</td>\n",
       "    </tr>\n",
       "    <tr>\n",
       "      <th>...</th>\n",
       "      <td>...</td>\n",
       "      <td>...</td>\n",
       "      <td>...</td>\n",
       "      <td>...</td>\n",
       "      <td>...</td>\n",
       "      <td>...</td>\n",
       "      <td>...</td>\n",
       "      <td>...</td>\n",
       "      <td>...</td>\n",
       "      <td>...</td>\n",
       "      <td>...</td>\n",
       "      <td>...</td>\n",
       "      <td>...</td>\n",
       "      <td>...</td>\n",
       "      <td>...</td>\n",
       "      <td>...</td>\n",
       "      <td>...</td>\n",
       "      <td>...</td>\n",
       "      <td>...</td>\n",
       "      <td>...</td>\n",
       "      <td>...</td>\n",
       "    </tr>\n",
       "    <tr>\n",
       "      <th>86</th>\n",
       "      <td>14</td>\n",
       "      <td>14</td>\n",
       "      <td>22</td>\n",
       "      <td>0.0</td>\n",
       "      <td>NaN</td>\n",
       "      <td>1.0</td>\n",
       "      <td>NaN</td>\n",
       "      <td>24.000000</td>\n",
       "      <td>185.0</td>\n",
       "      <td>82.0</td>\n",
       "      <td>...</td>\n",
       "      <td>NaN</td>\n",
       "      <td>27.0</td>\n",
       "      <td>11.0</td>\n",
       "      <td>6.0</td>\n",
       "      <td>1.0</td>\n",
       "      <td>-1.259900</td>\n",
       "      <td>73.0</td>\n",
       "      <td>76.0</td>\n",
       "      <td>5.0</td>\n",
       "      <td>24.0</td>\n",
       "    </tr>\n",
       "    <tr>\n",
       "      <th>87</th>\n",
       "      <td>15</td>\n",
       "      <td>15</td>\n",
       "      <td>24</td>\n",
       "      <td>0.0</td>\n",
       "      <td>NaN</td>\n",
       "      <td>1.0</td>\n",
       "      <td>NaN</td>\n",
       "      <td>22.000000</td>\n",
       "      <td>183.0</td>\n",
       "      <td>83.0</td>\n",
       "      <td>...</td>\n",
       "      <td>NaN</td>\n",
       "      <td>28.0</td>\n",
       "      <td>16.0</td>\n",
       "      <td>9.0</td>\n",
       "      <td>1.0</td>\n",
       "      <td>-1.913513</td>\n",
       "      <td>85.0</td>\n",
       "      <td>86.0</td>\n",
       "      <td>0.0</td>\n",
       "      <td>25.0</td>\n",
       "    </tr>\n",
       "    <tr>\n",
       "      <th>88</th>\n",
       "      <td>16</td>\n",
       "      <td>16</td>\n",
       "      <td>25</td>\n",
       "      <td>0.0</td>\n",
       "      <td>NaN</td>\n",
       "      <td>1.0</td>\n",
       "      <td>NaN</td>\n",
       "      <td>22.000000</td>\n",
       "      <td>195.0</td>\n",
       "      <td>77.0</td>\n",
       "      <td>...</td>\n",
       "      <td>NaN</td>\n",
       "      <td>20.0</td>\n",
       "      <td>9.0</td>\n",
       "      <td>11.0</td>\n",
       "      <td>NaN</td>\n",
       "      <td>-1.581106</td>\n",
       "      <td>88.0</td>\n",
       "      <td>91.0</td>\n",
       "      <td>1.0</td>\n",
       "      <td>25.0</td>\n",
       "    </tr>\n",
       "    <tr>\n",
       "      <th>89</th>\n",
       "      <td>17</td>\n",
       "      <td>17</td>\n",
       "      <td>28</td>\n",
       "      <td>0.0</td>\n",
       "      <td>NaN</td>\n",
       "      <td>0.0</td>\n",
       "      <td>5.0</td>\n",
       "      <td>23.000000</td>\n",
       "      <td>162.0</td>\n",
       "      <td>59.0</td>\n",
       "      <td>...</td>\n",
       "      <td>NaN</td>\n",
       "      <td>34.0</td>\n",
       "      <td>18.0</td>\n",
       "      <td>43.0</td>\n",
       "      <td>2.0</td>\n",
       "      <td>-1.145363</td>\n",
       "      <td>78.0</td>\n",
       "      <td>89.0</td>\n",
       "      <td>7.0</td>\n",
       "      <td>37.0</td>\n",
       "    </tr>\n",
       "    <tr>\n",
       "      <th>90</th>\n",
       "      <td>18</td>\n",
       "      <td>18</td>\n",
       "      <td>29</td>\n",
       "      <td>0.5</td>\n",
       "      <td>nan+MPT_low</td>\n",
       "      <td>1.0</td>\n",
       "      <td>NaN</td>\n",
       "      <td>30.000000</td>\n",
       "      <td>178.0</td>\n",
       "      <td>85.0</td>\n",
       "      <td>...</td>\n",
       "      <td>NaN</td>\n",
       "      <td>31.0</td>\n",
       "      <td>8.0</td>\n",
       "      <td>11.0</td>\n",
       "      <td>1.0</td>\n",
       "      <td>-2.374623</td>\n",
       "      <td>77.0</td>\n",
       "      <td>NaN</td>\n",
       "      <td>0.0</td>\n",
       "      <td>27.0</td>\n",
       "    </tr>\n",
       "  </tbody>\n",
       "</table>\n",
       "<p>91 rows × 134 columns</p>\n",
       "</div>"
      ],
      "text/plain": [
       "    index  Unnamed: 0  ID  Excluded exclusion_crit  Male  day_menses  \\\n",
       "0       0           0   4       0.0            NaN   1.0         NaN   \n",
       "1       1           1   6       0.0            NaN   1.0         NaN   \n",
       "2       2           2   7       0.0            NaN   1.0         NaN   \n",
       "3       3           3   8       0.0            NaN   1.0         NaN   \n",
       "4       4           4   9       0.0            NaN   0.0         6.0   \n",
       "..    ...         ...  ..       ...            ...   ...         ...   \n",
       "86     14          14  22       0.0            NaN   1.0         NaN   \n",
       "87     15          15  24       0.0            NaN   1.0         NaN   \n",
       "88     16          16  25       0.0            NaN   1.0         NaN   \n",
       "89     17          17  28       0.0            NaN   0.0         5.0   \n",
       "90     18          18  29       0.5    nan+MPT_low   1.0         NaN   \n",
       "\n",
       "          Age  height  weight  ...  weight..kg.  psq_moderate  psq_minor  \\\n",
       "0   25.552361   175.0    71.0  ...          NaN           NaN        NaN   \n",
       "1   33.453799   183.0    80.0  ...          NaN           NaN        NaN   \n",
       "2   26.119097   186.0    92.0  ...          NaN           NaN        NaN   \n",
       "3   25.445585   180.0    72.0  ...          NaN           NaN        NaN   \n",
       "4   22.573580   176.0    70.0  ...          NaN           NaN        NaN   \n",
       "..        ...     ...     ...  ...          ...           ...        ...   \n",
       "86  24.000000   185.0    82.0  ...          NaN          27.0       11.0   \n",
       "87  22.000000   183.0    83.0  ...          NaN          28.0       16.0   \n",
       "88  22.000000   195.0    77.0  ...          NaN          20.0        9.0   \n",
       "89  23.000000   162.0    59.0  ...          NaN          34.0       18.0   \n",
       "90  30.000000   178.0    85.0  ...          NaN          31.0        8.0   \n",
       "\n",
       "    PSQ20  PSQI  MDT_log_geom  Pulse_MRI  Pulse_QST  BDI  PSQ20_essen  \n",
       "0     NaN   NaN           NaN        NaN        NaN  NaN          NaN  \n",
       "1     NaN   NaN           NaN        NaN        NaN  NaN          NaN  \n",
       "2     NaN   NaN           NaN        NaN        NaN  NaN          NaN  \n",
       "3     NaN   NaN           NaN        NaN        NaN  NaN          NaN  \n",
       "4     NaN   NaN           NaN        NaN        NaN  NaN          NaN  \n",
       "..    ...   ...           ...        ...        ...  ...          ...  \n",
       "86    6.0   1.0     -1.259900       73.0       76.0  5.0         24.0  \n",
       "87    9.0   1.0     -1.913513       85.0       86.0  0.0         25.0  \n",
       "88   11.0   NaN     -1.581106       88.0       91.0  1.0         25.0  \n",
       "89   43.0   2.0     -1.145363       78.0       89.0  7.0         37.0  \n",
       "90   11.0   1.0     -2.374623       77.0        NaN  0.0         27.0  \n",
       "\n",
       "[91 rows x 134 columns]"
      ]
     },
     "execution_count": 2,
     "metadata": {},
     "output_type": "execute_result"
    }
   ],
   "source": [
    "df_bochum = pd.read_csv(\"../res/bochum_sample_excl.csv\")\n",
    "df_essen = pd.read_csv(\"../res/essen_sample_excl.csv\")\n",
    "df_szeged = pd.read_csv(\"../res/szeged_sample_excl.csv\")\n",
    "df_bochum['study']='bochum'\n",
    "df_essen['study']='essen'\n",
    "df_szeged['study']='szeged'\n",
    "df=pd.concat((df_bochum, df_essen, df_szeged), sort=False)\n",
    "df=df.reset_index()\n",
    "df"
   ]
  },
  {
   "cell_type": "markdown",
   "metadata": {},
   "source": [
    "## Load preprocessed and scrubbed timeseries data"
   ]
  },
  {
   "cell_type": "code",
   "execution_count": 3,
   "metadata": {
    "ExecuteTime": {
     "end_time": "2021-07-09T19:45:20.015768Z",
     "start_time": "2021-07-09T19:45:17.352849Z"
    }
   },
   "outputs": [
    {
     "data": {
      "text/plain": [
       "<matplotlib.axes._subplots.AxesSubplot at 0x7fb634842810>"
      ]
     },
     "execution_count": 3,
     "metadata": {},
     "output_type": "execute_result"
    },
    {
     "data": {
      "image/png": "[encoded data removed]",
      "text/plain": [
       "<Figure size 432x288 with 1 Axes>"
      ]
     },
     "metadata": {
      "needs_background": "light"
     },
     "output_type": "display_data"
    }
   ],
   "source": [
    "timeseries = []\n",
    "perc_scrubbed = []\n",
    "for i, f in enumerate(df['ts_file']):\n",
    "    f = '..' + f.split('/..')[1]\n",
    "    f_scrub = f.split('.tsv')[0] + '-scrubbed.tsv'\n",
    "    \n",
    "    ts = pd.read_csv(f_scrub).iloc[:,1:] # here we can omit global signal...\n",
    "    \n",
    "    fd_file = df[\"fd_file\"].values[i]\n",
    "    fd_file = '..' + fd_file.split('/..')[1]\n",
    "    fd = pd.read_csv(fd_file).values.ravel().tolist()\n",
    "    fd = [0] + fd \n",
    "    \n",
    "    perc_scrubbed.append(100 - 100*len(ts.shape)/len(fd) )\n",
    "    timeseries.append(ts.values)\n",
    "    \n",
    "# double check visually\n",
    "sub_idx=10  # modify this for a different subject\n",
    "# modify below for different regions (see the next cell for region names)\n",
    "pd.DataFrame(timeseries[sub_idx], columns=ts.columns.values).loc[:, ['AINS_pd', 'AINS_v', 'PINS_v']].plot()"
   ]
  },
  {
   "cell_type": "markdown",
   "metadata": {},
   "source": [
    "## Load region and module names for the MIST122 atlas"
   ]
  },
  {
   "cell_type": "code",
   "execution_count": 4,
   "metadata": {
    "ExecuteTime": {
     "end_time": "2021-07-09T19:45:20.037472Z",
     "start_time": "2021-07-09T19:45:20.020105Z"
    }
   },
   "outputs": [
    {
     "name": "stdout",
     "output_type": "stream",
     "text": [
      "Region names:\n",
      " ['GlobSig' 'CER6_p' 'CER7ab' 'R_CERCR2_p' 'CER9_v' 'CER6_a' 'L_CERCR2_a'\n",
      " 'CER9_d' 'CER9_m' 'CER7b_m' 'L_CERCR2_p' 'CER7b_l' 'N' 'CERCR1' 'CER6_d'\n",
      " 'CER5' 'R_CERCR2_a' 'POsul_d' 'POsul_v' 'VMPFcor_p' 'R_MTgyr_a'\n",
      " 'L_ANGgyr' 'L_MTgyr_p' 'L_MTgyr_a' 'DMPFC_ar' 'L_SFsul_a' 'DMPFcor_ac'\n",
      " 'PCcor' 'POsul' 'L_IPlob' 'PGACcor' 'VMPFcor_a' 'PRC_d' 'SFgyr_ad'\n",
      " 'L_IPlob.1' 'R_ANGgyr' 'PRC_v' 'R_MTgyr_p' 'PRC_d.1' 'R_MFgyr_a'\n",
      " 'L_DVIS_v' 'SPlob' 'R_VLPFcor' 'FUSgyr_vl' 'R_IFsul' 'FP' 'R_DVIS_v'\n",
      " 'L_FP_l' 'SPlob.1' 'L_MFgyr_pc' 'L_VLPFcor' 'OCCTgyr_l' 'ACcor_d'\n",
      " 'L_MFgyr_pr' 'R_MFgyr_p' 'R_IPsul' 'L_IFsul' 'DVIS_s' 'FUSgyr_dl'\n",
      " 'R_SFsul' 'R_IPlob' 'R_FP_l' 'R_PORB' 'DMPFcor_p' 'L_IPsul' 'L_MFgyr_a'\n",
      " 'DVIS_vl' 'CAUDNH_NACC' 'COLsul' 'LORBgyr' 'ITgyr' 'STgyr_a' 'MORBgyr'\n",
      " 'PINS_v' 'TP' 'HIPP' 'AMY' 'PIsul' 'CERVM' 'L_MOTnet_dl' 'MOTnet_am'\n",
      " 'R_MOTnet_dl' 'MOTnet_m' 'MOTnet_ml' 'MOTnet_vl' 'MOTnet_l' 'l_PCsul'\n",
      " 'CNGsul_p' 'PUT_p' 'AINS_pd' 'CAUDN_d' 'AINS_v' 'FEF' 'PCsul_d' 'IMsul'\n",
      " 'STgyr_p' 'CAUDN_v' 'PUT_a' 'HSgyr' 'PSMcor_p' 'PSMcor_a' 'SMgyr'\n",
      " 'THAL_d' 'THAL_v' 'R_PCsul' 'PINS_d' 'STgyr_m' 'PCcor.1' 'AINS_ad'\n",
      " 'CAUDN' 'PVISnet_l' 'MDVISnet_p' 'MDVISnet_a' 'LVISnet_vp' 'MVISnet_p'\n",
      " 'MVISnet_av' 'LVISnet_p' 'PVISnet_dm' 'PVISnet_vm' 'MVISnet_ad'\n",
      " 'VVISnet_l' 'LVISnet_DP' 'VVISnet_m']\n"
     ]
    }
   ],
   "source": [
    "labels=ts.columns.values\n",
    "l = pd.read_csv('../data/atlas_relabeled.tsv', sep=\"\\t\")\n",
    "modules=np.insert(l['modules'].values, 0, \"GlobSig\")\n",
    "print('Region names:\\n', labels)"
   ]
  },
  {
   "cell_type": "markdown",
   "metadata": {},
   "source": [
    "## Calculate functional connectivity as partial correlation"
   ]
  },
  {
   "cell_type": "code",
   "execution_count": 5,
   "metadata": {
    "ExecuteTime": {
     "end_time": "2021-07-09T19:45:24.073445Z",
     "start_time": "2021-07-09T19:45:23.858895Z"
    }
   },
   "outputs": [],
   "source": [
    "correlation_measure = ConnectivityMeasure(kind='partial correlation', vectorize=True, discard_diagonal=True)\n",
    "X = correlation_measure.fit_transform(timeseries) # these are the features\n",
    "\n",
    "# double-check the mean matrix visually\n",
    "mat=correlation_measure.mean_\n",
    "#mat=mat[1:, 1:] #fisrt row and column is global signal\n",
    "mat[range(mat.shape[0]), range(mat.shape[0])] = 0 # zero diag\n",
    "#plot.plot_matrix(mat, labels, modules)"
   ]
  },
  {
   "cell_type": "markdown",
   "metadata": {
    "ExecuteTime": {
     "end_time": "2021-07-01T13:27:59.778543Z",
     "start_time": "2021-07-01T13:27:59.769481Z"
    }
   },
   "source": [
    "## Create groups to balance the cross-validations across centers"
   ]
  },
  {
   "cell_type": "code",
   "execution_count": 6,
   "metadata": {
    "ExecuteTime": {
     "end_time": "2021-07-09T19:45:26.242862Z",
     "start_time": "2021-07-09T19:45:26.218194Z"
    }
   },
   "outputs": [
    {
     "name": "stdout",
     "output_type": "stream",
     "text": [
      "35 37 19\n"
     ]
    },
    {
     "data": {
      "text/plain": [
       "array([ 0,  1,  2,  3,  4,  5,  6,  7,  8,  9, 10, 11, 12, 13, 14, 15, 16,\n",
       "       17, 18, 19, 20, 21, 22, 23, 24, 25, 26, 27, 28, 29, 30, 31, 32, 33,\n",
       "       34,  0,  1,  2,  3,  4,  5,  6,  7,  8,  9, 10, 11, 12, 13, 14, 15,\n",
       "       16, 17, 18, 19, 20, 21, 22, 23, 24, 25, 26, 27, 28, 29, 30, 31, 32,\n",
       "       33, 34, 35, 36,  0,  1,  2,  3,  4,  5,  6,  7,  8,  9, 10, 11, 12,\n",
       "       13, 14, 15, 16, 17, 18])"
      ]
     },
     "execution_count": 6,
     "metadata": {},
     "output_type": "execute_result"
    },
    {
     "data": {
      "text/plain": [
       "<Figure size 864x21.6 with 0 Axes>"
      ]
     },
     "metadata": {},
     "output_type": "display_data"
    },
    {
     "data": {
      "text/plain": [
       "<Figure size 864x21.6 with 0 Axes>"
      ]
     },
     "metadata": {},
     "output_type": "display_data"
    }
   ],
   "source": [
    "\n",
    "plt.figure(figsize=(12, 0.3))\n",
    "#sns.heatmap([df.study.astype(\"category\").cat.codes.values]).set_title('study center')\n",
    "#plt.show()\n",
    "n_szeged = np.sum(df.study == 'szeged') # size of the smallest study\n",
    "n_essen = np.sum(df.study == 'essen')\n",
    "n_bochum = np.sum(df.study == 'bochum')\n",
    "print(n_bochum, n_essen, n_szeged)\n",
    "\n",
    "groups=np.zeros(len(df), dtype=int)\n",
    "\n",
    "g=0\n",
    "i=0\n",
    "while i < n_bochum:\n",
    "    groups[i] = g\n",
    "    #groups[i+1] = g\n",
    "    i += 1\n",
    "    g += 1\n",
    "    \n",
    "g=0\n",
    "i=n_bochum\n",
    "while i < n_bochum+n_essen:\n",
    "    groups[i] = g\n",
    "    #groups[i+1] = g\n",
    "    i += 1\n",
    "    g += 1\n",
    "g=0\n",
    "i=n_bochum+n_essen\n",
    "while i < len(df):\n",
    "    groups[i] = g\n",
    "    i += 1\n",
    "    g += 1\n",
    "    \n",
    "plt.figure(figsize=(12, 0.3))\n",
    "#sns.heatmap([groups]).set_title('groups')\n",
    "#plt.show()\n",
    "\n",
    "groups"
   ]
  },
  {
   "cell_type": "markdown",
   "metadata": {
    "ExecuteTime": {
     "end_time": "2021-07-01T13:29:27.101478Z",
     "start_time": "2021-07-01T13:29:27.098712Z"
    }
   },
   "source": [
    "## Pain sensitivity as target variable"
   ]
  },
  {
   "cell_type": "code",
   "execution_count": 7,
   "metadata": {
    "ExecuteTime": {
     "end_time": "2021-07-09T19:45:30.138685Z",
     "start_time": "2021-07-09T19:45:30.135476Z"
    }
   },
   "outputs": [],
   "source": [
    "y = df.mean_QST_pain_sensitivity"
   ]
  },
  {
   "cell_type": "markdown",
   "metadata": {},
   "source": [
    "## Define model to be trained"
   ]
  },
  {
   "cell_type": "code",
   "execution_count": 18,
   "metadata": {
    "ExecuteTime": {
     "end_time": "2021-07-10T10:03:33.118030Z",
     "start_time": "2021-07-10T10:03:33.091639Z"
    }
   },
   "outputs": [],
   "source": [
    "# an oversimplified factory-function, defining the model to be trained:\n",
    "def pipe_scale_fsel_elnet(scaler=preprocessing.RobustScaler(),\n",
    "                          fsel=SelectKBest(f_regression),\n",
    "                          model=ElasticNet(max_iter=100000),\n",
    "                          p_grid={'fsel__k': [25, 50, 100, 1000, 3000],\n",
    "                              'model__alpha': [.001, .005, .01, .05, .1, .5, 1, 5],\n",
    "                              'model__l1_ratio': [0.0001, .25, .5, .75, 0.9999]         \n",
    "                                   }):\n",
    "                                      \n",
    "    mymodel = Pipeline(\n",
    "        [\n",
    "         ('fsel', fsel),\n",
    "         ('scaler', scaler),\n",
    "         ('model', model)])\n",
    "    return mymodel, p_grid"
   ]
  },
  {
   "cell_type": "code",
   "execution_count": 19,
   "metadata": {
    "ExecuteTime": {
     "end_time": "2021-07-10T10:03:33.799215Z",
     "start_time": "2021-07-10T10:03:33.790551Z"
    }
   },
   "outputs": [],
   "source": [
    "model, p_grid = pipe_scale_fsel_elnet()"
   ]
  },
  {
   "cell_type": "markdown",
   "metadata": {},
   "source": [
    "## Do a non-nested, balanced cross validation, to optimize hyperparameters, then retain the final multi-center model"
   ]
  },
  {
   "cell_type": "code",
   "execution_count": 20,
   "metadata": {
    "ExecuteTime": {
     "end_time": "2021-07-10T10:52:54.562298Z",
     "start_time": "2021-07-10T10:03:35.528273Z"
    }
   },
   "outputs": [
    {
     "name": "stdout",
     "output_type": "stream",
     "text": [
      "Fitting 30 folds for each of 200 candidates, totalling 6000 fits\n"
     ]
    },
    {
     "name": "stderr",
     "output_type": "stream",
     "text": [
      "[Parallel(n_jobs=-1)]: Using backend LokyBackend with 8 concurrent workers.\n",
      "[Parallel(n_jobs=-1)]: Done  34 tasks      | elapsed:    7.0s\n",
      "[Parallel(n_jobs=-1)]: Done 184 tasks      | elapsed:    9.7s\n",
      "[Parallel(n_jobs=-1)]: Done 434 tasks      | elapsed:   14.7s\n",
      "[Parallel(n_jobs=-1)]: Done 784 tasks      | elapsed:   20.4s\n",
      "[Parallel(n_jobs=-1)]: Done 1234 tasks      | elapsed:   27.8s\n",
      "[Parallel(n_jobs=-1)]: Done 1784 tasks      | elapsed:   37.9s\n",
      "[Parallel(n_jobs=-1)]: Done 2434 tasks      | elapsed:   50.5s\n",
      "[Parallel(n_jobs=-1)]: Done 3184 tasks      | elapsed:  1.1min\n",
      "[Parallel(n_jobs=-1)]: Done 4034 tasks      | elapsed:  6.0min\n",
      "[Parallel(n_jobs=-1)]: Done 4984 tasks      | elapsed: 26.3min\n",
      "[Parallel(n_jobs=-1)]: Done 6000 out of 6000 | elapsed: 49.3min finished\n"
     ]
    }
   ],
   "source": [
    "X_harmonized = CombatModel().fit_transform(X,\n",
    "                                   np.array([df.study.astype(\"category\").cat.codes.values]).transpose(),\n",
    "                                   np.array([df.Male.values]).transpose(),\n",
    "                                   np.array([df.Age.values]).transpose()\n",
    "                                  )\n",
    "\n",
    "cv = GroupKFold(30)\n",
    "clf = GridSearchCV(estimator=model, param_grid=p_grid, cv=cv,\n",
    "                   scoring=\"neg_mean_squared_error\", verbose=True, return_train_score=False,\n",
    "                   n_jobs=-1)\n",
    "clf.fit(X_harmonized, y, groups=groups)\n",
    "\n",
    "cv_pred = cross_val_predict(clf.best_estimator_, X, y, cv=cv, groups=groups, n_jobs=-1)                                 "
   ]
  },
  {
   "cell_type": "code",
   "execution_count": 25,
   "metadata": {
    "ExecuteTime": {
     "end_time": "2021-07-11T15:44:18.828521Z",
     "start_time": "2021-07-11T15:44:18.271007Z"
    }
   },
   "outputs": [
    {
     "data": {
      "text/plain": [
       "['../res/multi-center/harmonized_features.joblib']"
      ]
     },
     "execution_count": 25,
     "metadata": {},
     "output_type": "execute_result"
    }
   ],
   "source": [
    "joblib.dump(X_harmonized, '../res/multi-center/harmonized_features.joblib')"
   ]
  },
  {
   "cell_type": "markdown",
   "metadata": {
    "ExecuteTime": {
     "end_time": "2021-07-01T13:37:08.354604Z",
     "start_time": "2021-07-01T13:37:08.352108Z"
    }
   },
   "source": [
    "### Print out some non-nested accuracy estimates and plot the non-nested prediction (overly optimistic)."
   ]
  },
  {
   "cell_type": "code",
   "execution_count": 23,
   "metadata": {
    "ExecuteTime": {
     "end_time": "2021-07-10T10:58:21.125115Z",
     "start_time": "2021-07-10T10:58:16.692096Z"
    }
   },
   "outputs": [
    {
     "name": "stdout",
     "output_type": "stream",
     "text": [
      "**** Non-nested analysis ****\n",
      "** Best hyperparameters: {'fsel__k': 50, 'model__alpha': 0.05, 'model__l1_ratio': 0.9999}\n",
      "** Score on full data as training set:\t-0.07966890875374502\n",
      "** Score on mean as model: -0.5655535039999882\n",
      "** Best Non-nested cross-validated score on test:\t-0.48994453408120336\n",
      "XXXXX Explained Variance: 0.1336902156631079\n",
      "Correlation: 0.5210497155635729\n"
     ]
    },
    {
     "data": {
      "image/png": "[encoded data removed]",
      "text/plain": [
       "<Figure size 432x432 with 3 Axes>"
      ]
     },
     "metadata": {
      "needs_background": "light"
     },
     "output_type": "display_data"
    }
   ],
   "source": [
    "print(\"**** Non-nested analysis ****\")\n",
    "print(\"** Best hyperparameters: \" + str(clf.best_params_))\n",
    "\n",
    "print(\"** Score on full data as training set:\\t\" + str(-mean_squared_error(y_pred=clf.best_estimator_.predict(X), y_true=y)))\n",
    "print(\"** Score on mean as model: \" + str(-mean_squared_error(np.repeat(y.mean(), len(y)), y)))\n",
    "print(\"** Best Non-nested cross-validated score on test:\\t\" + str(clf.best_score_))\n",
    "print(\"XXXXX Explained Variance: \" + str(\n",
    "        1 - clf.best_score_ / -mean_squared_error(np.repeat(y.mean(), len(y)), y)))\n",
    "print(\"Correlation: \" + str(np.corrcoef(y, predicted)[0,1]))\n",
    "\n",
    "plot.plot_prediction(y.values, cv_pred, sd=True, covar=[])"
   ]
  },
  {
   "cell_type": "code",
   "execution_count": 24,
   "metadata": {
    "ExecuteTime": {
     "end_time": "2021-07-10T10:58:47.883125Z",
     "start_time": "2021-07-10T10:58:47.846858Z"
    }
   },
   "outputs": [],
   "source": [
    "joblib.dump(clf.best_estimator_, '../res/multi-center/finalized_model_combat_multi-center.joblib')\n",
    "# save NON-nested cv-predictions\n",
    "np.savetxt(\"../res/multi-center/nonnested_combat_cv_pred_full_GroupKFold30.csv\", cv_pred, delimiter=\",\")"
   ]
  },
  {
   "cell_type": "markdown",
   "metadata": {
    "ExecuteTime": {
     "end_time": "2021-07-01T13:34:53.066143Z",
     "start_time": "2021-07-01T13:34:53.063618Z"
    }
   },
   "source": [
    "## Do a nested, balanced cross-validation, to obtain unbiased accuracy estimates"
   ]
  },
  {
   "cell_type": "code",
   "execution_count": 12,
   "metadata": {
    "ExecuteTime": {
     "end_time": "2021-07-10T04:11:54.390369Z",
     "start_time": "2021-07-09T19:47:16.809106Z"
    }
   },
   "outputs": [
    {
     "name": "stdout",
     "output_type": "stream",
     "text": [
      "model\tinner_cv mean score\touter vc score\n",
      "Fitting 30 folds for each of 200 candidates, totalling 6000 fits\n"
     ]
    },
    {
     "name": "stderr",
     "output_type": "stream",
     "text": [
      "[Parallel(n_jobs=-1)]: Using backend LokyBackend with 8 concurrent workers.\n",
      "[Parallel(n_jobs=-1)]: Done  34 tasks      | elapsed:    4.2s\n",
      "[Parallel(n_jobs=-1)]: Done 542 tasks      | elapsed:    8.1s\n",
      "[Parallel(n_jobs=-1)]: Done 1542 tasks      | elapsed:   16.1s\n",
      "[Parallel(n_jobs=-1)]: Done 2942 tasks      | elapsed:   32.2s\n",
      "[Parallel(n_jobs=-1)]: Done 3942 tasks      | elapsed:  5.1min\n",
      "[Parallel(n_jobs=-1)]: Done 4492 tasks      | elapsed:  6.4min\n",
      "[Parallel(n_jobs=-1)]: Done 5142 tasks      | elapsed: 24.0min\n",
      "[Parallel(n_jobs=-1)]: Done 5892 tasks      | elapsed: 30.8min\n",
      "[Parallel(n_jobs=-1)]: Done 6000 out of 6000 | elapsed: 31.0min finished\n"
     ]
    },
    {
     "name": "stdout",
     "output_type": "stream",
     "text": [
      "cv: 0 {'fsel__k': 3000, 'model__alpha': 0.01, 'model__l1_ratio': 0.75} -0.35616853854669156 -0.32193542406520037\n",
      "Fitting 30 folds for each of 200 candidates, totalling 6000 fits\n"
     ]
    },
    {
     "name": "stderr",
     "output_type": "stream",
     "text": [
      "[Parallel(n_jobs=-1)]: Using backend LokyBackend with 8 concurrent workers.\n",
      "[Parallel(n_jobs=-1)]: Done  88 tasks      | elapsed:    0.7s\n",
      "[Parallel(n_jobs=-1)]: Done 688 tasks      | elapsed:    5.1s\n",
      "[Parallel(n_jobs=-1)]: Done 1688 tasks      | elapsed:   13.6s\n",
      "[Parallel(n_jobs=-1)]: Done 3088 tasks      | elapsed:   28.7s\n",
      "[Parallel(n_jobs=-1)]: Done 3982 tasks      | elapsed:  4.1min\n",
      "[Parallel(n_jobs=-1)]: Done 4532 tasks      | elapsed:  5.1min\n",
      "[Parallel(n_jobs=-1)]: Done 5182 tasks      | elapsed: 21.7min\n",
      "[Parallel(n_jobs=-1)]: Done 5932 tasks      | elapsed: 27.2min\n",
      "[Parallel(n_jobs=-1)]: Done 6000 out of 6000 | elapsed: 27.3min finished\n"
     ]
    },
    {
     "name": "stdout",
     "output_type": "stream",
     "text": [
      "cv: 1 {'fsel__k': 1000, 'model__alpha': 0.005, 'model__l1_ratio': 0.75} -0.36859294736190035 -0.0405844396953369\n",
      "Fitting 30 folds for each of 200 candidates, totalling 6000 fits\n"
     ]
    },
    {
     "name": "stderr",
     "output_type": "stream",
     "text": [
      "[Parallel(n_jobs=-1)]: Using backend LokyBackend with 8 concurrent workers.\n",
      "[Parallel(n_jobs=-1)]: Done  88 tasks      | elapsed:    1.0s\n",
      "[Parallel(n_jobs=-1)]: Done 688 tasks      | elapsed:    6.3s\n",
      "[Parallel(n_jobs=-1)]: Done 1688 tasks      | elapsed:   15.0s\n",
      "[Parallel(n_jobs=-1)]: Done 3088 tasks      | elapsed:   31.8s\n",
      "[Parallel(n_jobs=-1)]: Done 3981 tasks      | elapsed:  3.3min\n",
      "[Parallel(n_jobs=-1)]: Done 4531 tasks      | elapsed:  3.9min\n",
      "[Parallel(n_jobs=-1)]: Done 5181 tasks      | elapsed: 13.5min\n",
      "[Parallel(n_jobs=-1)]: Done 5931 tasks      | elapsed: 17.4min\n",
      "[Parallel(n_jobs=-1)]: Done 6000 out of 6000 | elapsed: 17.5min finished\n"
     ]
    },
    {
     "name": "stdout",
     "output_type": "stream",
     "text": [
      "cv: 2 {'fsel__k': 3000, 'model__alpha': 0.005, 'model__l1_ratio': 0.9999} -0.38311546567314564 -0.18900226950443275\n",
      "Fitting 30 folds for each of 200 candidates, totalling 6000 fits\n"
     ]
    },
    {
     "name": "stderr",
     "output_type": "stream",
     "text": [
      "[Parallel(n_jobs=-1)]: Using backend LokyBackend with 8 concurrent workers.\n",
      "[Parallel(n_jobs=-1)]: Done 136 tasks      | elapsed:    1.5s\n",
      "[Parallel(n_jobs=-1)]: Done 1936 tasks      | elapsed:    9.2s\n",
      "[Parallel(n_jobs=-1)]: Done 3919 tasks      | elapsed:  1.9min\n",
      "[Parallel(n_jobs=-1)]: Done 4280 tasks      | elapsed:  2.5min\n",
      "[Parallel(n_jobs=-1)]: Done 4741 tasks      | elapsed:  2.9min\n",
      "[Parallel(n_jobs=-1)]: Done 5302 tasks      | elapsed: 14.0min\n",
      "[Parallel(n_jobs=-1)]: Done 5952 tasks      | elapsed: 15.8min\n",
      "[Parallel(n_jobs=-1)]: Done 6000 out of 6000 | elapsed: 15.8min finished\n"
     ]
    },
    {
     "name": "stdout",
     "output_type": "stream",
     "text": [
      "cv: 3 {'fsel__k': 3000, 'model__alpha': 0.005, 'model__l1_ratio': 0.9999} -0.26319462727117293 -0.12673680185594066\n",
      "Fitting 30 folds for each of 200 candidates, totalling 6000 fits\n"
     ]
    },
    {
     "name": "stderr",
     "output_type": "stream",
     "text": [
      "[Parallel(n_jobs=-1)]: Using backend LokyBackend with 8 concurrent workers.\n",
      "[Parallel(n_jobs=-1)]: Done 124 tasks      | elapsed:    0.7s\n",
      "[Parallel(n_jobs=-1)]: Done 1024 tasks      | elapsed:    4.5s\n",
      "[Parallel(n_jobs=-1)]: Done 2524 tasks      | elapsed:   12.7s\n",
      "[Parallel(n_jobs=-1)]: Done 3877 tasks      | elapsed:  1.7min\n",
      "[Parallel(n_jobs=-1)]: Done 4327 tasks      | elapsed:  2.7min\n",
      "[Parallel(n_jobs=-1)]: Done 4877 tasks      | elapsed:  5.5min\n",
      "[Parallel(n_jobs=-1)]: Done 5527 tasks      | elapsed: 16.3min\n",
      "[Parallel(n_jobs=-1)]: Done 6000 out of 6000 | elapsed: 17.2min finished\n"
     ]
    },
    {
     "name": "stdout",
     "output_type": "stream",
     "text": [
      "cv: 4 {'fsel__k': 1000, 'model__alpha': 0.005, 'model__l1_ratio': 0.9999} -0.3331077788616732 -0.2908509174531915\n",
      "Fitting 30 folds for each of 200 candidates, totalling 6000 fits\n"
     ]
    },
    {
     "name": "stderr",
     "output_type": "stream",
     "text": [
      "[Parallel(n_jobs=-1)]: Using backend LokyBackend with 8 concurrent workers.\n",
      "[Parallel(n_jobs=-1)]: Done 100 tasks      | elapsed:    0.9s\n",
      "[Parallel(n_jobs=-1)]: Done 1600 tasks      | elapsed:   10.2s\n",
      "[Parallel(n_jobs=-1)]: Done 3830 tasks      | elapsed:  1.8min\n",
      "[Parallel(n_jobs=-1)]: Done 4196 tasks      | elapsed:  3.0min\n",
      "[Parallel(n_jobs=-1)]: Done 4655 tasks      | elapsed:  3.4min\n",
      "[Parallel(n_jobs=-1)]: Done 5205 tasks      | elapsed: 13.1min\n",
      "[Parallel(n_jobs=-1)]: Done 5855 tasks      | elapsed: 16.1min\n",
      "[Parallel(n_jobs=-1)]: Done 6000 out of 6000 | elapsed: 16.3min finished\n"
     ]
    },
    {
     "name": "stdout",
     "output_type": "stream",
     "text": [
      "cv: 5 {'fsel__k': 1000, 'model__alpha': 0.005, 'model__l1_ratio': 0.9999} -0.29733720407169617 -0.46512456245536987\n",
      "Fitting 30 folds for each of 200 candidates, totalling 6000 fits\n"
     ]
    },
    {
     "name": "stderr",
     "output_type": "stream",
     "text": [
      "[Parallel(n_jobs=-1)]: Using backend LokyBackend with 8 concurrent workers.\n",
      "[Parallel(n_jobs=-1)]: Done 136 tasks      | elapsed:    0.8s\n",
      "[Parallel(n_jobs=-1)]: Done 1936 tasks      | elapsed:    7.5s\n",
      "[Parallel(n_jobs=-1)]: Done 3926 tasks      | elapsed:  1.9min\n",
      "[Parallel(n_jobs=-1)]: Done 4287 tasks      | elapsed:  2.5min\n",
      "[Parallel(n_jobs=-1)]: Done 4748 tasks      | elapsed:  2.8min\n",
      "[Parallel(n_jobs=-1)]: Done 5309 tasks      | elapsed: 14.0min\n",
      "[Parallel(n_jobs=-1)]: Done 5959 tasks      | elapsed: 15.8min\n",
      "[Parallel(n_jobs=-1)]: Done 6000 out of 6000 | elapsed: 15.9min finished\n"
     ]
    },
    {
     "name": "stdout",
     "output_type": "stream",
     "text": [
      "cv: 6 {'fsel__k': 3000, 'model__alpha': 0.005, 'model__l1_ratio': 0.75} -0.30725279005638534 -0.09048789016107857\n",
      "Fitting 30 folds for each of 200 candidates, totalling 6000 fits\n"
     ]
    },
    {
     "name": "stderr",
     "output_type": "stream",
     "text": [
      "[Parallel(n_jobs=-1)]: Using backend LokyBackend with 8 concurrent workers.\n",
      "[Parallel(n_jobs=-1)]: Done 100 tasks      | elapsed:    0.8s\n",
      "[Parallel(n_jobs=-1)]: Done 1600 tasks      | elapsed:    8.6s\n",
      "[Parallel(n_jobs=-1)]: Done 3842 tasks      | elapsed:  1.7min\n",
      "[Parallel(n_jobs=-1)]: Done 4200 tasks      | elapsed:  2.8min\n",
      "[Parallel(n_jobs=-1)]: Done 4659 tasks      | elapsed:  3.2min\n",
      "[Parallel(n_jobs=-1)]: Done 5209 tasks      | elapsed: 13.3min\n",
      "[Parallel(n_jobs=-1)]: Done 5859 tasks      | elapsed: 16.2min\n",
      "[Parallel(n_jobs=-1)]: Done 6000 out of 6000 | elapsed: 16.4min finished\n"
     ]
    },
    {
     "name": "stdout",
     "output_type": "stream",
     "text": [
      "cv: 7 {'fsel__k': 3000, 'model__alpha': 0.01, 'model__l1_ratio': 0.9999} -0.3516521479392531 -0.2539215255828174\n",
      "Fitting 30 folds for each of 200 candidates, totalling 6000 fits\n"
     ]
    },
    {
     "name": "stderr",
     "output_type": "stream",
     "text": [
      "[Parallel(n_jobs=-1)]: Using backend LokyBackend with 8 concurrent workers.\n",
      "[Parallel(n_jobs=-1)]: Done 124 tasks      | elapsed:    0.6s\n",
      "[Parallel(n_jobs=-1)]: Done 1024 tasks      | elapsed:    3.9s\n",
      "[Parallel(n_jobs=-1)]: Done 2524 tasks      | elapsed:   11.2s\n",
      "[Parallel(n_jobs=-1)]: Done 3877 tasks      | elapsed:  1.7min\n",
      "[Parallel(n_jobs=-1)]: Done 4327 tasks      | elapsed:  2.6min\n",
      "[Parallel(n_jobs=-1)]: Done 4877 tasks      | elapsed:  4.5min\n",
      "[Parallel(n_jobs=-1)]: Done 5527 tasks      | elapsed: 13.8min\n",
      "[Parallel(n_jobs=-1)]: Done 6000 out of 6000 | elapsed: 14.5min finished\n"
     ]
    },
    {
     "name": "stdout",
     "output_type": "stream",
     "text": [
      "cv: 8 {'fsel__k': 1000, 'model__alpha': 0.005, 'model__l1_ratio': 0.75} -0.3652308106907006 -0.11307561201173522\n",
      "Fitting 30 folds for each of 200 candidates, totalling 6000 fits\n"
     ]
    },
    {
     "name": "stderr",
     "output_type": "stream",
     "text": [
      "[Parallel(n_jobs=-1)]: Using backend LokyBackend with 8 concurrent workers.\n",
      "[Parallel(n_jobs=-1)]: Done 160 tasks      | elapsed:    0.8s\n",
      "[Parallel(n_jobs=-1)]: Done 1360 tasks      | elapsed:    5.3s\n",
      "[Parallel(n_jobs=-1)]: Done 3360 tasks      | elapsed:   16.0s\n",
      "[Parallel(n_jobs=-1)]: Done 4085 tasks      | elapsed:  2.4min\n",
      "[Parallel(n_jobs=-1)]: Done 4535 tasks      | elapsed:  2.7min\n",
      "[Parallel(n_jobs=-1)]: Done 5085 tasks      | elapsed:  7.5min\n",
      "[Parallel(n_jobs=-1)]: Done 5735 tasks      | elapsed: 15.2min\n",
      "[Parallel(n_jobs=-1)]: Done 6000 out of 6000 | elapsed: 15.6min finished\n"
     ]
    },
    {
     "name": "stdout",
     "output_type": "stream",
     "text": [
      "cv: 9 {'fsel__k': 3000, 'model__alpha': 0.001, 'model__l1_ratio': 0.9999} -0.32288510422819955 -0.30366591621103667\n",
      "Fitting 30 folds for each of 200 candidates, totalling 6000 fits\n"
     ]
    },
    {
     "name": "stderr",
     "output_type": "stream",
     "text": [
      "[Parallel(n_jobs=-1)]: Using backend LokyBackend with 8 concurrent workers.\n",
      "[Parallel(n_jobs=-1)]: Done  96 tasks      | elapsed:    0.9s\n",
      "[Parallel(n_jobs=-1)]: Done 1296 tasks      | elapsed:    7.4s\n",
      "[Parallel(n_jobs=-1)]: Done 3296 tasks      | elapsed:   20.9s\n",
      "[Parallel(n_jobs=-1)]: Done 4073 tasks      | elapsed:  2.8min\n",
      "[Parallel(n_jobs=-1)]: Done 4523 tasks      | elapsed:  3.2min\n",
      "[Parallel(n_jobs=-1)]: Done 5073 tasks      | elapsed:  8.2min\n",
      "[Parallel(n_jobs=-1)]: Done 5723 tasks      | elapsed: 16.0min\n",
      "[Parallel(n_jobs=-1)]: Done 6000 out of 6000 | elapsed: 16.5min finished\n"
     ]
    },
    {
     "name": "stdout",
     "output_type": "stream",
     "text": [
      "cv: 10 {'fsel__k': 3000, 'model__alpha': 0.005, 'model__l1_ratio': 0.9999} -0.36188357359173995 -0.5428925554238385\n",
      "Fitting 30 folds for each of 200 candidates, totalling 6000 fits\n"
     ]
    },
    {
     "name": "stderr",
     "output_type": "stream",
     "text": [
      "[Parallel(n_jobs=-1)]: Using backend LokyBackend with 8 concurrent workers.\n",
      "[Parallel(n_jobs=-1)]: Done  96 tasks      | elapsed:    0.8s\n",
      "[Parallel(n_jobs=-1)]: Done 1296 tasks      | elapsed:    6.3s\n",
      "[Parallel(n_jobs=-1)]: Done 3296 tasks      | elapsed:   19.0s\n",
      "[Parallel(n_jobs=-1)]: Done 4077 tasks      | elapsed:  2.5min\n",
      "[Parallel(n_jobs=-1)]: Done 4527 tasks      | elapsed:  2.8min\n",
      "[Parallel(n_jobs=-1)]: Done 5077 tasks      | elapsed:  8.1min\n",
      "[Parallel(n_jobs=-1)]: Done 5727 tasks      | elapsed: 15.4min\n",
      "[Parallel(n_jobs=-1)]: Done 6000 out of 6000 | elapsed: 15.8min finished\n"
     ]
    },
    {
     "name": "stdout",
     "output_type": "stream",
     "text": [
      "cv: 11 {'fsel__k': 1000, 'model__alpha': 0.001, 'model__l1_ratio': 0.5} -0.34954026912870406 -1.017849530796114\n",
      "Fitting 30 folds for each of 200 candidates, totalling 6000 fits\n"
     ]
    },
    {
     "name": "stderr",
     "output_type": "stream",
     "text": [
      "[Parallel(n_jobs=-1)]: Using backend LokyBackend with 8 concurrent workers.\n",
      "[Parallel(n_jobs=-1)]: Done 160 tasks      | elapsed:    0.8s\n",
      "[Parallel(n_jobs=-1)]: Done 1360 tasks      | elapsed:    5.3s\n",
      "[Parallel(n_jobs=-1)]: Done 3360 tasks      | elapsed:   16.1s\n",
      "[Parallel(n_jobs=-1)]: Done 4085 tasks      | elapsed:  2.4min\n",
      "[Parallel(n_jobs=-1)]: Done 4535 tasks      | elapsed:  2.7min\n",
      "[Parallel(n_jobs=-1)]: Done 5085 tasks      | elapsed:  7.8min\n",
      "[Parallel(n_jobs=-1)]: Done 5735 tasks      | elapsed: 14.8min\n",
      "[Parallel(n_jobs=-1)]: Done 6000 out of 6000 | elapsed: 15.2min finished\n"
     ]
    },
    {
     "name": "stdout",
     "output_type": "stream",
     "text": [
      "cv: 12 {'fsel__k': 1000, 'model__alpha': 0.001, 'model__l1_ratio': 0.25} -0.3193088040449983 -1.179856529868768\n",
      "Fitting 30 folds for each of 200 candidates, totalling 6000 fits\n"
     ]
    },
    {
     "name": "stderr",
     "output_type": "stream",
     "text": [
      "[Parallel(n_jobs=-1)]: Using backend LokyBackend with 8 concurrent workers.\n",
      "[Parallel(n_jobs=-1)]: Done 160 tasks      | elapsed:    0.8s\n",
      "[Parallel(n_jobs=-1)]: Done 1360 tasks      | elapsed:    5.2s\n",
      "[Parallel(n_jobs=-1)]: Done 3360 tasks      | elapsed:   16.2s\n",
      "[Parallel(n_jobs=-1)]: Done 4081 tasks      | elapsed:  2.4min\n",
      "[Parallel(n_jobs=-1)]: Done 4531 tasks      | elapsed:  2.7min\n",
      "[Parallel(n_jobs=-1)]: Done 5081 tasks      | elapsed:  7.8min\n",
      "[Parallel(n_jobs=-1)]: Done 5731 tasks      | elapsed: 15.6min\n",
      "[Parallel(n_jobs=-1)]: Done 6000 out of 6000 | elapsed: 16.0min finished\n"
     ]
    },
    {
     "name": "stdout",
     "output_type": "stream",
     "text": [
      "cv: 13 {'fsel__k': 1000, 'model__alpha': 0.005, 'model__l1_ratio': 0.75} -0.30626061601554583 -0.5076040713142267\n",
      "Fitting 30 folds for each of 200 candidates, totalling 6000 fits\n"
     ]
    },
    {
     "name": "stderr",
     "output_type": "stream",
     "text": [
      "[Parallel(n_jobs=-1)]: Using backend LokyBackend with 8 concurrent workers.\n",
      "[Parallel(n_jobs=-1)]: Done  96 tasks      | elapsed:    0.8s\n",
      "[Parallel(n_jobs=-1)]: Done 1296 tasks      | elapsed:    6.8s\n",
      "[Parallel(n_jobs=-1)]: Done 3296 tasks      | elapsed:   21.1s\n",
      "[Parallel(n_jobs=-1)]: Done 4073 tasks      | elapsed:  2.8min\n",
      "[Parallel(n_jobs=-1)]: Done 4523 tasks      | elapsed:  3.2min\n",
      "[Parallel(n_jobs=-1)]: Done 5073 tasks      | elapsed:  7.9min\n",
      "[Parallel(n_jobs=-1)]: Done 5723 tasks      | elapsed: 14.9min\n",
      "[Parallel(n_jobs=-1)]: Done 6000 out of 6000 | elapsed: 15.4min finished\n"
     ]
    },
    {
     "name": "stdout",
     "output_type": "stream",
     "text": [
      "cv: 14 {'fsel__k': 3000, 'model__alpha': 0.01, 'model__l1_ratio': 0.9999} -0.2809442645515705 -0.022810953542529006\n",
      "Fitting 30 folds for each of 200 candidates, totalling 6000 fits\n"
     ]
    },
    {
     "name": "stderr",
     "output_type": "stream",
     "text": [
      "[Parallel(n_jobs=-1)]: Using backend LokyBackend with 8 concurrent workers.\n",
      "[Parallel(n_jobs=-1)]: Done 100 tasks      | elapsed:    0.8s\n",
      "[Parallel(n_jobs=-1)]: Done 1600 tasks      | elapsed:    8.6s\n",
      "[Parallel(n_jobs=-1)]: Done 3816 tasks      | elapsed:  1.5min\n",
      "[Parallel(n_jobs=-1)]: Done 4202 tasks      | elapsed:  2.7min\n",
      "[Parallel(n_jobs=-1)]: Done 4652 tasks      | elapsed:  3.0min\n",
      "[Parallel(n_jobs=-1)]: Done 5202 tasks      | elapsed: 12.1min\n",
      "[Parallel(n_jobs=-1)]: Done 5852 tasks      | elapsed: 14.8min\n",
      "[Parallel(n_jobs=-1)]: Done 6000 out of 6000 | elapsed: 15.0min finished\n"
     ]
    },
    {
     "name": "stdout",
     "output_type": "stream",
     "text": [
      "cv: 15 {'fsel__k': 1000, 'model__alpha': 0.005, 'model__l1_ratio': 0.9999} -0.3825726303324364 -0.09186995788425946\n",
      "Fitting 30 folds for each of 200 candidates, totalling 6000 fits\n"
     ]
    },
    {
     "name": "stderr",
     "output_type": "stream",
     "text": [
      "[Parallel(n_jobs=-1)]: Using backend LokyBackend with 8 concurrent workers.\n",
      "[Parallel(n_jobs=-1)]: Done 136 tasks      | elapsed:    0.7s\n",
      "[Parallel(n_jobs=-1)]: Done 1936 tasks      | elapsed:    7.9s\n",
      "[Parallel(n_jobs=-1)]: Done 3921 tasks      | elapsed:  2.0min\n",
      "[Parallel(n_jobs=-1)]: Done 4293 tasks      | elapsed:  2.5min\n",
      "[Parallel(n_jobs=-1)]: Done 4743 tasks      | elapsed:  2.8min\n",
      "[Parallel(n_jobs=-1)]: Done 5293 tasks      | elapsed: 14.1min\n",
      "[Parallel(n_jobs=-1)]: Done 5943 tasks      | elapsed: 16.0min\n",
      "[Parallel(n_jobs=-1)]: Done 6000 out of 6000 | elapsed: 16.1min finished\n"
     ]
    },
    {
     "name": "stdout",
     "output_type": "stream",
     "text": [
      "cv: 16 {'fsel__k': 3000, 'model__alpha': 0.001, 'model__l1_ratio': 0.75} -0.3166320065532116 -0.6224966064384833\n",
      "Fitting 30 folds for each of 200 candidates, totalling 6000 fits\n"
     ]
    },
    {
     "name": "stderr",
     "output_type": "stream",
     "text": [
      "[Parallel(n_jobs=-1)]: Using backend LokyBackend with 8 concurrent workers.\n",
      "[Parallel(n_jobs=-1)]: Done 160 tasks      | elapsed:    1.1s\n",
      "[Parallel(n_jobs=-1)]: Done 1360 tasks      | elapsed:    7.5s\n",
      "[Parallel(n_jobs=-1)]: Done 3360 tasks      | elapsed:   21.8s\n",
      "[Parallel(n_jobs=-1)]: Done 4081 tasks      | elapsed:  2.7min\n",
      "[Parallel(n_jobs=-1)]: Done 4531 tasks      | elapsed:  3.0min\n",
      "[Parallel(n_jobs=-1)]: Done 5081 tasks      | elapsed:  8.1min\n",
      "[Parallel(n_jobs=-1)]: Done 5731 tasks      | elapsed: 15.9min\n",
      "[Parallel(n_jobs=-1)]: Done 6000 out of 6000 | elapsed: 16.4min finished\n"
     ]
    },
    {
     "name": "stdout",
     "output_type": "stream",
     "text": [
      "cv: 17 {'fsel__k': 3000, 'model__alpha': 0.01, 'model__l1_ratio': 0.5} -0.3886687965204147 -0.37166953095782823\n",
      "Fitting 30 folds for each of 200 candidates, totalling 6000 fits\n"
     ]
    },
    {
     "name": "stderr",
     "output_type": "stream",
     "text": [
      "[Parallel(n_jobs=-1)]: Using backend LokyBackend with 8 concurrent workers.\n",
      "[Parallel(n_jobs=-1)]: Done 124 tasks      | elapsed:    0.8s\n",
      "[Parallel(n_jobs=-1)]: Done 1024 tasks      | elapsed:    5.3s\n",
      "[Parallel(n_jobs=-1)]: Done 2524 tasks      | elapsed:   15.0s\n",
      "[Parallel(n_jobs=-1)]: Done 3877 tasks      | elapsed:  1.9min\n",
      "[Parallel(n_jobs=-1)]: Done 4327 tasks      | elapsed:  3.0min\n",
      "[Parallel(n_jobs=-1)]: Done 4877 tasks      | elapsed:  4.9min\n",
      "[Parallel(n_jobs=-1)]: Done 5527 tasks      | elapsed: 14.0min\n",
      "[Parallel(n_jobs=-1)]: Done 6000 out of 6000 | elapsed: 14.7min finished\n"
     ]
    },
    {
     "name": "stdout",
     "output_type": "stream",
     "text": [
      "cv: 18 {'fsel__k': 3000, 'model__alpha': 0.001, 'model__l1_ratio': 0.25} -0.36423492589182777 -0.7945362897956155\n",
      "Fitting 30 folds for each of 200 candidates, totalling 6000 fits\n"
     ]
    },
    {
     "name": "stderr",
     "output_type": "stream",
     "text": [
      "[Parallel(n_jobs=-1)]: Using backend LokyBackend with 8 concurrent workers.\n",
      "[Parallel(n_jobs=-1)]: Done 160 tasks      | elapsed:    0.8s\n",
      "[Parallel(n_jobs=-1)]: Done 1360 tasks      | elapsed:    5.1s\n",
      "[Parallel(n_jobs=-1)]: Done 3360 tasks      | elapsed:   16.2s\n",
      "[Parallel(n_jobs=-1)]: Done 4085 tasks      | elapsed:  2.6min\n",
      "[Parallel(n_jobs=-1)]: Done 4535 tasks      | elapsed:  3.0min\n",
      "[Parallel(n_jobs=-1)]: Done 5085 tasks      | elapsed:  8.3min\n",
      "[Parallel(n_jobs=-1)]: Done 5735 tasks      | elapsed: 15.9min\n",
      "[Parallel(n_jobs=-1)]: Done 6000 out of 6000 | elapsed: 16.3min finished\n"
     ]
    },
    {
     "name": "stdout",
     "output_type": "stream",
     "text": [
      "cv: 19 {'fsel__k': 3000, 'model__alpha': 0.005, 'model__l1_ratio': 0.75} -0.2885846620630973 -0.5028429873607437\n",
      "Fitting 30 folds for each of 200 candidates, totalling 6000 fits\n"
     ]
    },
    {
     "name": "stderr",
     "output_type": "stream",
     "text": [
      "[Parallel(n_jobs=-1)]: Using backend LokyBackend with 8 concurrent workers.\n",
      "[Parallel(n_jobs=-1)]: Done 124 tasks      | elapsed:    0.8s\n",
      "[Parallel(n_jobs=-1)]: Done 1024 tasks      | elapsed:    5.2s\n",
      "[Parallel(n_jobs=-1)]: Done 2524 tasks      | elapsed:   15.1s\n",
      "[Parallel(n_jobs=-1)]: Done 3877 tasks      | elapsed:  1.9min\n",
      "[Parallel(n_jobs=-1)]: Done 4327 tasks      | elapsed:  3.0min\n",
      "[Parallel(n_jobs=-1)]: Done 4877 tasks      | elapsed:  4.8min\n",
      "[Parallel(n_jobs=-1)]: Done 5527 tasks      | elapsed: 13.7min\n",
      "[Parallel(n_jobs=-1)]: Done 6000 out of 6000 | elapsed: 14.6min finished\n"
     ]
    },
    {
     "name": "stdout",
     "output_type": "stream",
     "text": [
      "cv: 20 {'fsel__k': 3000, 'model__alpha': 0.01, 'model__l1_ratio': 0.75} -0.32804961956881 -0.15973605559903284\n",
      "Fitting 30 folds for each of 200 candidates, totalling 6000 fits\n"
     ]
    },
    {
     "name": "stderr",
     "output_type": "stream",
     "text": [
      "[Parallel(n_jobs=-1)]: Using backend LokyBackend with 8 concurrent workers.\n",
      "[Parallel(n_jobs=-1)]: Done 160 tasks      | elapsed:    1.2s\n",
      "[Parallel(n_jobs=-1)]: Done 1360 tasks      | elapsed:    7.6s\n",
      "[Parallel(n_jobs=-1)]: Done 3360 tasks      | elapsed:   22.0s\n",
      "[Parallel(n_jobs=-1)]: Done 4081 tasks      | elapsed:  2.8min\n",
      "[Parallel(n_jobs=-1)]: Done 4531 tasks      | elapsed:  3.2min\n",
      "[Parallel(n_jobs=-1)]: Done 5081 tasks      | elapsed:  8.3min\n",
      "[Parallel(n_jobs=-1)]: Done 5731 tasks      | elapsed: 16.1min\n",
      "[Parallel(n_jobs=-1)]: Done 6000 out of 6000 | elapsed: 16.5min finished\n"
     ]
    },
    {
     "name": "stdout",
     "output_type": "stream",
     "text": [
      "cv: 21 {'fsel__k': 3000, 'model__alpha': 0.01, 'model__l1_ratio': 0.9999} -0.35276578213287807 -0.44283611496909986\n",
      "Fitting 30 folds for each of 200 candidates, totalling 6000 fits\n"
     ]
    },
    {
     "name": "stderr",
     "output_type": "stream",
     "text": [
      "[Parallel(n_jobs=-1)]: Using backend LokyBackend with 8 concurrent workers.\n",
      "[Parallel(n_jobs=-1)]: Done 124 tasks      | elapsed:    0.8s\n",
      "[Parallel(n_jobs=-1)]: Done 1024 tasks      | elapsed:    5.0s\n",
      "[Parallel(n_jobs=-1)]: Done 2524 tasks      | elapsed:   13.9s\n",
      "[Parallel(n_jobs=-1)]: Done 3877 tasks      | elapsed:  2.0min\n",
      "[Parallel(n_jobs=-1)]: Done 4327 tasks      | elapsed:  3.1min\n",
      "[Parallel(n_jobs=-1)]: Done 4877 tasks      | elapsed:  5.1min\n",
      "[Parallel(n_jobs=-1)]: Done 5527 tasks      | elapsed: 15.0min\n",
      "[Parallel(n_jobs=-1)]: Done 6000 out of 6000 | elapsed: 15.8min finished\n"
     ]
    },
    {
     "name": "stdout",
     "output_type": "stream",
     "text": [
      "cv: 22 {'fsel__k': 3000, 'model__alpha': 0.001, 'model__l1_ratio': 0.25} -0.3854800814060228 -1.1092011021586206\n",
      "Fitting 30 folds for each of 200 candidates, totalling 6000 fits\n"
     ]
    },
    {
     "name": "stderr",
     "output_type": "stream",
     "text": [
      "[Parallel(n_jobs=-1)]: Using backend LokyBackend with 8 concurrent workers.\n",
      "[Parallel(n_jobs=-1)]: Done 160 tasks      | elapsed:    0.8s\n",
      "[Parallel(n_jobs=-1)]: Done 1360 tasks      | elapsed:    5.2s\n",
      "[Parallel(n_jobs=-1)]: Done 3360 tasks      | elapsed:   15.6s\n",
      "[Parallel(n_jobs=-1)]: Done 4085 tasks      | elapsed:  2.4min\n",
      "[Parallel(n_jobs=-1)]: Done 4535 tasks      | elapsed:  2.8min\n",
      "[Parallel(n_jobs=-1)]: Done 5085 tasks      | elapsed:  8.4min\n",
      "[Parallel(n_jobs=-1)]: Done 5735 tasks      | elapsed: 15.5min\n",
      "[Parallel(n_jobs=-1)]: Done 6000 out of 6000 | elapsed: 15.9min finished\n"
     ]
    },
    {
     "name": "stdout",
     "output_type": "stream",
     "text": [
      "cv: 23 {'fsel__k': 3000, 'model__alpha': 0.001, 'model__l1_ratio': 0.25} -0.4021709791064796 -0.49359223132453034\n",
      "Fitting 30 folds for each of 200 candidates, totalling 6000 fits\n"
     ]
    },
    {
     "name": "stderr",
     "output_type": "stream",
     "text": [
      "[Parallel(n_jobs=-1)]: Using backend LokyBackend with 8 concurrent workers.\n",
      "[Parallel(n_jobs=-1)]: Done 124 tasks      | elapsed:    0.9s\n",
      "[Parallel(n_jobs=-1)]: Done 1024 tasks      | elapsed:    5.5s\n",
      "[Parallel(n_jobs=-1)]: Done 2524 tasks      | elapsed:   15.1s\n",
      "[Parallel(n_jobs=-1)]: Done 3879 tasks      | elapsed:  1.9min\n",
      "[Parallel(n_jobs=-1)]: Done 4329 tasks      | elapsed:  2.9min\n",
      "[Parallel(n_jobs=-1)]: Done 4879 tasks      | elapsed:  5.4min\n",
      "[Parallel(n_jobs=-1)]: Done 5529 tasks      | elapsed: 14.9min\n",
      "[Parallel(n_jobs=-1)]: Done 6000 out of 6000 | elapsed: 15.7min finished\n"
     ]
    },
    {
     "name": "stdout",
     "output_type": "stream",
     "text": [
      "cv: 24 {'fsel__k': 3000, 'model__alpha': 0.005, 'model__l1_ratio': 0.5} -0.37390185822241384 -0.18115951574683878\n",
      "Fitting 30 folds for each of 200 candidates, totalling 6000 fits\n"
     ]
    },
    {
     "name": "stderr",
     "output_type": "stream",
     "text": [
      "[Parallel(n_jobs=-1)]: Using backend LokyBackend with 8 concurrent workers.\n",
      "[Parallel(n_jobs=-1)]: Done 136 tasks      | elapsed:    0.9s\n",
      "[Parallel(n_jobs=-1)]: Done 1936 tasks      | elapsed:    7.7s\n",
      "[Parallel(n_jobs=-1)]: Done 3912 tasks      | elapsed:  1.9min\n",
      "[Parallel(n_jobs=-1)]: Done 4273 tasks      | elapsed:  2.5min\n",
      "[Parallel(n_jobs=-1)]: Done 4734 tasks      | elapsed:  2.8min\n",
      "[Parallel(n_jobs=-1)]: Done 5295 tasks      | elapsed: 13.9min\n",
      "[Parallel(n_jobs=-1)]: Done 5945 tasks      | elapsed: 15.8min\n",
      "[Parallel(n_jobs=-1)]: Done 6000 out of 6000 | elapsed: 15.8min finished\n"
     ]
    },
    {
     "name": "stdout",
     "output_type": "stream",
     "text": [
      "cv: 25 {'fsel__k': 3000, 'model__alpha': 0.005, 'model__l1_ratio': 0.9999} -0.2844653178828925 -0.736891394559915\n",
      "Fitting 30 folds for each of 200 candidates, totalling 6000 fits\n"
     ]
    },
    {
     "name": "stderr",
     "output_type": "stream",
     "text": [
      "[Parallel(n_jobs=-1)]: Using backend LokyBackend with 8 concurrent workers.\n",
      "[Parallel(n_jobs=-1)]: Done 136 tasks      | elapsed:    0.8s\n",
      "[Parallel(n_jobs=-1)]: Done 1936 tasks      | elapsed:    7.3s\n",
      "[Parallel(n_jobs=-1)]: Done 3928 tasks      | elapsed:  1.9min\n",
      "[Parallel(n_jobs=-1)]: Done 4289 tasks      | elapsed:  2.5min\n",
      "[Parallel(n_jobs=-1)]: Done 4739 tasks      | elapsed:  2.8min\n",
      "[Parallel(n_jobs=-1)]: Done 5311 tasks      | elapsed: 13.8min\n",
      "[Parallel(n_jobs=-1)]: Done 5961 tasks      | elapsed: 15.4min\n",
      "[Parallel(n_jobs=-1)]: Done 6000 out of 6000 | elapsed: 15.5min finished\n"
     ]
    },
    {
     "name": "stdout",
     "output_type": "stream",
     "text": [
      "cv: 26 {'fsel__k': 1000, 'model__alpha': 0.005, 'model__l1_ratio': 0.75} -0.2967769393434665 -0.2123994220432349\n",
      "Fitting 30 folds for each of 200 candidates, totalling 6000 fits\n"
     ]
    },
    {
     "name": "stderr",
     "output_type": "stream",
     "text": [
      "[Parallel(n_jobs=-1)]: Using backend LokyBackend with 8 concurrent workers.\n",
      "[Parallel(n_jobs=-1)]: Done 160 tasks      | elapsed:    0.8s\n",
      "[Parallel(n_jobs=-1)]: Done 1360 tasks      | elapsed:    5.2s\n",
      "[Parallel(n_jobs=-1)]: Done 3360 tasks      | elapsed:   15.6s\n",
      "[Parallel(n_jobs=-1)]: Done 4085 tasks      | elapsed:  2.4min\n",
      "[Parallel(n_jobs=-1)]: Done 4535 tasks      | elapsed:  2.8min\n",
      "[Parallel(n_jobs=-1)]: Done 5085 tasks      | elapsed:  7.9min\n",
      "[Parallel(n_jobs=-1)]: Done 5735 tasks      | elapsed: 16.0min\n",
      "[Parallel(n_jobs=-1)]: Done 6000 out of 6000 | elapsed: 16.4min finished\n"
     ]
    },
    {
     "name": "stdout",
     "output_type": "stream",
     "text": [
      "cv: 27 {'fsel__k': 1000, 'model__alpha': 0.05, 'model__l1_ratio': 0.5} -0.373426644462066 -0.3095912402211764\n",
      "Fitting 30 folds for each of 200 candidates, totalling 6000 fits\n"
     ]
    },
    {
     "name": "stderr",
     "output_type": "stream",
     "text": [
      "[Parallel(n_jobs=-1)]: Using backend LokyBackend with 8 concurrent workers.\n",
      "[Parallel(n_jobs=-1)]: Done 160 tasks      | elapsed:    1.1s\n",
      "[Parallel(n_jobs=-1)]: Done 1360 tasks      | elapsed:    7.5s\n",
      "[Parallel(n_jobs=-1)]: Done 3360 tasks      | elapsed:   22.3s\n",
      "[Parallel(n_jobs=-1)]: Done 4081 tasks      | elapsed:  2.9min\n",
      "[Parallel(n_jobs=-1)]: Done 4531 tasks      | elapsed:  3.3min\n",
      "[Parallel(n_jobs=-1)]: Done 5081 tasks      | elapsed:  8.8min\n",
      "[Parallel(n_jobs=-1)]: Done 5731 tasks      | elapsed: 16.9min\n",
      "[Parallel(n_jobs=-1)]: Done 6000 out of 6000 | elapsed: 17.3min finished\n"
     ]
    },
    {
     "name": "stdout",
     "output_type": "stream",
     "text": [
      "cv: 28 {'fsel__k': 3000, 'model__alpha': 0.005, 'model__l1_ratio': 0.5} -0.3556342826528477 -0.37487305188005493\n",
      "Fitting 30 folds for each of 200 candidates, totalling 6000 fits\n"
     ]
    },
    {
     "name": "stderr",
     "output_type": "stream",
     "text": [
      "[Parallel(n_jobs=-1)]: Using backend LokyBackend with 8 concurrent workers.\n",
      "[Parallel(n_jobs=-1)]: Done 160 tasks      | elapsed:    1.1s\n",
      "[Parallel(n_jobs=-1)]: Done 1360 tasks      | elapsed:    6.9s\n",
      "[Parallel(n_jobs=-1)]: Done 3360 tasks      | elapsed:   20.5s\n",
      "[Parallel(n_jobs=-1)]: Done 4081 tasks      | elapsed:  2.5min\n",
      "[Parallel(n_jobs=-1)]: Done 4531 tasks      | elapsed:  2.8min\n",
      "[Parallel(n_jobs=-1)]: Done 5081 tasks      | elapsed:  7.6min\n",
      "[Parallel(n_jobs=-1)]: Done 5731 tasks      | elapsed: 15.0min\n"
     ]
    },
    {
     "name": "stdout",
     "output_type": "stream",
     "text": [
      "cv: 29 {'fsel__k': 1000, 'model__alpha': 0.01, 'model__l1_ratio': 0.9999} -0.3193920305561052 -0.1501177206837718\n"
     ]
    },
    {
     "name": "stderr",
     "output_type": "stream",
     "text": [
      "[Parallel(n_jobs=-1)]: Done 6000 out of 6000 | elapsed: 15.5min finished\n"
     ]
    }
   ],
   "source": [
    "# we use the same model\n",
    "model, p_grid = pipe_scale_fsel_elnet()\n",
    "\n",
    "outer_cv = GroupKFold(30)\n",
    "inner_cv = GroupKFold(30)                                    \n",
    "clf = GridSearchCV(estimator=model, param_grid=p_grid, cv=inner_cv,\n",
    "                   scoring=\"neg_mean_squared_error\", verbose=True, return_train_score=False,\n",
    "                   n_jobs=-1)\n",
    "\n",
    "all_models = []\n",
    "best_params = []\n",
    "predicted = np.zeros(len(y))\n",
    "nested_scores_train = np.zeros(outer_cv.get_n_splits(X))\n",
    "nested_scores_test = np.zeros(outer_cv.get_n_splits(X))   \n",
    "                                    \n",
    "print(\"model\\tinner_cv mean score\\touter vc score\")\n",
    "i=0\n",
    "for train, test in outer_cv.split(X, y, groups=groups):\n",
    "    group_train = groups[train]  \n",
    "    \n",
    "    comb = CombatModel()\n",
    "    X_train_combat = comb.fit_transform(X[train],\n",
    "                                   np.array([df.study.astype(\"category\").cat.codes.values[train]]).transpose(),\n",
    "                                   np.array([df.Male.values[train]]).transpose(),\n",
    "                                   np.array([df.Age.values[train]]).transpose()\n",
    "                                  )\n",
    "    \n",
    "    clf.fit(X[train], y[train], groups=group_train)\n",
    "    \n",
    "    X_test_combat = comb.transform(X[test],\n",
    "                                   np.array([df.study.astype(\"category\").cat.codes.values[test]]).transpose(),\n",
    "                                   np.array([df.Male.values[test]]).transpose(),\n",
    "                                   np.array([df.Age.values[test]]).transpose()\n",
    "                                  )\n",
    "                                    \n",
    "    print('cv:', i, str(clf.best_params_) + \" \" + str(clf.best_score_) + \" \" + str(clf.score(X_test_combat, y[test])))\n",
    "                                    \n",
    "    all_models.append(clf.best_estimator_)\n",
    "    best_params.append(clf.best_params_)\n",
    "    \n",
    "    predicted[test] = clf.predict(X_test_combat)\n",
    "                                    \n",
    "    nested_scores_train[i] = clf.best_score_\n",
    "    nested_scores_test[i] = clf.score(X_test_combat, y[test])\n",
    "    i = i+1"
   ]
  },
  {
   "cell_type": "markdown",
   "metadata": {},
   "source": [
    "### Print out the unbiased, nested estimates and plot the (unbiased) nested-cv predictions"
   ]
  },
  {
   "cell_type": "code",
   "execution_count": 15,
   "metadata": {
    "ExecuteTime": {
     "end_time": "2021-07-10T10:02:08.598186Z",
     "start_time": "2021-07-10T10:02:04.508061Z"
    }
   },
   "outputs": [
    {
     "name": "stdout",
     "output_type": "stream",
     "text": [
      "*** Score on mean as model:\t-0.5655535039999882\n",
      "** Mean score in the inner crossvaludation (inner_cv):\t-0.3393077166242782\n",
      "** Mean Nested Crossvalidation Score (outer_cv):\t-0.4006737407188274\n",
      "Explained Variance: 0.2915369847680481\n",
      "Correlation: 0.5210497155635729\n"
     ]
    },
    {
     "data": {
      "image/png": "[encoded data removed]",
      "text/plain": [
       "<Figure size 432x432 with 3 Axes>"
      ]
     },
     "metadata": {
      "needs_background": "light"
     },
     "output_type": "display_data"
    }
   ],
   "source": [
    "print(\"*** Score on mean as model:\\t\" + str(-mean_squared_error(np.repeat(y.mean(), len(y)), y)))\n",
    "print(\"** Mean score in the inner crossvaludation (inner_cv):\\t\" + str(nested_scores_train.mean()))\n",
    "print(\"** Mean Nested Crossvalidation Score (outer_cv):\\t\" + str(nested_scores_test.mean()))\n",
    "print(\"Explained Variance: \" +  str( 1- nested_scores_test.mean()/-mean_squared_error(np.repeat(y.mean(), len(y)), y) ))\n",
    "print(\"Correlation: \" + str(np.corrcoef(y, predicted)[0,1]))\n",
    "                                    \n",
    "plot.plot_prediction(y, predicted, sd=True, covar=[])"
   ]
  },
  {
   "cell_type": "markdown",
   "metadata": {
    "ExecuteTime": {
     "end_time": "2021-07-01T13:39:02.470825Z",
     "start_time": "2021-07-01T13:39:02.463275Z"
    }
   },
   "source": [
    "### Save the nested-cv predictions"
   ]
  },
  {
   "cell_type": "code",
   "execution_count": 16,
   "metadata": {
    "ExecuteTime": {
     "end_time": "2021-07-10T10:02:14.867761Z",
     "start_time": "2021-07-10T10:02:14.821082Z"
    }
   },
   "outputs": [],
   "source": [
    "# save nested predictions\n",
    "np.savetxt(\"../res/multi-center/nested_cv_combat_pred_full_GroupKFold30.csv\", predicted, delimiter=\",\")"
   ]
  },
  {
   "cell_type": "code",
   "execution_count": null,
   "metadata": {},
   "outputs": [],
   "source": []
  }
 ],
 "metadata": {
  "hide_input": false,
  "kernelspec": {
   "display_name": "Python 3",
   "language": "python",
   "name": "python3"
  },
  "language_info": {
   "codemirror_mode": {
    "name": "ipython",
    "version": 3
   },
   "file_extension": ".py",
   "mimetype": "text/x-python",
   "name": "python",
   "nbconvert_exporter": "python",
   "pygments_lexer": "ipython3",
   "version": "3.7.4"
  }
 },
 "nbformat": 4,
 "nbformat_minor": 2
}
